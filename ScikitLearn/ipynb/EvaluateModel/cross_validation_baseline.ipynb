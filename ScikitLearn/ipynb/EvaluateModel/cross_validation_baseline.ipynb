{
  "nbformat": 4,
  "nbformat_minor": 5,
  "metadata": {
    "jupytext": {
      "cell_metadata_filter": "-all",
      "main_language": "python",
      "notebook_metadata_filter": "-all"
    },
    "kernelspec": {
      "display_name": "Python 3",
      "language": "python",
      "name": "python3"
    },
    "language_info": {
      "codemirror_mode": {
        "name": "ipython",
        "version": 3
      },
      "file_extension": ".py",
      "mimetype": "text/x-python",
      "name": "python",
      "nbconvert_exporter": "python",
      "pygments_lexer": "ipython3",
      "version": "3.9.2"
    },
    "nbreset": "https://github.com/INRIA/scikit-learn-mooc/raw/master/notebooks/cross_validation_baseline.ipynb",
    "colab": {
      "name": "cross_validation_baseline.ipynb",
      "provenance": [],
      "include_colab_link": true
    }
  },
  "cells": [
    {
      "cell_type": "markdown",
      "metadata": {
        "id": "view-in-github",
        "colab_type": "text"
      },
      "source": [
        "<a href=\"https://colab.research.google.com/github/MengOonLee/Python/blob/main/ScikitLearn/ipynb/EvaluateModel/cross_validation_baseline.ipynb\" target=\"_parent\"><img src=\"https://colab.research.google.com/assets/colab-badge.svg\" alt=\"Open In Colab\"/></a>"
      ]
    },
    {
      "cell_type": "markdown",
      "metadata": {
        "id": "1bab8278"
      },
      "source": [
        "# Comparing results with baseline and chance level\n",
        "\n",
        "In this notebook, we present how to compare the statistical performance of a\n",
        "model to a minimal baseline.\n",
        "\n",
        "Indeed, in the previous notebook, we compared the testing error by\n",
        "taking into account the target distribution. A good practice is to compare\n",
        "the testing error with a dummy baseline and the chance level. In\n",
        "regression, we could use the `DummyRegressor` and predict the mean target\n",
        "without using the data. The chance level can be determined by permuting the\n",
        "labels and check the difference of result.\n",
        "\n",
        "Therefore, we will conduct experiment to get the score of a model and the two\n",
        "baselines. We will start by loading the California housing dataset."
      ],
      "id": "1bab8278"
    },
    {
      "cell_type": "markdown",
      "metadata": {
        "id": "15d85d43"
      },
      "source": [
        "<div class=\"admonition note alert alert-info\">\n",
        "<p class=\"first admonition-title\" style=\"font-weight: bold;\">Note</p>\n",
        "<p class=\"last\">If you want a deeper overview regarding this dataset, you can refer to the\n",
        "Appendix - Datasets description section at the end of this MOOC.</p>\n",
        "</div>"
      ],
      "id": "15d85d43"
    },
    {
      "cell_type": "code",
      "metadata": {
        "id": "cec60380"
      },
      "source": [
        "from sklearn.datasets import fetch_california_housing\n",
        "\n",
        "data, target = fetch_california_housing(return_X_y=True, as_frame=True)\n",
        "target *= 100  # rescale the target in k$"
      ],
      "id": "cec60380",
      "execution_count": null,
      "outputs": []
    },
    {
      "cell_type": "markdown",
      "metadata": {
        "id": "e4c864d8"
      },
      "source": [
        "Across all evaluations, we will use a `ShuffleSplit` cross-validation."
      ],
      "id": "e4c864d8"
    },
    {
      "cell_type": "code",
      "metadata": {
        "id": "8b9d23a3"
      },
      "source": [
        "from sklearn.model_selection import ShuffleSplit\n",
        "\n",
        "cv = ShuffleSplit(n_splits=30, test_size=0.2, random_state=0)"
      ],
      "id": "8b9d23a3",
      "execution_count": null,
      "outputs": []
    },
    {
      "cell_type": "markdown",
      "metadata": {
        "id": "b737368e"
      },
      "source": [
        "We will start by running the cross-validation for the decision tree\n",
        "regressor which is our model of interest. Besides, we will store the\n",
        "testing error in a pandas series."
      ],
      "id": "b737368e"
    },
    {
      "cell_type": "code",
      "metadata": {
        "id": "1f40ef1f"
      },
      "source": [
        "import pandas as pd\n",
        "from sklearn.tree import DecisionTreeRegressor\n",
        "from sklearn.model_selection import cross_validate\n",
        "\n",
        "regressor = DecisionTreeRegressor()\n",
        "result_regressor = cross_validate(regressor, data, target,\n",
        "                                  cv=cv, scoring=\"neg_mean_absolute_error\",\n",
        "                                  n_jobs=-1)\n",
        "\n",
        "errors_regressor = pd.Series(-result_regressor[\"test_score\"],\n",
        "                             name=\"Regressor error\")"
      ],
      "id": "1f40ef1f",
      "execution_count": null,
      "outputs": []
    },
    {
      "cell_type": "markdown",
      "metadata": {
        "id": "0c00603c"
      },
      "source": [
        "Then, we will evaluate our first baseline. This baseline is called a dummy\n",
        "regressor. This dummy regressor will always predict the mean target computed\n",
        "on the training. Therefore, the dummy regressor will never use any\n",
        "information regarding the data `data`."
      ],
      "id": "0c00603c"
    },
    {
      "cell_type": "code",
      "metadata": {
        "id": "c71defc4"
      },
      "source": [
        "from sklearn.dummy import DummyRegressor\n",
        "\n",
        "dummy = DummyRegressor()\n",
        "result_dummy = cross_validate(dummy, data, target,\n",
        "                              cv=cv, scoring=\"neg_mean_absolute_error\",\n",
        "                              n_jobs=-1)\n",
        "errors_dummy = pd.Series(-result_dummy[\"test_score\"], name=\"Dummy error\")"
      ],
      "id": "c71defc4",
      "execution_count": null,
      "outputs": []
    },
    {
      "cell_type": "markdown",
      "metadata": {
        "id": "360d3243"
      },
      "source": [
        "Finally, we will evaluate the statistical performance of the second baseline.\n",
        "This baseline will provide the statistical performance of the chance level.\n",
        "Indeed, we will train a decision tree on some training data and evaluate the\n",
        "same tree on data where the target vector has been randomized."
      ],
      "id": "360d3243"
    },
    {
      "cell_type": "code",
      "metadata": {
        "id": "9520a27d"
      },
      "source": [
        "from sklearn.model_selection import permutation_test_score\n",
        "\n",
        "regressor = DecisionTreeRegressor()\n",
        "score, permutation_score, pvalue = permutation_test_score(\n",
        "    regressor, data, target, cv=cv, scoring=\"neg_mean_absolute_error\",\n",
        "    n_jobs=-1, n_permutations=30)\n",
        "errors_permutation = pd.Series(-permutation_score, name=\"Permuted error\")"
      ],
      "id": "9520a27d",
      "execution_count": null,
      "outputs": []
    },
    {
      "cell_type": "markdown",
      "metadata": {
        "id": "f6b958d2"
      },
      "source": [
        "Finally, we plot the testing errors for the two baselines and the\n",
        "actual regressor."
      ],
      "id": "f6b958d2"
    },
    {
      "cell_type": "code",
      "metadata": {
        "id": "6309744b"
      },
      "source": [
        "final_errors = pd.concat([errors_regressor, errors_dummy, errors_permutation],\n",
        "                         axis=1)"
      ],
      "id": "6309744b",
      "execution_count": null,
      "outputs": []
    },
    {
      "cell_type": "code",
      "metadata": {
        "id": "922a71e2"
      },
      "source": [
        "import matplotlib.pyplot as plt\n",
        "\n",
        "final_errors.plot.hist(bins=50, density=True, edgecolor=\"black\")\n",
        "plt.legend(bbox_to_anchor=(1.05, 0.8), loc=\"upper left\")\n",
        "plt.xlabel(\"Mean absolute error (k$)\")\n",
        "_ = plt.title(\"Distribution of the testing errors\")"
      ],
      "id": "922a71e2",
      "execution_count": null,
      "outputs": []
    },
    {
      "cell_type": "markdown",
      "metadata": {
        "id": "b38ccfd2"
      },
      "source": [
        "We see that even if the statistical performance of our model is far from\n",
        "being good, it is better than the two baselines. Besides, we see that the\n",
        "dummy regressor is better than a chance level regressor.\n",
        "\n",
        "In practice, using a dummy regressor might be sufficient as a baseline.\n",
        "Indeed, to obtain a reliable estimate the permutation of the target should\n",
        "be repeated and thus this method is costly. However, it gives the true\n",
        "chance level."
      ],
      "id": "b38ccfd2"
    }
  ]
}
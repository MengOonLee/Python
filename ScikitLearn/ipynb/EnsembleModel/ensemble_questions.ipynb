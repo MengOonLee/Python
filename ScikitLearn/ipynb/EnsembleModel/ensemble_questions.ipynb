{
 "cells": [
  {
   "cell_type": "code",
   "execution_count": 1,
   "metadata": {},
   "outputs": [],
   "source": [
    "import os \n",
    "\n",
    "os.makedirs(\"../../datasets\", exist_ok=True)"
   ]
  },
  {
   "cell_type": "code",
   "execution_count": 2,
   "metadata": {},
   "outputs": [],
   "source": [
    "%%bash\n",
    "\n",
    "wget -qO \"../../datasets/blood_transfusion.csv\" \"https://github.com/INRIA/scikit-learn-mooc/raw/master/datasets/blood_transfusion.csv\""
   ]
  },
  {
   "cell_type": "markdown",
   "metadata": {},
   "source": [
    "Open the dataset `blood_transfusion.csv`"
   ]
  },
  {
   "cell_type": "code",
   "execution_count": 3,
   "metadata": {},
   "outputs": [
    {
     "name": "stdout",
     "output_type": "stream",
     "text": [
      "<class 'pandas.core.frame.DataFrame'>\n",
      "RangeIndex: 748 entries, 0 to 747\n",
      "Data columns (total 5 columns):\n",
      " #   Column     Non-Null Count  Dtype \n",
      "---  ------     --------------  ----- \n",
      " 0   Recency    748 non-null    int64 \n",
      " 1   Frequency  748 non-null    int64 \n",
      " 2   Monetary   748 non-null    int64 \n",
      " 3   Time       748 non-null    int64 \n",
      " 4   Class      748 non-null    object\n",
      "dtypes: int64(4), object(1)\n",
      "memory usage: 29.3+ KB\n"
     ]
    }
   ],
   "source": [
    "import pandas as pd\n",
    "\n",
    "blood_transfusion = pd.read_csv(\"../../datasets/blood_transfusion.csv\")\n",
    "data = blood_transfusion.drop(columns='Class')\n",
    "target = blood_transfusion['Class']\n",
    "blood_transfusion.info()"
   ]
  },
  {
   "cell_type": "markdown",
   "metadata": {},
   "source": [
    "We can display an interactive diagram with the following command:"
   ]
  },
  {
   "cell_type": "code",
   "execution_count": 4,
   "metadata": {},
   "outputs": [],
   "source": [
    "from sklearn import set_config\n",
    "set_config(display='diagram')"
   ]
  },
  {
   "cell_type": "markdown",
   "metadata": {},
   "source": [
    "In this dataset, the column `\"Class\"` is the target vector containing the labels that our model should predict.\n",
    "\n",
    "For all the questions below, make a cross-validation evaluation using a 10-fold cross-validation strategy.\n",
    "\n",
    "Evaluate the performance of a `sklearn.dummy.DummyClassifier` that always predict the most frequent class seen during the training. Be aware that you can pass a list of score to compute in `sklearn.model_selection.cross_validate` by setting the parameter `scoring`.\n",
    "\n",
    "The code allowing to compute the score with the given dataset is shown below:"
   ]
  },
  {
   "cell_type": "code",
   "execution_count": 5,
   "metadata": {},
   "outputs": [
    {
     "data": {
      "text/html": [
       "<style>#sk-beabd811-d9ab-4e18-8a84-19492ce5effd {color: black;background-color: white;}#sk-beabd811-d9ab-4e18-8a84-19492ce5effd pre{padding: 0;}#sk-beabd811-d9ab-4e18-8a84-19492ce5effd div.sk-toggleable {background-color: white;}#sk-beabd811-d9ab-4e18-8a84-19492ce5effd label.sk-toggleable__label {cursor: pointer;display: block;width: 100%;margin-bottom: 0;padding: 0.2em 0.3em;box-sizing: border-box;text-align: center;}#sk-beabd811-d9ab-4e18-8a84-19492ce5effd div.sk-toggleable__content {max-height: 0;max-width: 0;overflow: hidden;text-align: left;background-color: #f0f8ff;}#sk-beabd811-d9ab-4e18-8a84-19492ce5effd div.sk-toggleable__content pre {margin: 0.2em;color: black;border-radius: 0.25em;background-color: #f0f8ff;}#sk-beabd811-d9ab-4e18-8a84-19492ce5effd input.sk-toggleable__control:checked~div.sk-toggleable__content {max-height: 200px;max-width: 100%;overflow: auto;}#sk-beabd811-d9ab-4e18-8a84-19492ce5effd div.sk-estimator input.sk-toggleable__control:checked~label.sk-toggleable__label {background-color: #d4ebff;}#sk-beabd811-d9ab-4e18-8a84-19492ce5effd div.sk-label input.sk-toggleable__control:checked~label.sk-toggleable__label {background-color: #d4ebff;}#sk-beabd811-d9ab-4e18-8a84-19492ce5effd input.sk-hidden--visually {border: 0;clip: rect(1px 1px 1px 1px);clip: rect(1px, 1px, 1px, 1px);height: 1px;margin: -1px;overflow: hidden;padding: 0;position: absolute;width: 1px;}#sk-beabd811-d9ab-4e18-8a84-19492ce5effd div.sk-estimator {font-family: monospace;background-color: #f0f8ff;margin: 0.25em 0.25em;border: 1px dotted black;border-radius: 0.25em;box-sizing: border-box;}#sk-beabd811-d9ab-4e18-8a84-19492ce5effd div.sk-estimator:hover {background-color: #d4ebff;}#sk-beabd811-d9ab-4e18-8a84-19492ce5effd div.sk-parallel-item::after {content: \"\";width: 100%;border-bottom: 1px solid gray;flex-grow: 1;}#sk-beabd811-d9ab-4e18-8a84-19492ce5effd div.sk-label:hover label.sk-toggleable__label {background-color: #d4ebff;}#sk-beabd811-d9ab-4e18-8a84-19492ce5effd div.sk-serial::before {content: \"\";position: absolute;border-left: 1px solid gray;box-sizing: border-box;top: 2em;bottom: 0;left: 50%;}#sk-beabd811-d9ab-4e18-8a84-19492ce5effd div.sk-serial {display: flex;flex-direction: column;align-items: center;background-color: white;}#sk-beabd811-d9ab-4e18-8a84-19492ce5effd div.sk-item {z-index: 1;}#sk-beabd811-d9ab-4e18-8a84-19492ce5effd div.sk-parallel {display: flex;align-items: stretch;justify-content: center;background-color: white;}#sk-beabd811-d9ab-4e18-8a84-19492ce5effd div.sk-parallel-item {display: flex;flex-direction: column;position: relative;background-color: white;}#sk-beabd811-d9ab-4e18-8a84-19492ce5effd div.sk-parallel-item:first-child::after {align-self: flex-end;width: 50%;}#sk-beabd811-d9ab-4e18-8a84-19492ce5effd div.sk-parallel-item:last-child::after {align-self: flex-start;width: 50%;}#sk-beabd811-d9ab-4e18-8a84-19492ce5effd div.sk-parallel-item:only-child::after {width: 0;}#sk-beabd811-d9ab-4e18-8a84-19492ce5effd div.sk-dashed-wrapped {border: 1px dashed gray;margin: 0.2em;box-sizing: border-box;padding-bottom: 0.1em;background-color: white;position: relative;}#sk-beabd811-d9ab-4e18-8a84-19492ce5effd div.sk-label label {font-family: monospace;font-weight: bold;background-color: white;display: inline-block;line-height: 1.2em;}#sk-beabd811-d9ab-4e18-8a84-19492ce5effd div.sk-label-container {position: relative;z-index: 2;text-align: center;}#sk-beabd811-d9ab-4e18-8a84-19492ce5effd div.sk-container {display: inline-block;position: relative;}</style><div id=\"sk-beabd811-d9ab-4e18-8a84-19492ce5effd\" class\"sk-top-container\"><div class=\"sk-container\"><div class=\"sk-item\"><div class=\"sk-estimator sk-toggleable\"><input class=\"sk-toggleable__control sk-hidden--visually\" id=\"ae04d2ab-6eb5-47cc-b4b0-4e076c42aff4\" type=\"checkbox\" checked><label class=\"sk-toggleable__label\" for=\"ae04d2ab-6eb5-47cc-b4b0-4e076c42aff4\">DummyClassifier</label><div class=\"sk-toggleable__content\"><pre>DummyClassifier(strategy='most_frequent')</pre></div></div></div></div></div>"
      ],
      "text/plain": [
       "DummyClassifier(strategy='most_frequent')"
      ]
     },
     "execution_count": 5,
     "metadata": {},
     "output_type": "execute_result"
    }
   ],
   "source": [
    "from sklearn.dummy import DummyClassifier\n",
    "\n",
    "dummy = DummyClassifier(strategy='most_frequent')\n",
    "dummy"
   ]
  },
  {
   "cell_type": "markdown",
   "metadata": {},
   "source": [
    "What the accuracy and balanced accuracy of this dummy classifier?"
   ]
  },
  {
   "cell_type": "code",
   "execution_count": 14,
   "metadata": {},
   "outputs": [
    {
     "name": "stdout",
     "output_type": "stream",
     "text": [
      "Average accuracy: 0.762 +/- 0.004\n",
      "Average balanced accuracy: 0.500 +/- 0.000\n",
      "CPU times: user 37.2 ms, sys: 0 ns, total: 37.2 ms\n",
      "Wall time: 35.6 ms\n"
     ]
    }
   ],
   "source": [
    "%%time\n",
    "from sklearn.model_selection import cross_validate\n",
    "\n",
    "cv_results = cross_validate(dummy, data, target,\n",
    "    cv=10, scoring=['accuracy', 'balanced_accuracy'])\n",
    "print(f\"Average accuracy: \"\n",
    "    f\"{cv_results['test_accuracy'].mean():.3f} +/- \"\n",
    "    f\"{cv_results['test_accuracy'].std():.3f}\")\n",
    "print(f\"Average balanced accuracy: \"\n",
    "    f\"{cv_results['test_balanced_accuracy'].mean():.3f} +/- \"\n",
    "    f\"{cv_results['test_balanced_accuracy'].std():.3f}\")"
   ]
  },
  {
   "cell_type": "markdown",
   "metadata": {},
   "source": [
    "We get an average accuracy of ~0.76 and an average balanced accuracy of ~0.5. This is due to the fact that the number of elements in each class is imbalanced.\n",
    "\n",
    "Replace the `DummyClassifier` by a `sklearn.tree.DecisionTreeClassifier` and check the statistical performance."
   ]
  },
  {
   "cell_type": "code",
   "execution_count": 10,
   "metadata": {},
   "outputs": [
    {
     "data": {
      "text/html": [
       "<style>#sk-485076f3-8c3c-4122-ad9a-a6346c3656b7 {color: black;background-color: white;}#sk-485076f3-8c3c-4122-ad9a-a6346c3656b7 pre{padding: 0;}#sk-485076f3-8c3c-4122-ad9a-a6346c3656b7 div.sk-toggleable {background-color: white;}#sk-485076f3-8c3c-4122-ad9a-a6346c3656b7 label.sk-toggleable__label {cursor: pointer;display: block;width: 100%;margin-bottom: 0;padding: 0.2em 0.3em;box-sizing: border-box;text-align: center;}#sk-485076f3-8c3c-4122-ad9a-a6346c3656b7 div.sk-toggleable__content {max-height: 0;max-width: 0;overflow: hidden;text-align: left;background-color: #f0f8ff;}#sk-485076f3-8c3c-4122-ad9a-a6346c3656b7 div.sk-toggleable__content pre {margin: 0.2em;color: black;border-radius: 0.25em;background-color: #f0f8ff;}#sk-485076f3-8c3c-4122-ad9a-a6346c3656b7 input.sk-toggleable__control:checked~div.sk-toggleable__content {max-height: 200px;max-width: 100%;overflow: auto;}#sk-485076f3-8c3c-4122-ad9a-a6346c3656b7 div.sk-estimator input.sk-toggleable__control:checked~label.sk-toggleable__label {background-color: #d4ebff;}#sk-485076f3-8c3c-4122-ad9a-a6346c3656b7 div.sk-label input.sk-toggleable__control:checked~label.sk-toggleable__label {background-color: #d4ebff;}#sk-485076f3-8c3c-4122-ad9a-a6346c3656b7 input.sk-hidden--visually {border: 0;clip: rect(1px 1px 1px 1px);clip: rect(1px, 1px, 1px, 1px);height: 1px;margin: -1px;overflow: hidden;padding: 0;position: absolute;width: 1px;}#sk-485076f3-8c3c-4122-ad9a-a6346c3656b7 div.sk-estimator {font-family: monospace;background-color: #f0f8ff;margin: 0.25em 0.25em;border: 1px dotted black;border-radius: 0.25em;box-sizing: border-box;}#sk-485076f3-8c3c-4122-ad9a-a6346c3656b7 div.sk-estimator:hover {background-color: #d4ebff;}#sk-485076f3-8c3c-4122-ad9a-a6346c3656b7 div.sk-parallel-item::after {content: \"\";width: 100%;border-bottom: 1px solid gray;flex-grow: 1;}#sk-485076f3-8c3c-4122-ad9a-a6346c3656b7 div.sk-label:hover label.sk-toggleable__label {background-color: #d4ebff;}#sk-485076f3-8c3c-4122-ad9a-a6346c3656b7 div.sk-serial::before {content: \"\";position: absolute;border-left: 1px solid gray;box-sizing: border-box;top: 2em;bottom: 0;left: 50%;}#sk-485076f3-8c3c-4122-ad9a-a6346c3656b7 div.sk-serial {display: flex;flex-direction: column;align-items: center;background-color: white;}#sk-485076f3-8c3c-4122-ad9a-a6346c3656b7 div.sk-item {z-index: 1;}#sk-485076f3-8c3c-4122-ad9a-a6346c3656b7 div.sk-parallel {display: flex;align-items: stretch;justify-content: center;background-color: white;}#sk-485076f3-8c3c-4122-ad9a-a6346c3656b7 div.sk-parallel-item {display: flex;flex-direction: column;position: relative;background-color: white;}#sk-485076f3-8c3c-4122-ad9a-a6346c3656b7 div.sk-parallel-item:first-child::after {align-self: flex-end;width: 50%;}#sk-485076f3-8c3c-4122-ad9a-a6346c3656b7 div.sk-parallel-item:last-child::after {align-self: flex-start;width: 50%;}#sk-485076f3-8c3c-4122-ad9a-a6346c3656b7 div.sk-parallel-item:only-child::after {width: 0;}#sk-485076f3-8c3c-4122-ad9a-a6346c3656b7 div.sk-dashed-wrapped {border: 1px dashed gray;margin: 0.2em;box-sizing: border-box;padding-bottom: 0.1em;background-color: white;position: relative;}#sk-485076f3-8c3c-4122-ad9a-a6346c3656b7 div.sk-label label {font-family: monospace;font-weight: bold;background-color: white;display: inline-block;line-height: 1.2em;}#sk-485076f3-8c3c-4122-ad9a-a6346c3656b7 div.sk-label-container {position: relative;z-index: 2;text-align: center;}#sk-485076f3-8c3c-4122-ad9a-a6346c3656b7 div.sk-container {display: inline-block;position: relative;}</style><div id=\"sk-485076f3-8c3c-4122-ad9a-a6346c3656b7\" class\"sk-top-container\"><div class=\"sk-container\"><div class=\"sk-item\"><div class=\"sk-estimator sk-toggleable\"><input class=\"sk-toggleable__control sk-hidden--visually\" id=\"cc02f1ce-ca9d-4f69-a4a3-5a1724101d9c\" type=\"checkbox\" checked><label class=\"sk-toggleable__label\" for=\"cc02f1ce-ca9d-4f69-a4a3-5a1724101d9c\">DecisionTreeClassifier</label><div class=\"sk-toggleable__content\"><pre>DecisionTreeClassifier(random_state=0)</pre></div></div></div></div></div>"
      ],
      "text/plain": [
       "DecisionTreeClassifier(random_state=0)"
      ]
     },
     "execution_count": 10,
     "metadata": {},
     "output_type": "execute_result"
    }
   ],
   "source": [
    "from sklearn.tree import DecisionTreeClassifier\n",
    "\n",
    "tree = DecisionTreeClassifier(random_state=0)\n",
    "tree"
   ]
  },
  {
   "cell_type": "markdown",
   "metadata": {},
   "source": [
    "Is a single decision classifier better than a dummy classifier, by an increase of at least 0.04 of the balanced accuracy?"
   ]
  },
  {
   "cell_type": "code",
   "execution_count": 15,
   "metadata": {},
   "outputs": [
    {
     "name": "stdout",
     "output_type": "stream",
     "text": [
      "Average balanced accuracy: 0.516 +/- 0.100\n",
      "CPU times: user 22.8 ms, sys: 25.1 ms, total: 47.9 ms\n",
      "Wall time: 810 ms\n"
     ]
    }
   ],
   "source": [
    "%%time\n",
    "from sklearn.model_selection import cross_val_score\n",
    "\n",
    "scores_tree = cross_val_score(tree, data, target,\n",
    "    cv=10, scoring='balanced_accuracy', n_jobs=2)\n",
    "print(f\"Average balanced accuracy: \"\n",
    "    f\"{scores_tree.mean():.3f} +/- \"\n",
    "    f\"{scores_tree.std():.3f}\")"
   ]
  },
  {
   "cell_type": "markdown",
   "metadata": {},
   "source": [
    "Evaluate the performance of a `sklearn.ensemble.RandomForestClassifier` using 300 trees."
   ]
  },
  {
   "cell_type": "code",
   "execution_count": 18,
   "metadata": {},
   "outputs": [
    {
     "data": {
      "text/html": [
       "<style>#sk-9bce4c7e-499d-49fd-9720-e013fd9de5c3 {color: black;background-color: white;}#sk-9bce4c7e-499d-49fd-9720-e013fd9de5c3 pre{padding: 0;}#sk-9bce4c7e-499d-49fd-9720-e013fd9de5c3 div.sk-toggleable {background-color: white;}#sk-9bce4c7e-499d-49fd-9720-e013fd9de5c3 label.sk-toggleable__label {cursor: pointer;display: block;width: 100%;margin-bottom: 0;padding: 0.2em 0.3em;box-sizing: border-box;text-align: center;}#sk-9bce4c7e-499d-49fd-9720-e013fd9de5c3 div.sk-toggleable__content {max-height: 0;max-width: 0;overflow: hidden;text-align: left;background-color: #f0f8ff;}#sk-9bce4c7e-499d-49fd-9720-e013fd9de5c3 div.sk-toggleable__content pre {margin: 0.2em;color: black;border-radius: 0.25em;background-color: #f0f8ff;}#sk-9bce4c7e-499d-49fd-9720-e013fd9de5c3 input.sk-toggleable__control:checked~div.sk-toggleable__content {max-height: 200px;max-width: 100%;overflow: auto;}#sk-9bce4c7e-499d-49fd-9720-e013fd9de5c3 div.sk-estimator input.sk-toggleable__control:checked~label.sk-toggleable__label {background-color: #d4ebff;}#sk-9bce4c7e-499d-49fd-9720-e013fd9de5c3 div.sk-label input.sk-toggleable__control:checked~label.sk-toggleable__label {background-color: #d4ebff;}#sk-9bce4c7e-499d-49fd-9720-e013fd9de5c3 input.sk-hidden--visually {border: 0;clip: rect(1px 1px 1px 1px);clip: rect(1px, 1px, 1px, 1px);height: 1px;margin: -1px;overflow: hidden;padding: 0;position: absolute;width: 1px;}#sk-9bce4c7e-499d-49fd-9720-e013fd9de5c3 div.sk-estimator {font-family: monospace;background-color: #f0f8ff;margin: 0.25em 0.25em;border: 1px dotted black;border-radius: 0.25em;box-sizing: border-box;}#sk-9bce4c7e-499d-49fd-9720-e013fd9de5c3 div.sk-estimator:hover {background-color: #d4ebff;}#sk-9bce4c7e-499d-49fd-9720-e013fd9de5c3 div.sk-parallel-item::after {content: \"\";width: 100%;border-bottom: 1px solid gray;flex-grow: 1;}#sk-9bce4c7e-499d-49fd-9720-e013fd9de5c3 div.sk-label:hover label.sk-toggleable__label {background-color: #d4ebff;}#sk-9bce4c7e-499d-49fd-9720-e013fd9de5c3 div.sk-serial::before {content: \"\";position: absolute;border-left: 1px solid gray;box-sizing: border-box;top: 2em;bottom: 0;left: 50%;}#sk-9bce4c7e-499d-49fd-9720-e013fd9de5c3 div.sk-serial {display: flex;flex-direction: column;align-items: center;background-color: white;}#sk-9bce4c7e-499d-49fd-9720-e013fd9de5c3 div.sk-item {z-index: 1;}#sk-9bce4c7e-499d-49fd-9720-e013fd9de5c3 div.sk-parallel {display: flex;align-items: stretch;justify-content: center;background-color: white;}#sk-9bce4c7e-499d-49fd-9720-e013fd9de5c3 div.sk-parallel-item {display: flex;flex-direction: column;position: relative;background-color: white;}#sk-9bce4c7e-499d-49fd-9720-e013fd9de5c3 div.sk-parallel-item:first-child::after {align-self: flex-end;width: 50%;}#sk-9bce4c7e-499d-49fd-9720-e013fd9de5c3 div.sk-parallel-item:last-child::after {align-self: flex-start;width: 50%;}#sk-9bce4c7e-499d-49fd-9720-e013fd9de5c3 div.sk-parallel-item:only-child::after {width: 0;}#sk-9bce4c7e-499d-49fd-9720-e013fd9de5c3 div.sk-dashed-wrapped {border: 1px dashed gray;margin: 0.2em;box-sizing: border-box;padding-bottom: 0.1em;background-color: white;position: relative;}#sk-9bce4c7e-499d-49fd-9720-e013fd9de5c3 div.sk-label label {font-family: monospace;font-weight: bold;background-color: white;display: inline-block;line-height: 1.2em;}#sk-9bce4c7e-499d-49fd-9720-e013fd9de5c3 div.sk-label-container {position: relative;z-index: 2;text-align: center;}#sk-9bce4c7e-499d-49fd-9720-e013fd9de5c3 div.sk-container {display: inline-block;position: relative;}</style><div id=\"sk-9bce4c7e-499d-49fd-9720-e013fd9de5c3\" class\"sk-top-container\"><div class=\"sk-container\"><div class=\"sk-item\"><div class=\"sk-estimator sk-toggleable\"><input class=\"sk-toggleable__control sk-hidden--visually\" id=\"a0c3ad17-8a5c-4a1f-b781-1b194d11cfd6\" type=\"checkbox\" checked><label class=\"sk-toggleable__label\" for=\"a0c3ad17-8a5c-4a1f-b781-1b194d11cfd6\">RandomForestClassifier</label><div class=\"sk-toggleable__content\"><pre>RandomForestClassifier(n_estimators=300, n_jobs=2, random_state=0)</pre></div></div></div></div></div>"
      ],
      "text/plain": [
       "RandomForestClassifier(n_estimators=300, n_jobs=2, random_state=0)"
      ]
     },
     "execution_count": 18,
     "metadata": {},
     "output_type": "execute_result"
    }
   ],
   "source": [
    "from sklearn.ensemble import RandomForestClassifier\n",
    "\n",
    "rf = RandomForestClassifier(\n",
    "    n_estimators=300, n_jobs=2, random_state=0)\n",
    "rf"
   ]
  },
  {
   "cell_type": "markdown",
   "metadata": {},
   "source": [
    "Is random forest better than a dummy classifier, by an increase of at least 0.04 of the balanced accuracy?\n",
    "\n",
    "We can evaluate the random forest classifier with the following code."
   ]
  },
  {
   "cell_type": "code",
   "execution_count": 17,
   "metadata": {},
   "outputs": [
    {
     "name": "stdout",
     "output_type": "stream",
     "text": [
      "Average balanced accuracy: 0.521 +/- 0.069\n",
      "CPU times: user 31.4 ms, sys: 14.6 ms, total: 46 ms\n",
      "Wall time: 1.24 s\n"
     ]
    }
   ],
   "source": [
    "%%time\n",
    "\n",
    "scores_rf = cross_val_score(rf, data, target,\n",
    "    cv=10, scoring='balanced_accuracy', n_jobs=2)\n",
    "print(f\"Average balanced accuracy: \"\n",
    "    f\"{scores_rf.mean():.3f} +/- \"\n",
    "    f\"{scores_rf.std():.3f}\")"
   ]
  },
  {
   "cell_type": "markdown",
   "metadata": {},
   "source": [
    "Compare a `sklearn.ensemble.GradientBoostingClassifier` and a `sklearn.ensemble.RandomForestClassifier` with both 300 trees. To do so, repeat 10 times a 10-fold cross-validation by using the balanced accuracy as metric. For each of the 10 try, compute the average of the cross-validation score for both models. Count how many times a model is better than the other.\n",
    "\n",
    "On average, is the gradient boosting better than the random forest?"
   ]
  },
  {
   "cell_type": "code",
   "execution_count": null,
   "metadata": {},
   "outputs": [],
   "source": []
  }
 ],
 "metadata": {
  "kernelspec": {
   "display_name": "Python 3",
   "language": "python",
   "name": "python3"
  },
  "language_info": {
   "codemirror_mode": {
    "name": "ipython",
    "version": 3
   },
   "file_extension": ".py",
   "mimetype": "text/x-python",
   "name": "python",
   "nbconvert_exporter": "python",
   "pygments_lexer": "ipython3",
   "version": "3.8.10"
  }
 },
 "nbformat": 4,
 "nbformat_minor": 4
}

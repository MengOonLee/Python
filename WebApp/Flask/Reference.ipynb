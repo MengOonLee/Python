{
 "cells": [
  {
   "cell_type": "code",
   "execution_count": null,
   "id": "ec8c3f96-773a-472b-a9b6-b7be8c9c29b3",
   "metadata": {},
   "outputs": [],
   "source": [
    "import os\n",
    "\n",
    "if not os.path.exists('./templates'): \n",
    "    os.makedirs('./templates')\n",
    "    \n",
    "if not os.path.exists('./static'):\n",
    "    os.makedirs('./static')"
   ]
  },
  {
   "cell_type": "code",
   "execution_count": 15,
   "id": "f09fcb58-3730-43c2-ad21-7b767cc501a0",
   "metadata": {},
   "outputs": [
    {
     "name": "stdout",
     "output_type": "stream",
     "text": [
      "Writing hello.py\n"
     ]
    }
   ],
   "source": [
    "%%file hello.py\n",
    "from flask import Flask, request\n",
    "\n",
    "app = Flask(__name__)\n",
    "\n",
    "@app.route('/')\n",
    "def welcome():\n",
    "    return 'This is root page'\n",
    "\n",
    "@app.route('/hello')\n",
    "def hello():\n",
    "    \"\"\"Return a friendly HTTP greeting\"\"\"\n",
    "    print('I am inside hello world')\n",
    "    return 'Hello World!'\n",
    "\n",
    "@app.route('/echo/<name>')\n",
    "def echo(name):\n",
    "    \"\"\"echo <name>\"\"\"\n",
    "    return f'Hello {name}'\n",
    "\n",
    "@app.route('/method', methods=['GET', 'POST'])\n",
    "def method():\n",
    "    if request.method == 'POST':\n",
    "        return \"You've used a Post request.\"\n",
    "    else:\n",
    "        return \"I reckon you're probally using a GET request.\"\n",
    "\n",
    "@app.route('/query-example')\n",
    "def query_example():\n",
    "    language = request.args.get('language')\n",
    "    return '''<h1>The language value is: {} </h1>'''.format(language)\n",
    "  \n",
    "if __name__=='__main__':\n",
    "    app.run(host='0.0.0.0', debug=True)"
   ]
  },
  {
   "cell_type": "code",
   "execution_count": 2,
   "id": "005bc706-2dad-41f8-b08d-1111c5fcae08",
   "metadata": {},
   "outputs": [
    {
     "name": "stdout",
     "output_type": "stream",
     "text": [
      "HTTP/1.0 200 OK\n",
      "Content-Type: text/html; charset=utf-8\n",
      "Content-Length: 39\n",
      "Server: Werkzeug/2.0.2 Python/3.8.10\n",
      "Date: Fri, 15 Oct 2021 14:27:20 GMT\n",
      "\n",
      "<h1>The language value is: Python </h1>HTTP/1.0 200 OK\n",
      "Content-Type: text/html; charset=utf-8\n",
      "Content-Length: 27\n",
      "Server: Werkzeug/2.0.2 Python/3.8.10\n",
      "Date: Fri, 15 Oct 2021 14:27:20 GMT\n",
      "\n",
      "You've used a Post request."
     ]
    },
    {
     "name": "stderr",
     "output_type": "stream",
     "text": [
      "  % Total    % Received % Xferd  Average Speed   Time    Time     Time  Current\n",
      "                                 Dload  Upload   Total   Spent    Left  Speed\n",
      "100    39  100    39    0     0  13000      0 --:--:-- --:--:-- --:--:-- 13000\n",
      "  % Total    % Received % Xferd  Average Speed   Time    Time     Time  Current\n",
      "                                 Dload  Upload   Total   Spent    Left  Speed\n",
      "100    27  100    27    0     0  13500      0 --:--:-- --:--:-- --:--:-- 27000\n"
     ]
    }
   ],
   "source": [
    "%%bash\n",
    "\n",
    "curl -i http://192.168.0.116:5000/query-example?language=Python\n",
    "\n",
    "curl -i http://192.168.0.116:5000/method \\\n",
    "-X POST"
   ]
  },
  {
   "cell_type": "code",
   "execution_count": 3,
   "id": "c8ecbad8-0b8d-4e7b-a081-71b64b278274",
   "metadata": {},
   "outputs": [
    {
     "name": "stdout",
     "output_type": "stream",
     "text": [
      "Writing restful.py\n"
     ]
    }
   ],
   "source": [
    "%%file restful.py\n",
    "from flask import Flask\n",
    "from flask_restful import Resource, Api\n",
    "\n",
    "app = Flask(__name__)\n",
    "api = Api(app)\n",
    "\n",
    "class Student(Resource):\n",
    "    def get(self, name):\n",
    "        return {'student': name}\n",
    "    \n",
    "api.add_resource(Student, '/student/<string:name>')\n",
    "\n",
    "if __name__=='__main__':\n",
    "    app.run(host='0.0.0.0', debug=True)"
   ]
  },
  {
   "cell_type": "code",
   "execution_count": 4,
   "id": "c385adc8-02b0-4130-b8a0-2b38131d0e60",
   "metadata": {},
   "outputs": [
    {
     "name": "stdout",
     "output_type": "stream",
     "text": [
      "HTTP/1.0 200 OK\n",
      "Content-Type: application/json\n",
      "Content-Length: 26\n",
      "Server: Werkzeug/2.0.2 Python/3.8.10\n",
      "Date: Fri, 15 Oct 2021 14:28:02 GMT\n",
      "\n",
      "{\n",
      "    \"student\": \"Meng\"\n",
      "}\n"
     ]
    },
    {
     "name": "stderr",
     "output_type": "stream",
     "text": [
      "  % Total    % Received % Xferd  Average Speed   Time    Time     Time  Current\n",
      "                                 Dload  Upload   Total   Spent    Left  Speed\n",
      "100    26  100    26    0     0  13000      0 --:--:-- --:--:-- --:--:-- 13000\n"
     ]
    }
   ],
   "source": [
    "%%bash\n",
    "\n",
    "curl -i http://192.168.0.116:5000/student/Meng"
   ]
  },
  {
   "cell_type": "code",
   "execution_count": 5,
   "id": "5f69e85a-8307-4fba-991c-a2ddc92a2f60",
   "metadata": {},
   "outputs": [
    {
     "name": "stdout",
     "output_type": "stream",
     "text": [
      "Writing change.py\n"
     ]
    }
   ],
   "source": [
    "%%file change.py\n",
    "from flask import Flask\n",
    "from flask import jsonify\n",
    "\n",
    "app = Flask(__name__)\n",
    "\n",
    "def change(amount):\n",
    "    # calculate the resultant change and store the result (res)\n",
    "    res = []\n",
    "    coins = [1, 5, 10, 25] # value of pennies, nickels, dimes, quarters\n",
    "    coin_lookup = {25: \"quarters\", 10: \"dimes\", 5: \"nickels\", 1: \"pennies\"}\n",
    "    # divide the amount*100 (the amount in cents) by a coin value\n",
    "    # record the number of coins that evenly divide and the remainder\n",
    "    coin = coins.pop()\n",
    "    num, rem = divmod(int(amount*100), coin)\n",
    "    # append the coin type and number of coins that had no remainder\n",
    "    res.append({num:coin_lookup[coin]})\n",
    "    # while there is still some remainder, continue adding coins to the result\n",
    "    while rem > 0:\n",
    "        coin = coins.pop()\n",
    "        num, rem = divmod(rem, coin)\n",
    "        if num:\n",
    "            if coin in coin_lookup:\n",
    "                res.append({num:coin_lookup[coin]})\n",
    "    return res\n",
    "\n",
    "@app.route('/')\n",
    "def hello():\n",
    "    \"\"\"Return a friendly HTTP greeting.\"\"\"\n",
    "    print('I am inside hello world')\n",
    "    return 'Hello World! I can make change at route: /change'\n",
    "\n",
    "@app.route('/change/<dollar>/<cents>')\n",
    "def changeroute(dollar, cents):\n",
    "    print(f'Make change for {dollar}.{cents}')\n",
    "    amount = f'{dollar}.{cents}'\n",
    "    result = change(float(amount))\n",
    "    return jsonify(result)\n",
    "\n",
    "if __name__=='__main__':\n",
    "    app.run(host='0.0.0.0', debug=True)"
   ]
  },
  {
   "cell_type": "code",
   "execution_count": 6,
   "id": "17843b49-e45b-4fea-a0fc-aee9d6246c16",
   "metadata": {},
   "outputs": [
    {
     "name": "stdout",
     "output_type": "stream",
     "text": [
      "Writing test_with_pytest.py\n"
     ]
    }
   ],
   "source": [
    "%%file test_with_pytest.py\n",
    "from change import change\n",
    "\n",
    "def test_change():\n",
    "    assert [{5: 'quarters'}, {1: 'nickels'}, {4: 'pennies'}] == change(1.34)"
   ]
  },
  {
   "cell_type": "code",
   "execution_count": 7,
   "id": "3facc058-2b6d-4fae-afc4-dfac153f2faa",
   "metadata": {},
   "outputs": [
    {
     "name": "stdout",
     "output_type": "stream",
     "text": [
      "HTTP/1.0 200 OK\n",
      "Content-Type: application/json\n",
      "Content-Length: 90\n",
      "Server: Werkzeug/2.0.2 Python/3.8.10\n",
      "Date: Fri, 15 Oct 2021 14:28:32 GMT\n",
      "\n",
      "[\n",
      "  {\n",
      "    \"5\": \"quarters\"\n",
      "  }, \n",
      "  {\n",
      "    \"1\": \"nickels\"\n",
      "  }, \n",
      "  {\n",
      "    \"4\": \"pennies\"\n",
      "  }\n",
      "]\n"
     ]
    },
    {
     "name": "stderr",
     "output_type": "stream",
     "text": [
      "bash: line 2: pytest: command not found\n",
      "  % Total    % Received % Xferd  Average Speed   Time    Time     Time  Current\n",
      "                                 Dload  Upload   Total   Spent    Left  Speed\n",
      "100    90  100    90    0     0  90000      0 --:--:-- --:--:-- --:--:-- 90000\n"
     ]
    }
   ],
   "source": [
    "%%bash\n",
    "\n",
    "pytest\n",
    "curl -i http://192.168.0.116:5000/change/1/34"
   ]
  },
  {
   "cell_type": "code",
   "execution_count": 8,
   "id": "0582457f-2fec-4e66-acbf-0a2e250b09ec",
   "metadata": {},
   "outputs": [
    {
     "name": "stdout",
     "output_type": "stream",
     "text": [
      "Writing query.py\n"
     ]
    }
   ],
   "source": [
    "%%file query.py\n",
    "from flask import Flask, request\n",
    "\n",
    "app = Flask(__name__)\n",
    "\n",
    "@app.route('/query-example')\n",
    "def query_example():\n",
    "    language = request.args.get('language')\n",
    "    framework = request.args['framework']\n",
    "    website = request.args.get('website')\n",
    "    return \"\"\"\n",
    "        <h1>The language value is: {}</h1>\n",
    "        <h1>The framework value is: {}</h1>\n",
    "        <h1>The website values is {}</h1>\n",
    "        \"\"\".format(language, framework, website)\n",
    "\n",
    "@app.route('/form-example', methods=['Get', 'Post'])\n",
    "def form_example():\n",
    "    if request.method == 'POST':\n",
    "        language = request.form.get('language')\n",
    "        framework = request.form.get('framework')\n",
    "        return \"\"\"\n",
    "            <h1>The language value is: {}</h1>\n",
    "            <h1>The framework value is: {}</h1>\n",
    "            \"\"\".format(language, framework)\n",
    "    else:\n",
    "        language = request.args.get('language')\n",
    "        framework = request.args['framework']\n",
    "        return \"\"\"\n",
    "            <h1>The language value is: {}</h1>\n",
    "            <h1>The framework value is: {}\n",
    "            \"\"\".format(language, framework)\n",
    "    \n",
    "@app.route('/json-example', methods=['POST'])\n",
    "def json_example():\n",
    "    request_data = request.get_json()\n",
    "    \n",
    "    if request_data:\n",
    "        if 'language' in request_data:\n",
    "            language = request_data['language']\n",
    "        \n",
    "        if 'framework' in request_data:\n",
    "            framework = request_data['framework']\n",
    "    \n",
    "    return \"\"\"\n",
    "        <h1>The language value is: {}</h1>\n",
    "        <h1>The framework value is: {}\n",
    "        \"\"\".format(language, framework)    \n",
    "\n",
    "if __name__=='__main__':\n",
    "    app.run(host='0.0.0.0', debug=True)"
   ]
  },
  {
   "cell_type": "code",
   "execution_count": 9,
   "id": "dd8ec2a5-0119-4acb-9463-9bb4e40e942a",
   "metadata": {},
   "outputs": [
    {
     "name": "stdout",
     "output_type": "stream",
     "text": [
      "HTTP/1.0 200 OK\n",
      "Content-Type: text/html; charset=utf-8\n",
      "Content-Length: 147\n",
      "Server: Werkzeug/2.0.2 Python/3.8.10\n",
      "Date: Fri, 15 Oct 2021 14:28:59 GMT\n",
      "\n",
      "\n",
      "        <h1>The language value is: Python</h1>\n",
      "        <h1>The framework value is: Flask</h1>\n",
      "        <h1>The website values is meng</h1>\n",
      "        HTTP/1.0 200 OK\n",
      "Content-Type: text/html; charset=utf-8\n",
      "Content-Length: 110\n",
      "Server: Werkzeug/2.0.2 Python/3.8.10\n",
      "Date: Fri, 15 Oct 2021 14:28:59 GMT\n",
      "\n",
      "\n",
      "            <h1>The language value is: Python</h1>\n",
      "            <h1>The framework value is: Flask\n",
      "            HTTP/1.0 200 OK\n",
      "Content-Type: text/html; charset=utf-8\n",
      "Content-Length: 115\n",
      "Server: Werkzeug/2.0.2 Python/3.8.10\n",
      "Date: Fri, 15 Oct 2021 14:28:59 GMT\n",
      "\n",
      "\n",
      "            <h1>The language value is: Python</h1>\n",
      "            <h1>The framework value is: Flask</h1>\n",
      "            HTTP/1.0 200 OK\n",
      "Content-Type: text/html; charset=utf-8\n",
      "Content-Length: 98\n",
      "Server: Werkzeug/2.0.2 Python/3.8.10\n",
      "Date: Fri, 15 Oct 2021 14:28:59 GMT\n",
      "\n",
      "\n",
      "        <h1>The language value is: Python</h1>\n",
      "        <h1>The framework value is: Flask\n",
      "        "
     ]
    },
    {
     "name": "stderr",
     "output_type": "stream",
     "text": [
      "  % Total    % Received % Xferd  Average Speed   Time    Time     Time  Current\n",
      "                                 Dload  Upload   Total   Spent    Left  Speed\n",
      "100   147  100   147    0     0  73500      0 --:--:-- --:--:-- --:--:--  143k\n",
      "  % Total    % Received % Xferd  Average Speed   Time    Time     Time  Current\n",
      "                                 Dload  Upload   Total   Spent    Left  Speed\n",
      "100   110  100   110    0     0  55000      0 --:--:-- --:--:-- --:--:--  107k\n",
      "  % Total    % Received % Xferd  Average Speed   Time    Time     Time  Current\n",
      "                                 Dload  Upload   Total   Spent    Left  Speed\n",
      "100   367  100   115  100   252  23000  50400 --:--:-- --:--:-- --:--:-- 73400\n",
      "  % Total    % Received % Xferd  Average Speed   Time    Time     Time  Current\n",
      "                                 Dload  Upload   Total   Spent    Left  Speed\n",
      "100   140  100    98  100    42  49000  21000 --:--:-- --:--:-- --:--:-- 70000\n"
     ]
    }
   ],
   "source": [
    "%%bash\n",
    "\n",
    "curl -i \"http://192.168.0.116:5000/query-example?language=Python&framework=Flask&website=meng\"\n",
    "\n",
    "curl -i \"http://192.168.0.116:5000/form-example?language=Python&framework=Flask\"\n",
    "\n",
    "curl -i \"http://192.168.0.116:5000/form-example\" \\\n",
    "-X POST \\\n",
    "-F 'language=Python' \\\n",
    "-F 'framework=Flask'\n",
    "\n",
    "curl -i \"http://192.168.0.116:5000/json-example\" \\\n",
    "-H 'Content-Type: application/json' \\\n",
    "-X POST \\\n",
    "-d '{\"language\":\"Python\", \"framework\":\"Flask\"}'"
   ]
  },
  {
   "cell_type": "code",
   "execution_count": 10,
   "id": "c46a593f-4835-4aa5-8bae-e39849743c41",
   "metadata": {},
   "outputs": [
    {
     "name": "stdout",
     "output_type": "stream",
     "text": [
      "Writing home.py\n"
     ]
    }
   ],
   "source": [
    "%%file home.py\n",
    "from flask import Blueprint\n",
    "\n",
    "home_bp = Blueprint('home', __name__)\n",
    "\n",
    "@home_bp.route('/hello/')\n",
    "def hello():\n",
    "    return \"Hello from Home Page\", 200"
   ]
  },
  {
   "cell_type": "code",
   "execution_count": 11,
   "id": "8cd1ff5b-6fe1-4d2d-8c4e-8ff15214bc8b",
   "metadata": {},
   "outputs": [
    {
     "name": "stdout",
     "output_type": "stream",
     "text": [
      "Writing increment.py\n"
     ]
    }
   ],
   "source": [
    "%%file increment.py\n",
    "from flask import Blueprint, jsonify\n",
    "\n",
    "increment_bp = Blueprint('increment', __name__)\n",
    "\n",
    "@increment_bp.route('/<int:number>')\n",
    "def increment(number):\n",
    "    return jsonify(list(range(number))), 200"
   ]
  },
  {
   "cell_type": "code",
   "execution_count": 12,
   "id": "e916a4e9-f97d-4baf-a54d-71cb281d11b9",
   "metadata": {},
   "outputs": [
    {
     "name": "stdout",
     "output_type": "stream",
     "text": [
      "Writing app.py\n"
     ]
    }
   ],
   "source": [
    "%%file app.py\n",
    "from flask import Flask\n",
    "from home import home_bp\n",
    "from increment import increment_bp\n",
    "\n",
    "app = Flask(__name__)\n",
    "\n",
    "app.register_blueprint(home_bp, url_prefix='/home')\n",
    "app.register_blueprint(increment_bp, url_prefix='/increment')\n",
    "\n",
    "if __name__=='__main__':\n",
    "    app.run(host='0.0.0.0', debug=True)"
   ]
  },
  {
   "cell_type": "code",
   "execution_count": 13,
   "id": "7bdc6ad9-b5d3-425b-aac1-07f594dfe896",
   "metadata": {},
   "outputs": [
    {
     "name": "stdout",
     "output_type": "stream",
     "text": [
      "HTTP/1.0 200 OK\n",
      "Content-Type: text/html; charset=utf-8\n",
      "Content-Length: 20\n",
      "Server: Werkzeug/2.0.2 Python/3.8.10\n",
      "Date: Fri, 15 Oct 2021 14:31:02 GMT\n",
      "\n",
      "Hello from Home PageHTTP/1.0 200 OK\n",
      "Content-Type: application/json\n",
      "Content-Length: 32\n",
      "Server: Werkzeug/2.0.2 Python/3.8.10\n",
      "Date: Fri, 15 Oct 2021 14:31:02 GMT\n",
      "\n",
      "[\n",
      "  0, \n",
      "  1, \n",
      "  2, \n",
      "  3, \n",
      "  4\n",
      "]\n"
     ]
    },
    {
     "name": "stderr",
     "output_type": "stream",
     "text": [
      "  % Total    % Received % Xferd  Average Speed   Time    Time     Time  Current\n",
      "                                 Dload  Upload   Total   Spent    Left  Speed\n",
      "100    20  100    20    0     0  10000      0 --:--:-- --:--:-- --:--:-- 10000\n",
      "  % Total    % Received % Xferd  Average Speed   Time    Time     Time  Current\n",
      "                                 Dload  Upload   Total   Spent    Left  Speed\n",
      "100    32  100    32    0     0  16000      0 --:--:-- --:--:-- --:--:-- 16000\n"
     ]
    }
   ],
   "source": [
    "%%bash\n",
    "\n",
    "curl -i \"http://192.168.0.116:5000/home/hello/\"\n",
    "\n",
    "curl -i \"http://192.168.0.116:5000/increment/5\""
   ]
  },
  {
   "cell_type": "code",
   "execution_count": 47,
   "id": "11d56c50-0e82-4f07-ab6f-79b540ecef97",
   "metadata": {},
   "outputs": [
    {
     "name": "stdout",
     "output_type": "stream",
     "text": [
      "Overwriting log.py\n"
     ]
    }
   ],
   "source": [
    "%%file log.py\n",
    "from flask import Flask, abort\n",
    "\n",
    "app = Flask(__name__)\n",
    "\n",
    "@app.before_request\n",
    "def before():\n",
    "    print(\"This is executed BEFORE each request.\")\n",
    "    \n",
    "@app.route('/logs')\n",
    "def logs():\n",
    "    app.logger.debug('This is a DEBUG message')\n",
    "    app.logger.info('This is an INFO message')\n",
    "    app.logger.warning('This is a WARNING message')\n",
    "    app.logger.error('This is an ERROR message')\n",
    "    return \"Hello World!\", 200\n",
    "\n",
    "if __name__=='__main__':\n",
    "    app.run(host='0.0.0.0', debug=True)"
   ]
  },
  {
   "cell_type": "code",
   "execution_count": 48,
   "id": "2bc4bdde-c33f-4d79-b734-82e259f6b12d",
   "metadata": {},
   "outputs": [
    {
     "name": "stdout",
     "output_type": "stream",
     "text": [
      "HTTP/1.0 200 OK\n",
      "Content-Type: text/html; charset=utf-8\n",
      "Content-Length: 12\n",
      "Server: Werkzeug/2.0.2 Python/3.8.10\n",
      "Date: Fri, 15 Oct 2021 15:34:11 GMT\n",
      "\n",
      "Hello World!"
     ]
    },
    {
     "name": "stderr",
     "output_type": "stream",
     "text": [
      "  % Total    % Received % Xferd  Average Speed   Time    Time     Time  Current\n",
      "                                 Dload  Upload   Total   Spent    Left  Speed\n",
      "100    12  100    12    0     0   3000      0 --:--:-- --:--:-- --:--:--  3000\n"
     ]
    }
   ],
   "source": [
    "%%bash\n",
    "\n",
    "curl -i \"http://192.168.0.116:5000/logs\""
   ]
  },
  {
   "cell_type": "code",
   "execution_count": 49,
   "id": "5a8ced48-3339-4cbb-a4f3-ab35cc856210",
   "metadata": {},
   "outputs": [],
   "source": [
    "%%bash\n",
    "\n",
    "rm -rf *.py"
   ]
  }
 ],
 "metadata": {
  "kernelspec": {
   "display_name": "Python 3 (ipykernel)",
   "language": "python",
   "name": "python3"
  },
  "language_info": {
   "codemirror_mode": {
    "name": "ipython",
    "version": 3
   },
   "file_extension": ".py",
   "mimetype": "text/x-python",
   "name": "python",
   "nbconvert_exporter": "python",
   "pygments_lexer": "ipython3",
   "version": "3.8.10"
  }
 },
 "nbformat": 4,
 "nbformat_minor": 5
}

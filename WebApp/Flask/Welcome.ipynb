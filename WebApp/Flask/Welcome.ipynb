{
 "cells": [
  {
   "cell_type": "code",
   "execution_count": 11,
   "id": "f09fcb58-3730-43c2-ad21-7b767cc501a0",
   "metadata": {},
   "outputs": [
    {
     "name": "stdout",
     "output_type": "stream",
     "text": [
      "Overwriting hello.py\n"
     ]
    }
   ],
   "source": [
    "%%file hello.py\n",
    "from flask import Flask\n",
    "\n",
    "app = Flask(__name__)\n",
    "\n",
    "@app.route('/')\n",
    "def welcome():\n",
    "    return 'This is root page'\n",
    "\n",
    "@app.route('/hello')\n",
    "def hello():\n",
    "    \"\"\"Return a friendly HTTP greeting\"\"\"\n",
    "    print('I am inside hello world')\n",
    "    return 'Hello World!'\n",
    "\n",
    "@app.route('/echo/<name>')\n",
    "def echo(name):\n",
    "    \"\"\"echo <name>\"\"\"\n",
    "    return f'Hello {name}'\n",
    "  \n",
    "if __name__=='__main__':\n",
    "    app.run(host='0.0.0.0', debug=True)"
   ]
  },
  {
   "cell_type": "code",
   "execution_count": 14,
   "id": "005bc706-2dad-41f8-b08d-1111c5fcae08",
   "metadata": {},
   "outputs": [
    {
     "name": "stdout",
     "output_type": "stream",
     "text": [
      "HTTP/1.0 200 OK\n",
      "Content-Type: text/html; charset=utf-8\n",
      "Content-Length: 10\n",
      "Server: Werkzeug/2.0.2 Python/3.8.10\n",
      "Date: Sun, 10 Oct 2021 14:57:47 GMT\n",
      "\n",
      "Hello Meng"
     ]
    },
    {
     "name": "stderr",
     "output_type": "stream",
     "text": [
      "  % Total    % Received % Xferd  Average Speed   Time    Time     Time  Current\n",
      "                                 Dload  Upload   Total   Spent    Left  Speed\n",
      "100    10  100    10    0     0  10000      0 --:--:-- --:--:-- --:--:-- 10000\n"
     ]
    }
   ],
   "source": [
    "%%bash\n",
    "\n",
    "curl -i http://192.168.0.116:5000/echo/Meng"
   ]
  },
  {
   "cell_type": "code",
   "execution_count": 4,
   "id": "c8ecbad8-0b8d-4e7b-a081-71b64b278274",
   "metadata": {},
   "outputs": [
    {
     "name": "stdout",
     "output_type": "stream",
     "text": [
      "Overwriting restful.py\n"
     ]
    }
   ],
   "source": [
    "%%file restful.py\n",
    "from flask import Flask\n",
    "from flask_restful import Resource, Api\n",
    "\n",
    "app = Flask(__name__)\n",
    "api = Api(app)\n",
    "\n",
    "class Student(Resource):\n",
    "    def get(self, name):\n",
    "        return {'student': name}\n",
    "    \n",
    "api.add_resource(Student, '/student/<string:name>')\n",
    "\n",
    "if __name__=='__main__':\n",
    "    app.run(host='0.0.0.0', debug=True)"
   ]
  },
  {
   "cell_type": "code",
   "execution_count": 5,
   "id": "c385adc8-02b0-4130-b8a0-2b38131d0e60",
   "metadata": {},
   "outputs": [
    {
     "name": "stdout",
     "output_type": "stream",
     "text": [
      "HTTP/1.0 200 OK\n",
      "Content-Type: application/json\n",
      "Content-Length: 26\n",
      "Server: Werkzeug/2.0.2 Python/3.8.10\n",
      "Date: Sun, 10 Oct 2021 13:24:00 GMT\n",
      "\n",
      "{\n",
      "    \"student\": \"Meng\"\n",
      "}\n"
     ]
    },
    {
     "name": "stderr",
     "output_type": "stream",
     "text": [
      "  % Total    % Received % Xferd  Average Speed   Time    Time     Time  Current\n",
      "                                 Dload  Upload   Total   Spent    Left  Speed\n",
      "100    26  100    26    0     0   6500      0 --:--:-- --:--:-- --:--:--  8666\n"
     ]
    }
   ],
   "source": [
    "%%bash\n",
    "\n",
    "curl -i http://192.168.0.116:5000/student/Meng"
   ]
  },
  {
   "cell_type": "code",
   "execution_count": 8,
   "id": "5f69e85a-8307-4fba-991c-a2ddc92a2f60",
   "metadata": {},
   "outputs": [
    {
     "name": "stdout",
     "output_type": "stream",
     "text": [
      "Overwriting change.py\n"
     ]
    }
   ],
   "source": [
    "%%file change.py\n",
    "from flask import Flask\n",
    "from flask import jsonify\n",
    "\n",
    "app = Flask(__name__)\n",
    "\n",
    "def change(amount):\n",
    "    # calculate the resultant change and store the result (res)\n",
    "    res = []\n",
    "    coins = [1, 5, 10, 25] # value of pennies, nickels, dimes, quarters\n",
    "    coin_lookup = {25: \"quarters\", 10: \"dimes\", 5: \"nickels\", 1: \"pennies\"}\n",
    "    # divide the amount*100 (the amount in cents) by a coin value\n",
    "    # record the number of coins that evenly divide and the remainder\n",
    "    coin = coins.pop()\n",
    "    num, rem = divmod(int(amount*100), coin)\n",
    "    # append the coin type and number of coins that had no remainder\n",
    "    res.append({num:coin_lookup[coin]})\n",
    "    # while there is still some remainder, continue adding coins to the result\n",
    "    while rem > 0:\n",
    "        coin = coins.pop()\n",
    "        num, rem = divmod(rem, coin)\n",
    "        if num:\n",
    "            if coin in coin_lookup:\n",
    "                res.append({num:coin_lookup[coin]})\n",
    "    return res\n",
    "\n",
    "@app.route('/')\n",
    "def hello():\n",
    "    \"\"\"Return a friendly HTTP greeting.\"\"\"\n",
    "    print('I am inside hello world')\n",
    "    return 'Hello World! I can make change at route: /change'\n",
    "\n",
    "@app.route('/change/<dollar>/<cents>')\n",
    "def changeroute(dollar, cents):\n",
    "    print(f'Make change for {dollar}.{cents}')\n",
    "    amount = f'{dollar}.{cents}'\n",
    "    result = change(float(amount))\n",
    "    return jsonify(result)\n",
    "\n",
    "if __name__=='__main__':\n",
    "    app.run(host='0.0.0.0', debug=True)"
   ]
  },
  {
   "cell_type": "code",
   "execution_count": 9,
   "id": "17843b49-e45b-4fea-a0fc-aee9d6246c16",
   "metadata": {},
   "outputs": [
    {
     "name": "stdout",
     "output_type": "stream",
     "text": [
      "Overwriting test_with_pytest.py\n"
     ]
    }
   ],
   "source": [
    "%%file test_with_pytest.py\n",
    "from change import change\n",
    "\n",
    "def test_change():\n",
    "    assert [{5: 'quarters'}, {1: 'nickels'}, {4: 'pennies'}] == change(1.34)"
   ]
  },
  {
   "cell_type": "code",
   "execution_count": 10,
   "id": "3facc058-2b6d-4fae-afc4-dfac153f2faa",
   "metadata": {},
   "outputs": [
    {
     "name": "stdout",
     "output_type": "stream",
     "text": [
      "============================= test session starts ==============================\n",
      "platform linux -- Python 3.8.11, pytest-6.2.4, py-1.10.0, pluggy-0.13.1\n",
      "rootdir: /home/meng/work/Python/WebApp/Flask\n",
      "plugins: anyio-2.2.0\n",
      "collected 1 item\n",
      "\n",
      "test_with_pytest.py .                                                    [100%]\n",
      "\n",
      "============================== 1 passed in 0.11s ===============================\n",
      "HTTP/1.0 200 OK\n",
      "Content-Type: application/json\n",
      "Content-Length: 90\n",
      "Server: Werkzeug/2.0.2 Python/3.8.10\n",
      "Date: Sun, 10 Oct 2021 13:26:05 GMT\n",
      "\n",
      "[\n",
      "  {\n",
      "    \"5\": \"quarters\"\n",
      "  }, \n",
      "  {\n",
      "    \"1\": \"nickels\"\n",
      "  }, \n",
      "  {\n",
      "    \"4\": \"pennies\"\n",
      "  }\n",
      "]\n"
     ]
    },
    {
     "name": "stderr",
     "output_type": "stream",
     "text": [
      "  % Total    % Received % Xferd  Average Speed   Time    Time     Time  Current\n",
      "                                 Dload  Upload   Total   Spent    Left  Speed\n",
      "100    90  100    90    0     0  30000      0 --:--:-- --:--:-- --:--:-- 30000\n"
     ]
    }
   ],
   "source": [
    "%%bash\n",
    "\n",
    "pytest\n",
    "curl -i http://192.168.0.116:5000/change/1/34"
   ]
  },
  {
   "cell_type": "code",
   "execution_count": null,
   "id": "5a8ced48-3339-4cbb-a4f3-ab35cc856210",
   "metadata": {},
   "outputs": [],
   "source": []
  }
 ],
 "metadata": {
  "kernelspec": {
   "display_name": "Python 3 (ipykernel)",
   "language": "python",
   "name": "python3"
  },
  "language_info": {
   "codemirror_mode": {
    "name": "ipython",
    "version": 3
   },
   "file_extension": ".py",
   "mimetype": "text/x-python",
   "name": "python",
   "nbconvert_exporter": "python",
   "pygments_lexer": "ipython3",
   "version": "3.8.0"
  }
 },
 "nbformat": 4,
 "nbformat_minor": 5
}

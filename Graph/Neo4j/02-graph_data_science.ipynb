{
  "nbformat": 4,
  "nbformat_minor": 5,
  "metadata": {
    "kernelspec": {
      "display_name": "Python 3",
      "language": "python",
      "name": "python3"
    },
    "language_info": {
      "codemirror_mode": {
        "name": "ipython",
        "version": 3
      },
      "file_extension": ".py",
      "mimetype": "text/x-python",
      "name": "python",
      "nbconvert_exporter": "python",
      "pygments_lexer": "ipython3",
      "version": "3.8.8"
    },
    "colab": {
      "name": "02-graph_data_science.ipynb",
      "provenance": [],
      "include_colab_link": true
    }
  },
  "cells": [
    {
      "cell_type": "markdown",
      "metadata": {
        "id": "view-in-github",
        "colab_type": "text"
      },
      "source": [
        "<a href=\"https://colab.research.google.com/github/MengOonLee/Python/blob/main/notebooks/02-graph_data_science.ipynb\" target=\"_parent\"><img src=\"https://colab.research.google.com/assets/colab-badge.svg\" alt=\"Open In Colab\"/></a>"
      ]
    },
    {
      "cell_type": "markdown",
      "metadata": {
        "id": "Akl86LYwJrra"
      },
      "source": [
        "# Time to do some data science!!!\n",
        "\n",
        "Note that if you have pre-populated your database using the files in `json_files`, you can just start up with this notebook.\n",
        "\n",
        "If you are running this on Google Colab, run the following cells to import the necessary packages."
      ],
      "id": "Akl86LYwJrra"
    },
    {
      "cell_type": "code",
      "metadata": {
        "id": "ONyJc1ybJrrd",
        "outputId": "e607aecd-0277-49e4-823c-a24a6172eb84",
        "colab": {
          "base_uri": "https://localhost:8080/"
        }
      },
      "source": [
        "!pip install py2neo"
      ],
      "id": "ONyJc1ybJrrd",
      "execution_count": 1,
      "outputs": [
        {
          "output_type": "stream",
          "name": "stdout",
          "text": [
            "Collecting py2neo\n",
            "  Downloading py2neo-2021.2.0-py2.py3-none-any.whl (176 kB)\n",
            "\u001b[?25l\r\u001b[K     |█▉                              | 10 kB 22.0 MB/s eta 0:00:01\r\u001b[K     |███▊                            | 20 kB 27.7 MB/s eta 0:00:01\r\u001b[K     |█████▋                          | 30 kB 13.3 MB/s eta 0:00:01\r\u001b[K     |███████▍                        | 40 kB 9.5 MB/s eta 0:00:01\r\u001b[K     |█████████▎                      | 51 kB 5.2 MB/s eta 0:00:01\r\u001b[K     |███████████▏                    | 61 kB 5.1 MB/s eta 0:00:01\r\u001b[K     |█████████████                   | 71 kB 5.5 MB/s eta 0:00:01\r\u001b[K     |██████████████▉                 | 81 kB 6.1 MB/s eta 0:00:01\r\u001b[K     |████████████████▊               | 92 kB 4.6 MB/s eta 0:00:01\r\u001b[K     |██████████████████▌             | 102 kB 5.0 MB/s eta 0:00:01\r\u001b[K     |████████████████████▍           | 112 kB 5.0 MB/s eta 0:00:01\r\u001b[K     |██████████████████████▎         | 122 kB 5.0 MB/s eta 0:00:01\r\u001b[K     |████████████████████████        | 133 kB 5.0 MB/s eta 0:00:01\r\u001b[K     |██████████████████████████      | 143 kB 5.0 MB/s eta 0:00:01\r\u001b[K     |███████████████████████████▉    | 153 kB 5.0 MB/s eta 0:00:01\r\u001b[K     |█████████████████████████████▊  | 163 kB 5.0 MB/s eta 0:00:01\r\u001b[K     |███████████████████████████████▌| 174 kB 5.0 MB/s eta 0:00:01\r\u001b[K     |████████████████████████████████| 176 kB 5.0 MB/s \n",
            "\u001b[?25hCollecting pansi>=2020.7.3\n",
            "  Downloading pansi-2020.7.3-py2.py3-none-any.whl (10 kB)\n",
            "Requirement already satisfied: pygments>=2.0.0 in /usr/local/lib/python3.7/dist-packages (from py2neo) (2.6.1)\n",
            "Collecting interchange~=2021.0.3\n",
            "  Downloading interchange-2021.0.3-py2.py3-none-any.whl (29 kB)\n",
            "Collecting monotonic\n",
            "  Downloading monotonic-1.6-py2.py3-none-any.whl (8.2 kB)\n",
            "Requirement already satisfied: urllib3 in /usr/local/lib/python3.7/dist-packages (from py2neo) (1.24.3)\n",
            "Requirement already satisfied: packaging in /usr/local/lib/python3.7/dist-packages (from py2neo) (21.0)\n",
            "Requirement already satisfied: certifi in /usr/local/lib/python3.7/dist-packages (from py2neo) (2021.5.30)\n",
            "Requirement already satisfied: six>=1.15.0 in /usr/local/lib/python3.7/dist-packages (from py2neo) (1.15.0)\n",
            "Requirement already satisfied: pytz in /usr/local/lib/python3.7/dist-packages (from interchange~=2021.0.3->py2neo) (2018.9)\n",
            "Requirement already satisfied: pyparsing>=2.0.2 in /usr/local/lib/python3.7/dist-packages (from packaging->py2neo) (2.4.7)\n",
            "Installing collected packages: pansi, monotonic, interchange, py2neo\n",
            "Successfully installed interchange-2021.0.3 monotonic-1.6 pansi-2020.7.3 py2neo-2021.2.0\n"
          ]
        }
      ]
    },
    {
      "cell_type": "code",
      "metadata": {
        "id": "88k8J2vCJrre"
      },
      "source": [
        "%matplotlib inline\n",
        "\n",
        "import json\n",
        "import re\n",
        "import urllib\n",
        "from pprint import pprint\n",
        "import time\n",
        "from tqdm import tqdm\n",
        "\n",
        "from py2neo import Node, Graph, Relationship, NodeMatcher\n",
        "from py2neo.bulk import merge_nodes\n",
        "\n",
        "import numpy as np\n",
        "import pandas as pd\n",
        "\n",
        "from sklearn.metrics import accuracy_score\n",
        "from sklearn.model_selection import train_test_split\n",
        "from sklearn import svm\n",
        "from sklearn.metrics import plot_confusion_matrix\n",
        "\n",
        "import matplotlib.pyplot as plt\n",
        "from mpl_toolkits.mplot3d import Axes3D\n",
        "import seaborn as sns"
      ],
      "id": "88k8J2vCJrre",
      "execution_count": 2,
      "outputs": []
    },
    {
      "cell_type": "code",
      "metadata": {
        "id": "DmU1tPzbJrrf"
      },
      "source": [
        "# If you are using a Docker container for your DB, use the uncommented line.\n",
        "# graph = Graph(\"bolt://some_ip_address:7687\", name=\"neo4j\", password=\"some_password\")\n",
        "\n",
        "uri = 'bolt://18.208.204.80:7687'\n",
        "user = 'neo4j'\n",
        "pwd = 'spear-august-plastic'\n",
        "\n",
        "graph = Graph(uri, auth=('neo4j', pwd))\n",
        "nodes_matcher = NodeMatcher(graph)"
      ],
      "id": "DmU1tPzbJrrf",
      "execution_count": 3,
      "outputs": []
    },
    {
      "cell_type": "markdown",
      "metadata": {
        "id": "ZElnRo2eJrrf"
      },
      "source": [
        "# Let's try some more entity disambiguation\n",
        "\n",
        "Recall in the previous notebook that we looked at the cosine similarity of word vectors.  Instead, now let's look at the overlap of the relationships between our starting node, 'oh bah mə', and  'barack hussein obama ii'.  We might expect if there was strong similarity that we would see a lot of relationship overlap.  "
      ],
      "id": "ZElnRo2eJrrf"
    },
    {
      "cell_type": "code",
      "metadata": {
        "id": "9gpaL4MBJrrg",
        "outputId": "b19ac207-285c-4970-f927-7ed7d66fcaf7",
        "colab": {
          "base_uri": "https://localhost:8080/"
        }
      },
      "source": [
        "pbo_ls = []\n",
        "pbo = graph.run('MATCH (n:Node {name: \"president barack obama\"})--(m) RETURN DISTINCT m.name')\n",
        "for record in pbo:\n",
        "    pbo_ls.append(record[0])\n",
        "print('Total number of connected nodes: ', len(pbo_ls))\n",
        "pbo_ls"
      ],
      "id": "9gpaL4MBJrrg",
      "execution_count": 4,
      "outputs": [
        {
          "output_type": "stream",
          "name": "stdout",
          "text": [
            "Total number of connected nodes:  1\n"
          ]
        },
        {
          "output_type": "execute_result",
          "data": {
            "text/plain": [
              "['affordable care act']"
            ]
          },
          "metadata": {},
          "execution_count": 4
        }
      ]
    },
    {
      "cell_type": "code",
      "metadata": {
        "id": "78KY4efDJrrg",
        "outputId": "d0cdb88e-bcec-47b9-c4c5-0a44c0d420e3",
        "colab": {
          "base_uri": "https://localhost:8080/"
        }
      },
      "source": [
        "obm_ls = []\n",
        "obm = graph.run('MATCH (n:Node {name: \"oh bah mə\"})--(m) RETURN DISTINCT m.name')\n",
        "for record in obm:\n",
        "    obm_ls.append(record[0])\n",
        "print('Total number of connected nodes: ', len(obm_ls))"
      ],
      "id": "78KY4efDJrrg",
      "execution_count": 5,
      "outputs": [
        {
          "output_type": "stream",
          "name": "stdout",
          "text": [
            "Total number of connected nodes:  115\n"
          ]
        }
      ]
    },
    {
      "cell_type": "code",
      "metadata": {
        "id": "067KrsZVJrrh",
        "outputId": "8d58d440-cc01-4af2-ff2d-cc8919614778",
        "colab": {
          "base_uri": "https://localhost:8080/"
        }
      },
      "source": [
        "pbo_set = set(pbo_ls)\n",
        "obm_set = set(obm_ls)\n",
        "if (pbo_set & obm_set):\n",
        "    print('Number of overlapping elements: ', len(pbo_set & obm_set))\n",
        "    print('Percent of overlapping elements: ', len(pbo_set & obm_set)/len(pbo_ls))\n",
        "    print(pbo_set & obm_set)"
      ],
      "id": "067KrsZVJrrh",
      "execution_count": 6,
      "outputs": [
        {
          "output_type": "stream",
          "name": "stdout",
          "text": [
            "Number of overlapping elements:  1\n",
            "Percent of overlapping elements:  1.0\n",
            "{'affordable care act'}\n"
          ]
        }
      ]
    },
    {
      "cell_type": "markdown",
      "metadata": {
        "id": "fUGtDwr9Jrri"
      },
      "source": [
        "# Observation\n",
        "\n",
        "So we can see that 100% of the nodes connected to 'barack hussein obama ii' are in the connected node list of 'oh bah mə'.  This is a strong indicator that the former might be the same entity as the later.\n",
        "\n",
        "# Now let's connect to the graph and do some ML\n",
        "\n",
        "Here we are going to take advantage of the ability to both run Cypher queries in `py2neo` as well as to write the results to a Pandas DataFrame."
      ],
      "id": "fUGtDwr9Jrri"
    },
    {
      "cell_type": "code",
      "metadata": {
        "id": "QVWNP26pJrri",
        "outputId": "533fddd8-9497-4ae3-d2c6-311c50e30354",
        "colab": {
          "base_uri": "https://localhost:8080/",
          "height": 394
        }
      },
      "source": [
        "df = graph.run('MATCH (n:Node) RETURN n.name, n.node_labels, n.pptu_person, n.pptu_place, n.pptu_thing, n.pptu_unknown, n.word_vec, n.n2v_all_nodes').to_data_frame()\n",
        "df.columns = ['name', 'node_labels', 'pptu_person', 'pptu_place', \n",
        "              'pptu_thing', 'pptu_unknown', 'word_vec', 'n2v_all_nodes']\n",
        "df2 = df.fillna(0)\n",
        "df2.head()"
      ],
      "id": "QVWNP26pJrri",
      "execution_count": 8,
      "outputs": [
        {
          "output_type": "execute_result",
          "data": {
            "text/html": [
              "<div>\n",
              "<style scoped>\n",
              "    .dataframe tbody tr th:only-of-type {\n",
              "        vertical-align: middle;\n",
              "    }\n",
              "\n",
              "    .dataframe tbody tr th {\n",
              "        vertical-align: top;\n",
              "    }\n",
              "\n",
              "    .dataframe thead th {\n",
              "        text-align: right;\n",
              "    }\n",
              "</style>\n",
              "<table border=\"1\" class=\"dataframe\">\n",
              "  <thead>\n",
              "    <tr style=\"text-align: right;\">\n",
              "      <th></th>\n",
              "      <th>name</th>\n",
              "      <th>node_labels</th>\n",
              "      <th>pptu_person</th>\n",
              "      <th>pptu_place</th>\n",
              "      <th>pptu_thing</th>\n",
              "      <th>pptu_unknown</th>\n",
              "      <th>word_vec</th>\n",
              "      <th>n2v_all_nodes</th>\n",
              "    </tr>\n",
              "  </thead>\n",
              "  <tbody>\n",
              "    <tr>\n",
              "      <th>0</th>\n",
              "      <td>oh bah mə</td>\n",
              "      <td>[Subject]</td>\n",
              "      <td>0.0</td>\n",
              "      <td>0.0</td>\n",
              "      <td>0.0</td>\n",
              "      <td>1.0</td>\n",
              "      <td>[-0.1991655146019209, -0.05351358562798536, 0....</td>\n",
              "      <td>[0.18112878501415253, -0.47955241799354553, -0...</td>\n",
              "    </tr>\n",
              "    <tr>\n",
              "      <th>1</th>\n",
              "      <td>american politician</td>\n",
              "      <td>[Thing]</td>\n",
              "      <td>0.0</td>\n",
              "      <td>0.0</td>\n",
              "      <td>1.0</td>\n",
              "      <td>0.0</td>\n",
              "      <td>[0.9046064000913427, -0.06662843142911079, -0....</td>\n",
              "      <td>[0.30045008659362793, -0.30946946144104004, -0...</td>\n",
              "    </tr>\n",
              "    <tr>\n",
              "      <th>2</th>\n",
              "      <td>44th president</td>\n",
              "      <td>[]</td>\n",
              "      <td>0.0</td>\n",
              "      <td>0.0</td>\n",
              "      <td>0.0</td>\n",
              "      <td>1.0</td>\n",
              "      <td>[-0.6116204374121308, 0.8407635611020317, 0.39...</td>\n",
              "      <td>[0.6328045129776001, 0.10880929231643677, -0.1...</td>\n",
              "    </tr>\n",
              "    <tr>\n",
              "      <th>3</th>\n",
              "      <td>united states</td>\n",
              "      <td>[Place, Thing, Country, AdministrativeArea]</td>\n",
              "      <td>0.0</td>\n",
              "      <td>1.0</td>\n",
              "      <td>1.0</td>\n",
              "      <td>0.0</td>\n",
              "      <td>[-0.06853523850440979, 0.20753547549247742, -0...</td>\n",
              "      <td>[-0.18566887080669403, 0.07726525515317917, -0...</td>\n",
              "    </tr>\n",
              "    <tr>\n",
              "      <th>4</th>\n",
              "      <td>democratic party</td>\n",
              "      <td>[Thing, Organization]</td>\n",
              "      <td>1.0</td>\n",
              "      <td>0.0</td>\n",
              "      <td>1.0</td>\n",
              "      <td>0.0</td>\n",
              "      <td>[0.03246232122182846, 0.12774689495563507, -0....</td>\n",
              "      <td>[0.3136329650878906, -0.1716482937335968, -0.8...</td>\n",
              "    </tr>\n",
              "  </tbody>\n",
              "</table>\n",
              "</div>"
            ],
            "text/plain": [
              "                  name  ...                                      n2v_all_nodes\n",
              "0            oh bah mə  ...  [0.18112878501415253, -0.47955241799354553, -0...\n",
              "1  american politician  ...  [0.30045008659362793, -0.30946946144104004, -0...\n",
              "2       44th president  ...  [0.6328045129776001, 0.10880929231643677, -0.1...\n",
              "3        united states  ...  [-0.18566887080669403, 0.07726525515317917, -0...\n",
              "4     democratic party  ...  [0.3136329650878906, -0.1716482937335968, -0.8...\n",
              "\n",
              "[5 rows x 8 columns]"
            ]
          },
          "metadata": {},
          "execution_count": 8
        }
      ]
    },
    {
      "cell_type": "markdown",
      "metadata": {
        "id": "nrl9q80GJrrj"
      },
      "source": [
        "# Create a variety of `X` variables for the model (in the style of `scikit-learn`)..."
      ],
      "id": "nrl9q80GJrrj"
    },
    {
      "cell_type": "code",
      "metadata": {
        "id": "bvW6gvhGJrrj"
      },
      "source": [
        "def create_X(df2):\n",
        "\n",
        "    word_vec_ls = df2['word_vec'].to_list()\n",
        "    word_vec_arr = np.array([np.array(x) if x != 0 else np.zeros(300).tolist() for x in word_vec_ls], dtype=object)\n",
        "\n",
        "    n2v_an_ls = df2['n2v_all_nodes'].to_list()\n",
        "    n2v_arr = np.array([np.array(x) for x in n2v_an_ls], dtype=object)\n",
        "\n",
        "    print(word_vec_arr.shape, n2v_arr.shape)\n",
        "    \n",
        "    return word_vec_arr, n2v_arr"
      ],
      "id": "bvW6gvhGJrrj",
      "execution_count": 9,
      "outputs": []
    },
    {
      "cell_type": "code",
      "metadata": {
        "id": "HivnieaFJrrj",
        "outputId": "330b9b41-a65e-42c3-d999-d9a01afa83af",
        "colab": {
          "base_uri": "https://localhost:8080/"
        }
      },
      "source": [
        "X_word_vec, X_all_nodes = create_X(df2)"
      ],
      "id": "HivnieaFJrrj",
      "execution_count": 10,
      "outputs": [
        {
          "output_type": "stream",
          "name": "stdout",
          "text": [
            "(657, 300) (657, 10)\n"
          ]
        }
      ]
    },
    {
      "cell_type": "markdown",
      "metadata": {
        "id": "mKJaHqVyJrrk"
      },
      "source": [
        "# Out of convenience...\n",
        "\n",
        "...we are creating this function that will run a support vector machine classifier to see how well the different embeddings do at predicting different labels.  We do note that this is a multi-label problem (Person, Place, Thing, Unknown), but for simplicity we are going to evaluate the prediction against single labels within that dataset.  The interested reader is encouraged to try more sophisticated models that can handle the multi-label problem better.\n",
        "\n",
        "We also show below that each of the classes is significantly imbalanced.  The interested participant is encourage to experiment with balancing the classes to see how this impacts the overall accuracy."
      ],
      "id": "mKJaHqVyJrrk"
    },
    {
      "cell_type": "code",
      "metadata": {
        "id": "SEbnSs_XJrrk"
      },
      "source": [
        "def modeler(df, column_name, X, k_folds=5, model='linear', show_matrix=True):\n",
        "    \n",
        "    y = df[column_name].fillna(0.0).to_numpy()\n",
        "    acc_scores = []\n",
        "    \n",
        "    pos = np.count_nonzero(y == 1.0)\n",
        "    neg = y.shape[0] - pos\n",
        "    print('Number of positive: ', pos, ' Number of negative: ', neg)\n",
        "    \n",
        "    for i in range(0, k_folds):\n",
        "        \n",
        "        X_train, X_test, y_train, y_test = train_test_split(X_word_vec, y, test_size=0.25)\n",
        "        clf = svm.SVC(kernel='linear')\n",
        "        clf.fit(X_train, y_train)\n",
        "        pred = clf.predict(X_test)\n",
        "\n",
        "        acc = accuracy_score(pred, y_test)\n",
        "        acc_scores.append(acc)        \n",
        "        \n",
        "    print('Accuracy scores: ', acc_scores)\n",
        "    print('Mean accuracy: ', np.mean(acc_scores))\n",
        "    \n",
        "    if show_matrix:\n",
        "        matrix = plot_confusion_matrix(clf, X_test, y_test, cmap=plt.cm.Blues, normalize='true')\n",
        "        plt.show(matrix)\n",
        "        plt.show()\n",
        "        \n",
        "    return"
      ],
      "id": "SEbnSs_XJrrk",
      "execution_count": 11,
      "outputs": []
    },
    {
      "cell_type": "code",
      "metadata": {
        "id": "F3XerezfJrrl",
        "outputId": "14f98bca-3562-48f4-bce8-34c44f5a8cf7",
        "colab": {
          "base_uri": "https://localhost:8080/",
          "height": 354
        }
      },
      "source": [
        "modeler(df2, 'pptu_person', X_word_vec)"
      ],
      "id": "F3XerezfJrrl",
      "execution_count": 12,
      "outputs": [
        {
          "output_type": "stream",
          "name": "stdout",
          "text": [
            "Number of positive:  119  Number of negative:  538\n",
            "Accuracy scores:  [0.8545454545454545, 0.8424242424242424, 0.8545454545454545, 0.8606060606060606, 0.8424242424242424]\n",
            "Mean accuracy:  0.850909090909091\n"
          ]
        },
        {
          "output_type": "display_data",
          "data": {
            "image/png": "[encoded data removed]",
            "text/plain": [
              "<Figure size 432x288 with 2 Axes>"
            ]
          },
          "metadata": {
            "needs_background": "light"
          }
        }
      ]
    },
    {
      "cell_type": "code",
      "metadata": {
        "id": "sCbV42YZJrrl",
        "outputId": "37d86f4d-cbec-4d03-e94d-23d094a8cc8c",
        "colab": {
          "base_uri": "https://localhost:8080/",
          "height": 350
        }
      },
      "source": [
        "modeler(df2, 'pptu_person', X_all_nodes)"
      ],
      "id": "sCbV42YZJrrl",
      "execution_count": 13,
      "outputs": [
        {
          "output_type": "stream",
          "name": "stdout",
          "text": [
            "Number of positive:  119  Number of negative:  538\n",
            "Accuracy scores:  [0.806060606060606, 0.8606060606060606, 0.806060606060606, 0.8666666666666667, 0.8181818181818182]\n",
            "Mean accuracy:  0.8315151515151514\n"
          ]
        },
        {
          "output_type": "display_data",
          "data": {
            "image/png": "[encoded data removed]",
            "text/plain": [
              "<Figure size 432x288 with 2 Axes>"
            ]
          },
          "metadata": {
            "needs_background": "light"
          }
        }
      ]
    },
    {
      "cell_type": "code",
      "metadata": {
        "id": "PCkcY-pBJrrl",
        "outputId": "d0527d55-982b-45e7-85d4-76ca5ed0d9d1",
        "colab": {
          "base_uri": "https://localhost:8080/",
          "height": 351
        }
      },
      "source": [
        "modeler(df2, 'pptu_place', X_word_vec)"
      ],
      "id": "PCkcY-pBJrrl",
      "execution_count": 14,
      "outputs": [
        {
          "output_type": "stream",
          "name": "stdout",
          "text": [
            "Number of positive:  77  Number of negative:  580\n",
            "Accuracy scores:  [0.9333333333333333, 0.9454545454545454, 0.9454545454545454, 0.9151515151515152, 0.9090909090909091]\n",
            "Mean accuracy:  0.9296969696969697\n"
          ]
        },
        {
          "output_type": "display_data",
          "data": {
            "image/png": "[encoded data removed]",
            "text/plain": [
              "<Figure size 432x288 with 2 Axes>"
            ]
          },
          "metadata": {
            "needs_background": "light"
          }
        }
      ]
    },
    {
      "cell_type": "code",
      "metadata": {
        "id": "je4KmNSiJrrm",
        "outputId": "b1a6362d-586b-468c-e1c1-a1c5818d5b2e",
        "colab": {
          "base_uri": "https://localhost:8080/",
          "height": 350
        }
      },
      "source": [
        "modeler(df2, 'pptu_place', X_all_nodes)"
      ],
      "id": "je4KmNSiJrrm",
      "execution_count": 15,
      "outputs": [
        {
          "output_type": "stream",
          "name": "stdout",
          "text": [
            "Number of positive:  77  Number of negative:  580\n",
            "Accuracy scores:  [0.9333333333333333, 0.9636363636363636, 0.9272727272727272, 0.9333333333333333, 0.9272727272727272]\n",
            "Mean accuracy:  0.9369696969696971\n"
          ]
        },
        {
          "output_type": "display_data",
          "data": {
            "image/png": "[encoded data removed]",
            "text/plain": [
              "<Figure size 432x288 with 2 Axes>"
            ]
          },
          "metadata": {
            "needs_background": "light"
          }
        }
      ]
    },
    {
      "cell_type": "code",
      "metadata": {
        "id": "HvVbkeP9Jrrm",
        "outputId": "c65e6a23-1d01-475b-af1f-a12ba5e2c80c",
        "colab": {
          "base_uri": "https://localhost:8080/",
          "height": 350
        }
      },
      "source": [
        "modeler(df2, 'pptu_thing', X_word_vec)"
      ],
      "id": "HvVbkeP9Jrrm",
      "execution_count": 16,
      "outputs": [
        {
          "output_type": "stream",
          "name": "stdout",
          "text": [
            "Number of positive:  539  Number of negative:  118\n",
            "Accuracy scores:  [0.9333333333333333, 0.9272727272727272, 0.9272727272727272, 0.9212121212121213, 0.9151515151515152]\n",
            "Mean accuracy:  0.924848484848485\n"
          ]
        },
        {
          "output_type": "display_data",
          "data": {
            "image/png": "[encoded data removed]",
            "text/plain": [
              "<Figure size 432x288 with 2 Axes>"
            ]
          },
          "metadata": {
            "needs_background": "light"
          }
        }
      ]
    },
    {
      "cell_type": "code",
      "metadata": {
        "id": "luRjf-VnJrrm",
        "outputId": "4f55fd83-b550-4314-b275-68e6e4a0912f",
        "colab": {
          "base_uri": "https://localhost:8080/",
          "height": 350
        }
      },
      "source": [
        "modeler(df, 'pptu_thing', X_all_nodes)"
      ],
      "id": "luRjf-VnJrrm",
      "execution_count": 17,
      "outputs": [
        {
          "output_type": "stream",
          "name": "stdout",
          "text": [
            "Number of positive:  539  Number of negative:  118\n",
            "Accuracy scores:  [0.896969696969697, 0.9333333333333333, 0.9090909090909091, 0.9212121212121213, 0.9151515151515152]\n",
            "Mean accuracy:  0.9151515151515153\n"
          ]
        },
        {
          "output_type": "display_data",
          "data": {
            "image/png": "[encoded data removed]",
            "text/plain": [
              "<Figure size 432x288 with 2 Axes>"
            ]
          },
          "metadata": {
            "needs_background": "light"
          }
        }
      ]
    },
    {
      "cell_type": "markdown",
      "metadata": {
        "id": "VyNLgs37Jrrm"
      },
      "source": [
        "# Next steps\n",
        "\n",
        "There are so many things that you can try from here!  Some of the things I might consider would be:\n",
        "\n",
        "- Take time to tune the hyperparameters.  This can be done for:\n",
        "  - The spacy word embeddings\n",
        "  - The graph embeddings\n",
        "  - The ML model\n",
        "- Trying more sophisticated embedding approaches, such as GraphSAGE that takes into account the node properties.\n",
        "- Explore different embeddings.  Here we used the spacy word vectors to create embeddings for the nodes, but there are many, many more ways to create vectors that could be used for training the ML models!  Get creative!\n",
        "- Work the class imbalance problem.\n",
        "- This graph is quite small in reality.  Work on growing the graph by adding more layers to it via either Wikipedia or the Google Knowledge Graph.  As the graph gets larger, we might expect that the graph embeddings approaches will start to really shine beyond the word embeddings.\n",
        "\n"
      ],
      "id": "VyNLgs37Jrrm"
    },
    {
      "cell_type": "code",
      "metadata": {
        "id": "oUFRUkSoJrrn"
      },
      "source": [
        ""
      ],
      "id": "oUFRUkSoJrrn",
      "execution_count": null,
      "outputs": []
    }
  ]
}
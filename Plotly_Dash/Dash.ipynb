{
 "cells": [
  {
   "cell_type": "markdown",
   "id": "1fc610b7",
   "metadata": {
    "colab_type": "text",
    "id": "view-in-github"
   },
   "source": [
    "<a href=\"https://colab.research.google.com/github/MengOonLee/Python/blob/main/Plotly_Dash/Dash.ipynb\" target=\"_parent\"><img src=\"https://colab.research.google.com/assets/colab-badge.svg\" alt=\"Open In Colab\"/></a>"
   ]
  },
  {
   "cell_type": "code",
   "execution_count": 1,
   "id": "479f43b3",
   "metadata": {},
   "outputs": [
    {
     "name": "stdout",
     "output_type": "stream",
     "text": [
      "Overwriting app.py\n"
     ]
    }
   ],
   "source": [
    "%%writefile app.py\n",
    "import numpy as np\n",
    "from datetime import datetime\n",
    "import dash\n",
    "import plotly.express as px\n",
    "\n",
    "logo_link = 'https://avatars.githubusercontent.com/u/44514389?v=4'\n",
    "\n",
    "df = px.data.gapminder()\n",
    "\n",
    "country1, lifeExp1 = df.iloc[np.argmax(df['lifeExp'])]\\\n",
    "    [['country', 'lifeExp']]\n",
    "\n",
    "country2, lifeExp2 = df.iloc[np.argmin(df['lifeExp'])]\\\n",
    "    [['country', 'lifeExp']]\n",
    "\n",
    "marker_life_gdp = px.scatter(data_frame=df,\n",
    "    x='gdpPercap', y='lifeExp', color='continent',\n",
    "    size='pop', size_max=50, log_x=True,\n",
    "    range_x=[np.min(df['gdpPercap']), np.max(df['gdpPercap'])],\n",
    "    range_y=[np.min(df['lifeExp'])-10, np.max(df['lifeExp'])+10],\n",
    "    animation_frame='year', animation_group='country',\n",
    "    hover_name='country',\n",
    "    labels={'gdpPercap':'GDP Per Capital', \n",
    "        'lifeExp':'Life Expectency', 'pop':'Population'})\n",
    "\n",
    "marker_life_gdp.update_layout(template='plotly_dark',\n",
    "    hovermode='closest', margin={'r':10, 'b':10, 'l':10, 't':10})\n",
    "\n",
    "map_gdp = px.choropleth(data_frame=df, locations='iso_alpha',\n",
    "    color='gdpPercap', hover_name='country',\n",
    "    range_color=(np.min(df['gdpPercap']), np.max(df['gdpPercap'])),\n",
    "    animation_frame='year')\n",
    "\n",
    "map_gdp.update_geos(resolution=50, visible=False, showcountries=True)\n",
    "\n",
    "map_gdp.update_layout(template='plotly_dark', hovermode='closest',\n",
    "    margin={'r':0, 'b':0, 'l':0, 't':0})\n",
    "\n",
    "app = dash.Dash(__name__)\n",
    "app.layout = dash.html.Div(children=[\n",
    "    dash.html.Img(src=logo_link, style={'display':'inline-block',\n",
    "        'width':'5%', 'height':'5%'}),\n",
    "    \n",
    "    dash.html.Span(children=[\n",
    "        dash.html.Br(),\n",
    "        f\"Prepared: {datetime.now().date()}\",\n",
    "        dash.html.Br(),\n",
    "        \" by \", dash.html.B(\"Meng Oon Lee, \"),\n",
    "        dash.html.Br(),\n",
    "        dash.html.I(\"Data Scientist\")\n",
    "        ], style={'display':'inline-block'}),\n",
    "    \n",
    "    dash.html.H1(\"Country Life Expectency, GDP per Capital\"),\n",
    "    \n",
    "    dash.html.Div(children=[\n",
    "        dash.html.Span(children=[\n",
    "            \"The top & last country by life expectency are:\",\n",
    "            dash.html.Ol(children=[\n",
    "                dash.html.Li(children=[\n",
    "                    country1, \", \", lifeExp1, \" years\"]),\n",
    "                dash.html.Li(children=[\n",
    "                    country2, \", \", lifeExp2, \" years\"])\n",
    "            ], style={'padding':'1%', 'margin':'1% 40%'})\n",
    "        ])\n",
    "    ]),\n",
    "    \n",
    "    dash.html.Div(children=[\n",
    "        dash.dcc.Graph(id='marker_life_gdp', figure=marker_life_gdp,\n",
    "            style={'display':'inline-block',\n",
    "                'border':'2px solid white'}),\n",
    "        dash.dcc.Graph(id='map_gdp', figure=map_gdp,\n",
    "            style={'display':'inline-block',\n",
    "                'border':'2px solid white'})        \n",
    "    ])\n",
    "\n",
    "], style={'text-align':'center', 'font-size':18,\n",
    "    'background-color':'black', 'color':'white'})\n",
    "\n",
    "@app.callback(\n",
    "    dash.dcc.Output(component_id='map-output',\n",
    "        component_property='figure'),\n",
    "    dash.dcc.Input(component_id='map-input',\n",
    "        component_property='value')\n",
    ")\n",
    "def update_map(color):\n",
    "    df_map = df.copy()\n",
    "    \n",
    "\n",
    "if __name__ == '__main__':\n",
    "    app.run_server(host='0.0.0.0', debug=True)"
   ]
  }
 ],
 "metadata": {
  "colab": {
   "include_colab_link": true,
   "name": "Dash.ipynb",
   "provenance": []
  },
  "kernelspec": {
   "display_name": "venv",
   "language": "python",
   "name": "venv"
  },
  "language_info": {
   "codemirror_mode": {
    "name": "ipython",
    "version": 3
   },
   "file_extension": ".py",
   "mimetype": "text/x-python",
   "name": "python",
   "nbconvert_exporter": "python",
   "pygments_lexer": "ipython3",
   "version": "3.8.10"
  }
 },
 "nbformat": 4,
 "nbformat_minor": 5
}

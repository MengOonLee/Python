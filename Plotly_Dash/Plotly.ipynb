{
 "cells": [
  {
   "cell_type": "markdown",
   "id": "d613f4a8",
   "metadata": {
    "colab_type": "text",
    "id": "view-in-github"
   },
   "source": [
    "<a href=\"https://colab.research.google.com/github/MengOonLee/Python/blob/main/Plotly_Dash/Plotly.ipynb\" target=\"_parent\"><img src=\"https://colab.research.google.com/assets/colab-badge.svg\" alt=\"Open In Colab\"/></a>"
   ]
  },
  {
   "cell_type": "markdown",
   "id": "23268c07",
   "metadata": {},
   "source": [
    "### Univariate"
   ]
  },
  {
   "cell_type": "code",
   "execution_count": null,
   "id": "4bd9aa83",
   "metadata": {},
   "outputs": [],
   "source": [
    "import pandas as pd\n",
    "import plotly.express as px\n",
    "\n",
    "weekly_temps = pd.DataFrame({\n",
    "    'day':['Monday', 'Tuesday', 'Wednesday', 'Thursday', 'Friday',\n",
    "        'Saturday', 'Sunday'],\n",
    "    'temp':[28, 27, 25, 31, 32, 35, 36]\n",
    "})\n",
    "fig = px.bar(\n",
    "    data_frame=weekly_temps, x='day', y='temp',\n",
    "    color='temp', color_continuous_scale='inferno'\n",
    ")\n",
    "fig.show()\n",
    "print(fig)"
   ]
  },
  {
   "cell_type": "code",
   "execution_count": null,
   "id": "5786f404",
   "metadata": {},
   "outputs": [],
   "source": [
    "import plotly.express as px\n",
    "\n",
    "# Create the bar plot\n",
    "fig = px.bar(\n",
    "    data_frame=student_scores, x='student_name', y='score', \n",
    "    title='Student Scores by Student'\n",
    ")\n",
    "# Create the box plot\n",
    "fig = px.box(\n",
    "    # Set the data\n",
    "    data_frame=revenues, \n",
    "    # Set the y variable\n",
    "    y=\"Revenue\", \n",
    "    # Add in hover data to see outliers\n",
    "    hover_data=[\"Company\"]\n",
    ")\n",
    "# Create a simple histogram\n",
    "fig = px.histogram(\n",
    "    data_frame=revenues, \n",
    "    # Set up the x-axis\n",
    "    x='Revenue',\n",
    "    # Set the number of bins\n",
    "    nbins=5\n",
    ")\n",
    "# Show the plot\n",
    "fig.show()"
   ]
  },
  {
   "cell_type": "markdown",
   "id": "dce1bb87",
   "metadata": {},
   "source": [
    "### Color"
   ]
  },
  {
   "cell_type": "code",
   "execution_count": null,
   "id": "542be556",
   "metadata": {},
   "outputs": [],
   "source": [
    "import plotly.express as px\n",
    "\n",
    "# Create your own continuous color scale\n",
    "my_scale = ['rgb(255, 0, 0)', 'rgb(3, 252, 40)']\n",
    "\n",
    "# Create the bar plot\n",
    "fig = px.bar(\n",
    "    data_frame=student_scores, \n",
    "    x='student_name', y='score',\n",
    "    title='Student Scores by Student',\n",
    "    # Set the color variable and scale\n",
    "    color='score', color_continuous_scale=my_scale\n",
    ")\n",
    "# Create the industry-color map\n",
    "ind_color_map = {\n",
    "    'Tech':'rgb(124, 250, 120)',\n",
    "    'Oil':'rgb(112, 128, 144)',\n",
    "    'Pharmaceuticals':'rgb(137, 109, 247)',\n",
    "    'Professional Services':'rgb(255, 0, 0)'\n",
    "}\n",
    "# Create the basic box plot\n",
    "fig = px.box(\n",
    "    # Set the data and y variable\n",
    "    data_frame=revenues, y='Revenue',\n",
    "    # Set the color map and variable\n",
    "    color_discrete_map=ind_color_map,\n",
    "    color='Industry'\n",
    ")\n",
    "# Create a simple histogram\n",
    "fig = px.histogram(\n",
    "    # Set the data and x variable\n",
    "    data_frame=revenues, x='Revenue', nbins=5,\n",
    "    # Set the color map and variable\n",
    "    color_discrete_map=ind_color_map,\n",
    "    color='Industry'\n",
    ")\n",
    "# Show the plot\n",
    "fig.show()"
   ]
  },
  {
   "cell_type": "markdown",
   "id": "31f372fc",
   "metadata": {},
   "source": [
    "### Bivariate"
   ]
  },
  {
   "cell_type": "code",
   "execution_count": null,
   "id": "fde2ded2",
   "metadata": {},
   "outputs": [],
   "source": [
    "import plotly.express as px\n",
    "\n",
    "fig = px.scatter(\n",
    "    data_frame=penguins, x='Body Mass (g)', y='Flipper Length (mm)'\n",
    ")\n",
    "\n",
    "import plotly.graph_objects as go\n",
    "\n",
    "fig = go.Figure(\n",
    "    go.Scatter(\n",
    "        x=penguins['Body Mass (g)'],\n",
    "        y=penguins['Flipper Length (mm)'],\n",
    "        mode='markers'\n",
    "    )\n",
    ")\n",
    "\n",
    "fig.show()"
   ]
  },
  {
   "cell_type": "code",
   "execution_count": null,
   "id": "2c888623",
   "metadata": {},
   "outputs": [],
   "source": [
    "import plotly.express as px\n",
    "\n",
    "fig = px.line(\n",
    "    data_frame=msft_stock, x='Date', y='Open',\n",
    "    title='MSFT Stock Price (5Y)'\n",
    ")\n",
    "\n",
    "import plotly.graph_objects as go\n",
    "\n",
    "fig = go.Figure(\n",
    "    go.Scatter(\n",
    "        x=msft_stock['Date'],\n",
    "        y=msft_stock['Opening Stock Price'],\n",
    "        mode='lines'\n",
    "    )\n",
    ")\n",
    "\n",
    "fig.show()"
   ]
  },
  {
   "cell_type": "code",
   "execution_count": null,
   "id": "a2701c16",
   "metadata": {},
   "outputs": [],
   "source": [
    "import plotly.express as px\n",
    "\n",
    "# Set up the color map\n",
    "color_map = {\n",
    "    'Adelie':'rgb(235, 52, 52)',\n",
    "    'Gentoo':'rgb(235, 149, 52)',\n",
    "    'Chinstrap':'rgb(67, 52, 235)'\n",
    "}\n",
    "# Create a scatterplot\n",
    "fig = px.scatter(\n",
    "    data_frame=penguins, title=\"Penguin Culmen Statistics\",\n",
    "    x=\"Culmen Length (mm)\", y=\"Culmen Depth (mm)\",\n",
    "    # Set the colors to use your color map\n",
    "    color=\"Species\", color_discrete_map=color_map\n",
    ")\n",
    "# Show your work\n",
    "fig.show()"
   ]
  },
  {
   "cell_type": "code",
   "execution_count": null,
   "id": "528a72c2",
   "metadata": {},
   "outputs": [],
   "source": [
    "import plotly.graph_objects as go\n",
    "\n",
    "# Create a correlation table with pandas\n",
    "penguin_corr = penguins.corr(method='pearson')\n",
    "\n",
    "# Set up the correlation plot\n",
    "fig = go.Figure(\n",
    "    go.Heatmap(\n",
    "        # Set the appropriate x, y and z values\n",
    "        x=penguin_corr.columns, y=penguin_corr.columns,\n",
    "        z=penguin_corr.values.tolist(),\n",
    "        # Set the color scale\n",
    "        colorscale='rdylgn', \n",
    "        # Set min and max values\n",
    "        zmin=-1, zmax=1\n",
    "    )\n",
    ")\n",
    "# Show your work\n",
    "fig.show()"
   ]
  },
  {
   "cell_type": "markdown",
   "id": "1b8a1838",
   "metadata": {},
   "source": [
    "### Hover & Legend"
   ]
  },
  {
   "cell_type": "code",
   "execution_count": null,
   "id": "50a486b1",
   "metadata": {},
   "outputs": [],
   "source": [
    "import plotly.express as px\n",
    "\n",
    "# Create the scatterplot\n",
    "fig = px.scatter(\n",
    "    data_frame=life_gdp, \n",
    "    x='Life expectancy', y='GDP Per Capita', color='Continent',\n",
    "    # Add columns to the hover information\n",
    "    hover_data=['Continent', 'Life expectancy', 'GDP Per Capita'],\n",
    "    # Add bold variable in hover information\n",
    "    hover_name='Country'\n",
    ")\n",
    "# Create the legend\n",
    "my_legend = {\n",
    "    'x':0.2, 'y':0.95, 'title': 'Continent',\n",
    "    'bgcolor':'rgb(60, 240, 201)', 'borderwidth':5\n",
    "}\n",
    "# Update the figure\n",
    "fig.update_layout({\n",
    "    'showlegend':True, 'legend':my_legend\n",
    "})\n",
    "# Show the plot\n",
    "fig.show()"
   ]
  },
  {
   "cell_type": "markdown",
   "id": "0ad32055",
   "metadata": {},
   "source": [
    "### Annotation"
   ]
  },
  {
   "cell_type": "code",
   "execution_count": null,
   "id": "3485ec9c",
   "metadata": {},
   "outputs": [],
   "source": [
    "# Create the first annotation\n",
    "loss_annotation = {\n",
    "    'x':10, 'y':400, 'showarrow':True, 'arrowhead':4,\n",
    "    'font':{'color':'black'}, 'text':\"Urgent House Repairs\"\n",
    "}\n",
    "# Create the second annotation\n",
    "gain_annotation = {\n",
    "    'x':18, 'y':2500, 'showarrow':True, 'arrowhead':4,\n",
    "    'font':{'color':'black'}, 'text':\"New Job!\"\n",
    "}\n",
    "# Add annotations to the figure\n",
    "fig.update_layout({\n",
    "    'annotations':[loss_annotation, gain_annotation]\n",
    "})\n",
    "# Show the plot!\n",
    "fig.show()"
   ]
  },
  {
   "cell_type": "code",
   "execution_count": null,
   "id": "b0e49235",
   "metadata": {},
   "outputs": [],
   "source": [
    "# Get and format today's date\n",
    "today = datetime.today().strftime('%A')\n",
    "\n",
    "# Create the message_annotation\n",
    "message_annotation = {\n",
    "    # Set the correct coordinates\n",
    "    'x':0.5, 'y':0.95, 'xref':'paper', 'yref':'paper',\n",
    "    # Set format the text and box\n",
    "    'text': f'Have a Happy {today}:)',\n",
    "    'font': {'size':20, 'color':'white'},\n",
    "    'bgcolor':'rgb(237, 64, 200)', 'showarrow':False\n",
    "}\n",
    "# Update the figure layout and show\n",
    "fig.update_layout({\n",
    "    'annotations': [message_annotation]\n",
    "})\n",
    "fig.show()"
   ]
  },
  {
   "cell_type": "markdown",
   "id": "990feefd",
   "metadata": {},
   "source": [
    "### Axes"
   ]
  },
  {
   "cell_type": "code",
   "execution_count": null,
   "id": "f69d78d4",
   "metadata": {},
   "outputs": [],
   "source": [
    "import plotly.express as px\n",
    "\n",
    "# Create and show the plot\n",
    "fig = px.scatter(\n",
    "    data_frame=bball_data,\n",
    "    x='PPG', y='FGP', log_y=True,\n",
    "    title='Field Goal Percentage vs. Points Per Game'\n",
    ")\n",
    "# Update the x_axis range\n",
    "fig.update_layout({\n",
    "    'xaxis':{'range':[0, bball_data['PPG'].max()+5]}\n",
    "})\n",
    "# Update the y_axis range\n",
    "fig.update_layout({\n",
    "    'yaxis':{'range':[0, 100]}\n",
    "})\n",
    "fig.show()"
   ]
  },
  {
   "cell_type": "code",
   "execution_count": null,
   "id": "e2a44d9c",
   "metadata": {},
   "outputs": [],
   "source": [
    "import plotly.express as px\n",
    "\n",
    "# Create timestamp\n",
    "timestamp = datetime.now()\n",
    "\n",
    "# Create plot\n",
    "fig = px.bar(\n",
    "    data_frame=penguins,\n",
    "    x=\"spec\", y=\"av_flip_length\", color=\"spec\",\n",
    "    title=\"Flipper Length (mm) by Species\"\n",
    ")\n",
    "# Change the axis titles\n",
    "fig.update_layout({\n",
    "    'xaxis':{'title':{'text':'Species'}},\n",
    "    'yaxis':{'title':{'text':'Average Flipper Length (mm)'}}\n",
    "})\n",
    "fig.update_layout({\n",
    "    'yaxis':{'range':[150, penguins['av_flip_length'].max()+30]}\n",
    "})\n",
    "# Add an annotation and show\n",
    "fig.update_layout({\n",
    "    'annotations':[{\n",
    "        \"text\":f\"This graph was generated at {timestamp}\", \n",
    "        \"showarrow\":False, \"x\":0.5, \"y\":1.1,\n",
    "        \"xref\":\"paper\", \"yref\":\"paper\"\n",
    "    }]\n",
    "})\n",
    "fig.show()"
   ]
  },
  {
   "cell_type": "markdown",
   "id": "6c3044b4",
   "metadata": {},
   "source": [
    "### Subplots"
   ]
  },
  {
   "cell_type": "code",
   "execution_count": null,
   "id": "6273f595",
   "metadata": {},
   "outputs": [],
   "source": [
    "from plotly.subplots import make_subplots\n",
    "\n",
    "fig = make_subplots(rows=2, cols=1, subplot_titles=[\n",
    "    'Histogram of company revenues', 'Box plot of company revenues'\n",
    "])\n",
    "fig.add_trace(\n",
    "    go.Histogram(\n",
    "        x=revenues['Revenue'], nbinsx=5, name='Histogram'\n",
    "    ),\n",
    "    row=1, col=1\n",
    ")\n",
    "fig.add_trace(\n",
    "    go.Box(\n",
    "        x=revenues['Revenue'], hovertext=revenues['Company'],\n",
    "        name='Box plot'\n",
    "    ),\n",
    "    row=2, col=1\n",
    ")\n",
    "fig.update_layout({\n",
    "    'title':{'text':'Plots of company revenues', 'x':0.5, 'y':0.9}\n",
    "})\n",
    "fig.show()"
   ]
  },
  {
   "cell_type": "code",
   "execution_count": null,
   "id": "423f1759",
   "metadata": {},
   "outputs": [],
   "source": [
    "from plotly.subplots import make_subplots\n",
    "\n",
    "# Set up the subplots grid\n",
    "fig = make_subplots(rows=2, cols=2, \n",
    "    # Set the subplot titles\n",
    "    subplot_titles=['Tech', 'Professional Services', 'Retail', 'Oil']\n",
    ")\n",
    "# Add the Tech trace\n",
    "fig.add_trace(\n",
    "    go.Box(\n",
    "        x=df['tech'], name='Tech', showlegend=False\n",
    "    ),\n",
    "    row=1, col=1\n",
    ")\n",
    "# Add the Professional Services trace\n",
    "fig.add_trace(\n",
    "    go.Box(\n",
    "        x=df['prof_serve'], name='Professional Services',\n",
    "        showlegend=False\n",
    "    ),\n",
    "    row=1, col=2\n",
    ")\n",
    "# Add the Retail trace\n",
    "fig.add_trace(\n",
    "    go.Box(\n",
    "        x=df['retail'], name='Retail', showlegend=False\n",
    "    ),\n",
    "    row=2, col=1\n",
    ")\n",
    "# Add the Oil trace\n",
    "fig.add_trace(\n",
    "    go.Box(\n",
    "        x=df['oil'], name='Oil', showlegend=False\n",
    "    ),\n",
    "    row=2, col=2\n",
    ")\n",
    "# Add a title (and show)\n",
    "fig.update_layout({\n",
    "    'title':{'text':'Box plots of company revenues',\n",
    "        'x': 0.5, 'y': 0.9}\n",
    "})\n",
    "fig.show()"
   ]
  },
  {
   "cell_type": "code",
   "execution_count": null,
   "id": "2d8b40d4",
   "metadata": {},
   "outputs": [],
   "source": [
    "from plotly.subplots import make_subplots\n",
    "\n",
    "# Create the subplots\n",
    "fig = make_subplots(rows=3, cols=1, shared_xaxes=True)\n",
    "\n",
    "# Loop through the industries\n",
    "row_num = 1\n",
    "for industry in ['Tech', 'Retail', 'Professional Services']:\n",
    "    df = revenues[revenues.Industry==industry]\n",
    "    # Add a histogram using subsetted df\n",
    "    fig.add_trace(\n",
    "        go.Histogram(\n",
    "            x=df['Revenue'], name=industry\n",
    "        ),\n",
    "        # Position the trace\n",
    "        row=row_num, col=1\n",
    "    )\n",
    "    row_num += 1\n",
    "\n",
    "# Show the plot\n",
    "fig.show()"
   ]
  },
  {
   "cell_type": "markdown",
   "id": "e26bd4eb",
   "metadata": {},
   "source": [
    "### Multiple Plots"
   ]
  },
  {
   "cell_type": "code",
   "execution_count": null,
   "id": "6eac5e26",
   "metadata": {},
   "outputs": [],
   "source": [
    "import plotly.graph_objects as go\n",
    "\n",
    "fig = go.Figure()\n",
    "\n",
    "fig.add_trace(\n",
    "    go.Bar(\n",
    "        x=gdp['Date'], y=gdp['Quarterly growth (%)'],\n",
    "        name='Quarterly Growth (%)'\n",
    "    )\n",
    ")\n",
    "fig.add_trace(\n",
    "    go.Scatter(\n",
    "        x=gdp['Date'], y=gdp['Rolling YTD growth (%)'],\n",
    "        name='Rolling YTD Growth (%)', mode='lines+markers'\n",
    "    )\n",
    ")\n",
    "fig.show()"
   ]
  },
  {
   "cell_type": "code",
   "execution_count": null,
   "id": "f7e05650",
   "metadata": {},
   "outputs": [],
   "source": [
    "import plotly.graph_objects as go\n",
    "\n",
    "# Create the base figure\n",
    "fig = go.Figure()\n",
    "\n",
    "# Loop through the species\n",
    "for species in ['Adelie', 'Chinstrap', 'Gentoo']:\n",
    "    # Add a bar chart trace\n",
    "    fig.add_trace(\n",
    "        go.Bar(x=islands,\n",
    "            # Set the appropriate y subset and name\n",
    "            y=penguins_grouped[penguins_grouped.Species==species]\\\n",
    "                ['Count'],\n",
    "            name=species\n",
    "        )\n",
    "    )\n",
    "# Show the figure\n",
    "fig.show()"
   ]
  },
  {
   "cell_type": "code",
   "execution_count": null,
   "id": "e2042b5e",
   "metadata": {},
   "outputs": [],
   "source": [
    "import plotly.graph_objects as go\n",
    "\n",
    "# Create the base figure\n",
    "fig = go.Figure()\n",
    "\n",
    "# Add the bar graph of daily temperatures\n",
    "fig.add_trace(\n",
    "    go.Bar(\n",
    "        x=temp_syd['Date'], y=temp_syd['Temp'],\n",
    "        name='Daily Max Temperature'\n",
    "    )\n",
    ")\n",
    "# Add the monthly average line graph\n",
    "fig.add_trace(\n",
    "    go.Scatter(\n",
    "        x=temp_syd_avg['Date'], y=temp_syd_avg['Average'],\n",
    "        name='Average Monthly Temperature'\n",
    "    )\n",
    ")\n",
    "# Show the plot\n",
    "fig.show()"
   ]
  },
  {
   "cell_type": "markdown",
   "id": "61498447",
   "metadata": {},
   "source": [
    "### Time Buttons"
   ]
  },
  {
   "cell_type": "code",
   "execution_count": null,
   "id": "cdc5e6f7",
   "metadata": {},
   "outputs": [],
   "source": [
    "import plotly.express as px\n",
    "\n",
    "# Create the basic line chart\n",
    "fig = px.line(\n",
    "    data_frame=rain, x='Date', y='Rainfall', \n",
    "    title=\"Rainfall (mm)\"\n",
    ")\n",
    "# Create the buttons\n",
    "date_buttons = [\n",
    "    {'count':28, 'label':\"4WTD\", 'step':\"day\", 'stepmode':\"todate\"},\n",
    "    {'count':48, 'label':\"48HR\", 'step':\"hour\", 'stepmode':\"todate\"},\n",
    "    {'count':1, 'label':\"YTD\", 'step':\"year\", 'stepmode':\"todate\"}\n",
    "]\n",
    "# Add the buttons and show\n",
    "fig.update_layout({\n",
    "    'xaxis':{'rangeselector':{'buttons':date_buttons}}\n",
    "})\n",
    "fig.show()"
   ]
  },
  {
   "cell_type": "code",
   "execution_count": null,
   "id": "96d6017f",
   "metadata": {},
   "outputs": [],
   "source": [
    "import plotly.express as px\n",
    "\n",
    "# Create the basic line chart\n",
    "fig = px.line(\n",
    "    data_frame=tesla, x='Date', y='Open',\n",
    "    title=\"Tesla Opening Stock Prices\"\n",
    ")\n",
    "# Create the financial buttons\n",
    "fin_buttons = [\n",
    "    {'count':7, 'label':\"1WTD\", 'step':\"day\", 'stepmode':\"todate\"},\n",
    "    {'count':6, 'label':\"6MTD\", 'step':\"month\", 'stepmode':\"todate\"},\n",
    "    {'count':1, 'label':\"YTD\", 'step':\"year\", 'stepmode':\"todate\"}\n",
    "]\n",
    "# Create the date range buttons & show the plot\n",
    "fig.update_layout({\n",
    "    'xaxis':{'rangeselector':{'buttons':fin_buttons}}\n",
    "})\n",
    "fig.show()"
   ]
  },
  {
   "cell_type": "markdown",
   "id": "eccec60d",
   "metadata": {},
   "source": [
    "### Buttons"
   ]
  },
  {
   "cell_type": "code",
   "execution_count": null,
   "id": "8bc59e80",
   "metadata": {},
   "outputs": [],
   "source": [
    "import plotly.express as px\n",
    "\n",
    "# Create a simple bar chart\n",
    "fig = px.bar(\n",
    "    data_frame=rain, x='Month', y='Rainfall'\n",
    ")\n",
    "# Create the buttons\n",
    "my_buttons = [\n",
    "    {'label':'Bar plot', 'method':'update', 'args':[{'type':'bar'}]},\n",
    "    {'label':'scatterplot', 'method':'update',\n",
    "        'args':[{'type':'scatter', 'mode':'markers'}]}\n",
    "]\n",
    "# Add buttons to the plot and show\n",
    "fig.update_layout({\n",
    "    'updatemenus': [{\n",
    "        'type':'buttons', 'direction':'down', 'x': 1.3, 'y': 0.5,\n",
    "        'showactive':True, 'active':0, 'buttons':my_buttons\n",
    "    }]\n",
    "})\n",
    "fig.show()"
   ]
  },
  {
   "cell_type": "code",
   "execution_count": null,
   "id": "a8eb4eef",
   "metadata": {},
   "outputs": [],
   "source": [
    "import plotly.graph_objects as go\n",
    "\n",
    "# Create the basic figure\n",
    "fig = go.Figure()\n",
    "\n",
    "# Add a trace per metric\n",
    "fig.add_trace(\n",
    "    go.Bar(\n",
    "        x=sales['Month'], y=sales['Sales Volume'], name='Sales Volume'\n",
    "    )\n",
    ")\n",
    "fig.add_trace(\n",
    "    go.Bar(\n",
    "        x=sales['Month'], y=sales['Sales Value'], name='Sales Value'\n",
    "    )\n",
    ")\n",
    "# Create annotations\n",
    "volume_annotations = [{\n",
    "    'text':'Oct was the best', 'showarrow':True,\n",
    "    'x':'October', 'y':71900\n",
    "}]\n",
    "value_annotations = [{\n",
    "    'text':'Sept was the best', 'showarrow':True,\n",
    "    'x':'September', 'y':345397\n",
    "}]\n",
    "# Create buttons\n",
    "my_buttons = [\n",
    "    {'label':'By Sales Value', 'method':'update', \n",
    "        'args':[{}, {'annotations':value_annotations}]},\n",
    "    {'label':'By Sales Volume', 'method':'update',\n",
    "        'args':[{}, {'annotations': volume_annotations}]}\n",
    "]\n",
    "# Add the buttons\n",
    "fig.update_layout({\n",
    "    'updatemenus': [{'type':'buttons', 'direction':'down',\n",
    "        'x':1.3, 'y':0.5, 'buttons':my_buttons}]\n",
    "})\n",
    "# Take a look at plot so far\n",
    "fig.show()"
   ]
  },
  {
   "cell_type": "markdown",
   "id": "a8709b01",
   "metadata": {},
   "source": [
    "### Dropdowns"
   ]
  },
  {
   "cell_type": "code",
   "execution_count": null,
   "id": "33f6d2d0",
   "metadata": {},
   "outputs": [],
   "source": [
    "import plotly.graph_objects as go\n",
    "\n",
    "fig = go.Figure()\n",
    "for suburb in ['Ashfield', 'Lidcombe', 'Bondi Junction']:\n",
    "    df = syd_houses[syd_houses.Suburb==suburb]\n",
    "    fig.add_trace(\n",
    "        go.Bar(\n",
    "            x=df['Year'], y=df['Median House Price'], name=suburb\n",
    "        )\n",
    "    )\n",
    "# Create the dropdown\n",
    "dropdown_buttons = [\n",
    "    {'label':'Ashfield', 'method':'update',\n",
    "        'args':[{'visible':[True, False, False]},\n",
    "            {'title':'Ashfield'}]},\n",
    "    {'label':'Lidcombe', 'method':'update',\n",
    "        'args':[{'visible':[False, True, False]},\n",
    "            {'title':'Lidcombe'}]},\n",
    "    {'label':'Bondi Junction', 'method':'update',\n",
    "        'args':[{'visible':[False, False, True]},\n",
    "            {'title':'Bondi Junction'}]},\n",
    "]\n",
    "fig.update_layout({\n",
    "    'updatemenus':[{\n",
    "        'type':'dropdown', 'x':1.3, 'y':0.5, 'showactive':True,\n",
    "        'active':0, 'buttons':dropdown_buttons\n",
    "    }]\n",
    "})\n",
    "fig.show()"
   ]
  },
  {
   "cell_type": "code",
   "execution_count": null,
   "id": "76532c46",
   "metadata": {},
   "outputs": [],
   "source": []
  },
  {
   "cell_type": "code",
   "execution_count": null,
   "id": "d2e64dbc",
   "metadata": {},
   "outputs": [],
   "source": []
  },
  {
   "cell_type": "code",
   "execution_count": null,
   "id": "eb21741a",
   "metadata": {},
   "outputs": [],
   "source": []
  },
  {
   "cell_type": "code",
   "execution_count": null,
   "id": "422620a3",
   "metadata": {},
   "outputs": [],
   "source": []
  },
  {
   "cell_type": "code",
   "execution_count": null,
   "id": "636bba05",
   "metadata": {},
   "outputs": [],
   "source": []
  },
  {
   "cell_type": "code",
   "execution_count": 45,
   "id": "98300f56",
   "metadata": {
    "scrolled": true
   },
   "outputs": [
    {
     "name": "stdout",
     "output_type": "stream",
     "text": [
      "Overwriting app.py\n"
     ]
    }
   ],
   "source": [
    "%%writefile app.py\n",
    "import numpy as np\n",
    "import dash\n",
    "import plotly.graph_objects as go\n",
    "import plotly.express as px\n",
    "\n",
    "df_iris = px.data.iris()\n",
    "\n",
    "app = dash.Dash(__name__)\n",
    "\n",
    "app.layout = dash.html.Div(children=[\n",
    "    dash.dcc.Dropdown(id='column_dd', options=df_iris.columns),\n",
    "    dash.dcc.Graph(id='bar')\n",
    "])\n",
    "\n",
    "@dash.callback(\n",
    "    dash.Output(component_id='bar', component_property='figure'),\n",
    "    dash.Input(component_id='column_dd', component_property='value')\n",
    ")\n",
    "def update_bar(col):\n",
    "    df_fig = df_iris.copy()\n",
    "    if col:\n",
    "        x = col\n",
    "    else:\n",
    "        x = 'species'\n",
    "    df_bar = df_fig.groupby(x)\\\n",
    "        .agg(count=(x, 'count'))\\\n",
    "        .reset_index()\n",
    "    # Examine the printed dictionary\n",
    "    # Create a figure\n",
    "    fig = go.Figure()\n",
    "    # Update the type\n",
    "    fig.add_trace(go.Bar(\n",
    "        x=df_bar[x],\n",
    "        y=df_bar['count']\n",
    "    ))\n",
    "    # # Update the title text\n",
    "    fig.update_layout({\n",
    "        'title':{'text':f'Count of {x}'},\n",
    "        'xaxis':{'title':f'{x}'},\n",
    "        'yaxis':{'title':'count'}\n",
    "    })\n",
    "    \n",
    "    return fig\n",
    "\n",
    "if __name__ == '__main__':\n",
    "    app.run_server(host='0.0.0.0', debug=True)"
   ]
  },
  {
   "cell_type": "code",
   "execution_count": null,
   "id": "49722a07",
   "metadata": {},
   "outputs": [],
   "source": [
    "%%writefile app.py\n",
    "import numpy as np\n",
    "import dash\n",
    "import plotly.express as px\n",
    "import plotly.graph_objects as go\n",
    "\n",
    "app = dash.Dash(__name__)\n",
    "app.layout = dash.html.Div([\n",
    "    dash.dcc.Graph(\n",
    "        figure=go.Figure({\n",
    "            'data': [{\n",
    "                'type': 'bar',\n",
    "                'x': ['Monday', 'Tuesday', 'Wednesday', 'Thursday',\n",
    "                    'Friday', 'Saturday', 'Sunday'],\n",
    "                'y': [28, 27, 25, 31, 32, 35, 36]\n",
    "            }],\n",
    "            'layout': {\n",
    "                'title': {\n",
    "                    'text': 'Temperatures of the week',\n",
    "                    'x': 0.5,\n",
    "                    'font': {\n",
    "                        'color': 'red',\n",
    "                        'size': 15\n",
    "                    }\n",
    "                }\n",
    "            }\n",
    "        })\n",
    "    ),\n",
    "    dash.dcc.Graph(\n",
    "        figure=px.bar(\n",
    "            data_frame=px.data.tips()\\\n",
    "                .groupby(by='day').agg(avg_tip=('tip', np.average))\\\n",
    "                .reset_index(),\n",
    "            x='day', y='avg_tip', color='avg_tip'\n",
    "        )\n",
    "    )\n",
    "])\n",
    "if __name__ == '__main__':\n",
    "    app.run_server(host='0.0.0.0', debug=True)"
   ]
  },
  {
   "cell_type": "code",
   "execution_count": null,
   "id": "a2a5edc5",
   "metadata": {
    "scrolled": true
   },
   "outputs": [],
   "source": [
    "%%writefile app.py\n",
    "import numpy as np\n",
    "import dash\n",
    "import plotly.graph_objects as go\n",
    "import plotly.express as px\n",
    "\n",
    "df = px.data.gapminder()\n",
    "\n",
    "app = dash.Dash(__name__)\n",
    "app.layout = dash.html.Div([\n",
    "    dash.html.Div(\n",
    "        children=['App']\n",
    "    ),\n",
    "    dash.html.Hr(),\n",
    "    dash.dcc.RadioItems(\n",
    "        id='radio-hist',\n",
    "        options=['pop', 'lifeExp', 'gdpPercap'],\n",
    "        value='lifeExp'\n",
    "    ),\n",
    "    dash.dcc.Graph(\n",
    "        id='hist',\n",
    "        figure={}\n",
    "    )\n",
    "])\n",
    "\n",
    "@dash.callback(\n",
    "    dash.Output(\n",
    "        component_id='hist',\n",
    "        component_property='figure'\n",
    "    ),\n",
    "    dash.Input(\n",
    "        component_id='radio-hist',\n",
    "        component_property='value'\n",
    "    )\n",
    ")\n",
    "def update_graph(col):\n",
    "    fig = px.histogram(data_frame=df,\n",
    "        x='country', y=col, histfunc='avg',\n",
    "        title='Histogram by continent')\n",
    "    fig.update_layout({\n",
    "        'bargap': 0.5\n",
    "    })\n",
    "    return fig\n",
    "\n",
    "if __name__ == '__main__':\n",
    "    app.run_server(host='0.0.0.0', debug=True)"
   ]
  },
  {
   "cell_type": "code",
   "execution_count": null,
   "id": "8adc4c53-6055-4a3d-a537-9d831e362ad4",
   "metadata": {
    "colab": {
     "base_uri": "https://localhost:8080/",
     "height": 121
    },
    "id": "8adc4c53-6055-4a3d-a537-9d831e362ad4",
    "jupyter": {
     "outputs_hidden": true
    },
    "outputId": "b696a5de-cdc4-4fd3-b389-109c042de304",
    "scrolled": true,
    "tags": []
   },
   "outputs": [],
   "source": [
    "import numpy as np\n",
    "import pandas as pd\n",
    "from jupyter_dash import JupyterDash\n",
    "import dash\n",
    "import plotly\n",
    "import plotly.express as px\n",
    "\n",
    "df_ecom = pd.read_csv('./Data/ecom_sales.csv')\n",
    "df_ecom['InvoiceDate'] = pd.to_datetime(\n",
    "    df_ecom['InvoiceDate']).dt.date\n",
    "df_ecom['Amount'] = df_ecom['Quantity'] * df_ecom['UnitPrice']\n",
    "\n",
    "df_sales_country = df_ecom.groupby(by=['Country'])\\\n",
    "    .agg(Sales=('Amount', np.sum))\\\n",
    "    .reset_index()\n",
    "bar_sales_country = px.bar(data_frame=df_sales_country,\n",
    "    x='Country', y='Sales', color='Country',\n",
    "    hover_name='Country',\n",
    "    hover_data=['Sales'])\n",
    "\n",
    "df_sales_date_country = df_ecom\\\n",
    "    .groupby(by=['Country', 'InvoiceDate'])\\\n",
    "    .agg(Sales=('Amount', np.sum))\\\n",
    "    .reset_index()\n",
    "line_sales_date_country = px.line(\n",
    "    data_frame=df_sales_date_country,\n",
    "    x='InvoiceDate', y='Sales', color='Country')\n",
    "\n",
    "app = JupyterDash(__name__)\n",
    "app.layout = dash.html.Div(children=[\n",
    "    dash.html.H1('Ecom Sales'),\n",
    "    dash.dcc.Graph(id='bar_sales_country',\n",
    "        figure=bar_sales_country),\n",
    "    dash.dcc.Graph(id='line_sales_date_country',\n",
    "        figure=line_sales_date_country)\n",
    "])\n",
    "if __name__ == '__main__':\n",
    "    app.run_server(host='0.0.0.0', debug=True)"
   ]
  },
  {
   "cell_type": "code",
   "execution_count": null,
   "id": "bdb97071-3523-4ef8-a275-dbb0f1a556e4",
   "metadata": {
    "id": "bdb97071-3523-4ef8-a275-dbb0f1a556e4",
    "jupyter": {
     "outputs_hidden": true
    },
    "tags": []
   },
   "outputs": [],
   "source": [
    "student_scores = pd.DataFrame({\n",
    "    'student_name': ['John', 'Julia', 'Xuan', 'Harry'],\n",
    "    'score': [80, 97, 90, 85],\n",
    "    'city': ['Sydney', 'Sydney', 'Melbourne', 'Melbourne']\n",
    "})\n",
    "# Create the bar plot\n",
    "fig = px.bar(data_frame=student_scores, x='student_name', y='score',\n",
    "    title='Student Scores by Student', color='city',\n",
    "    color_discrete_map={\n",
    "        'Melbourne': 'rgb(0, 0, 128)',\n",
    "        'Sydney': 'rgb(235, 207, 52)'\n",
    "    }\n",
    ")\n",
    "# Show the plot\n",
    "fig.show()\n",
    "\n",
    "# Create continuous color scale\n",
    "my_scale = ['rgb(255, 0, 0)', 'rgb(3, 252, 40)']\n",
    "# Create the bar plot\n",
    "fig = px.bar(data_frame=student_scores, x='student_name', y='score',\n",
    "    title='Student Scores by Student',\n",
    "    # Set the color variable and scale\n",
    "    color='score', color_continuous_scale=my_scale\n",
    ")\n",
    "# Show the plot\n",
    "fig.show()"
   ]
  },
  {
   "cell_type": "code",
   "execution_count": null,
   "id": "c33be26e-35b0-4bd4-bb8e-537655520378",
   "metadata": {
    "id": "c33be26e-35b0-4bd4-bb8e-537655520378",
    "jupyter": {
     "outputs_hidden": true
    },
    "tags": []
   },
   "outputs": [],
   "source": [
    "revenues = pd.read_csv('./Data/revenue_data.csv')\n",
    "revenues['Revenue'] = revenues['Revenue'].astype(float)\n",
    "# Create the box plot\n",
    "fig = px.box(\n",
    "    # Set the data\n",
    "    data_frame=revenues,\n",
    "    # Set the y variable\n",
    "    y='Revenue',\n",
    "    # Add in hover data to see outliers\n",
    "    hover_data=['Company'])\n",
    "# Show the plot\n",
    "fig.show()\n",
    "\n",
    "revenues = pd.read_csv('./Data/revenue_data2.csv')\n",
    "revenues = revenues[revenues['Industry'].isin(\n",
    "    ['Tech', 'Oil', 'Pharmaceuticals', 'Professional Services'])]\n",
    "revenues['Revenue'] = revenues['Revenue'].astype(float)\n",
    "# Create the industry-color map\n",
    "ind_color_map = {\n",
    "    'Tech': 'rgb(124, 250, 120)',\n",
    "    'Oil': 'rgb(112, 128, 144)',\n",
    "    'Pharmaceuticals': 'rgb(137, 109, 247)',\n",
    "    'Professional Services': 'rgb(255, 0, 0)'\n",
    "}\n",
    "# Create the basic box plot\n",
    "fig = px.box(\n",
    "    # Set the data and y variable\n",
    "    data_frame=revenues, y='Revenue',\n",
    "    # Set the color map and variable\n",
    "    color='Industry', color_discrete_map=ind_color_map\n",
    ")\n",
    "# Show the plot\n",
    "fig.show()"
   ]
  },
  {
   "cell_type": "code",
   "execution_count": null,
   "id": "d3ff3562-71e9-4953-a5ba-61adf6eed1ad",
   "metadata": {
    "id": "d3ff3562-71e9-4953-a5ba-61adf6eed1ad",
    "jupyter": {
     "outputs_hidden": true
    },
    "tags": []
   },
   "outputs": [],
   "source": [
    "revenues = pd.read_csv('./Data/revenue_data.csv')\n",
    "revenues['Revenue'] = revenues['Revenue'].astype(float)\n",
    "# Create a simple histogram\n",
    "fig = px.histogram(data_frame=revenues,\n",
    "    # Set up the x-axis\n",
    "    x='Revenue',\n",
    "    # Set the number of bins\n",
    "    nbins=5)\n",
    "# Show the plot\n",
    "fig.show()\n",
    "\n",
    "revenues = pd.read_csv('./Data/revenue_data2.csv')\n",
    "revenues = revenues[revenues['Industry'].isin(\n",
    "    ['Tech', 'Oil', 'Pharmaceuticals', 'Professional Services'])]\n",
    "revenues['Revenue'] = revenues['Revenue'].astype(float)\n",
    "# Create the industry-color map\n",
    "ind_color_map = {\n",
    "    'Tech': 'rgb(124, 250, 120)',\n",
    "    'Oil': 'rgb(112, 128, 144)',\n",
    "    'Pharmaceuticals': 'rgb(137, 109, 247)',\n",
    "    'Professional Services': 'rgb(255, 0, 0)'\n",
    "}\n",
    "# Create a simple histogram\n",
    "fig = px.histogram(\n",
    "    # Set the data and x variable\n",
    "    data_frame=revenues, x='Revenue', nbins=5,\n",
    "    # Set the color map and variable\n",
    "    color='Industry', color_discrete_map=ind_color_map\n",
    ")\n",
    "# Show the plot\n",
    "fig.show()"
   ]
  },
  {
   "cell_type": "markdown",
   "id": "4eff942b-f57f-4ff1-9b93-e75ce6a64b70",
   "metadata": {
    "id": "4eff942b-f57f-4ff1-9b93-e75ce6a64b70",
    "jp-MarkdownHeadingCollapsed": true,
    "tags": []
   },
   "source": [
    "## Bivariate visualizations"
   ]
  },
  {
   "cell_type": "code",
   "execution_count": null,
   "id": "1923c7d2-d12a-4268-aa02-ca1ff6a5cd28",
   "metadata": {
    "id": "1923c7d2-d12a-4268-aa02-ca1ff6a5cd28",
    "jupyter": {
     "outputs_hidden": true
    },
    "tags": []
   },
   "outputs": [],
   "source": [
    "penguins = pd.read_csv('./Data/penguins.csv')\n",
    "\n",
    "# Set up the color map\n",
    "color_map = {\n",
    "    'Adelie': 'rgb(235, 52, 52)',\n",
    "    'Gentoo': 'rgb(235, 149, 52)',\n",
    "    'Chinstrap': 'rgb(67, 52, 235)'\n",
    "}\n",
    "# Create a scatterplot\n",
    "fig = px.scatter(\n",
    "    data_frame=penguins,\n",
    "    title=\"Penguin Culmen Statistics\",\n",
    "    x='Culmen Length (mm)',\n",
    "    y='Culmen Depth (mm)',\n",
    "    # Set the colors to use your color map\n",
    "    color='Species', color_discrete_map=color_map\n",
    ")\n",
    "# Show your work\n",
    "fig.show()"
   ]
  },
  {
   "cell_type": "code",
   "execution_count": null,
   "id": "af6a0b83-9297-41e0-8afd-08b1c1112bd0",
   "metadata": {
    "id": "af6a0b83-9297-41e0-8afd-08b1c1112bd0",
    "jupyter": {
     "outputs_hidden": true
    },
    "tags": []
   },
   "outputs": [],
   "source": [
    "penguins = pd.read_csv('./Data/penguins.csv')\n",
    "\n",
    "# Create a correlation table with pandas\n",
    "penguin_corr = penguins.select_dtypes(include=np.float64).corr(method='pearson')\n",
    "# Set up the correlation plot\n",
    "fig = go.Figure(go.Heatmap(\n",
    "    # Set the appropriate x, y and z values\n",
    "    x=penguin_corr.columns,\n",
    "    y=penguin_corr.columns,\n",
    "    z=penguin_corr.values.tolist(),\n",
    "    # Set the color scale\n",
    "    colorscale='rdylgn', \n",
    "    # Set min and max values\n",
    "    zmin=-1, zmax=1\n",
    "))\n",
    "fig.show()"
   ]
  },
  {
   "cell_type": "markdown",
   "id": "56665116-e1f0-40ba-a5d9-275084e74e48",
   "metadata": {
    "id": "56665116-e1f0-40ba-a5d9-275084e74e48",
    "jp-MarkdownHeadingCollapsed": true,
    "tags": []
   },
   "source": [
    "## Hover information and legends"
   ]
  },
  {
   "cell_type": "code",
   "execution_count": null,
   "id": "db60441e-2ee5-4a9d-90e5-292fa887b03c",
   "metadata": {
    "id": "db60441e-2ee5-4a9d-90e5-292fa887b03c",
    "jupyter": {
     "outputs_hidden": true
    },
    "tags": []
   },
   "outputs": [],
   "source": [
    "life_gdp = pd.read_csv('./Data/gapminder.tsv', sep='\\t')\n",
    "life_gdp = life_gdp[life_gdp['year']==2007]\n",
    "\n",
    "# Create the scatterplot\n",
    "fig = px.scatter(\n",
    "    data_frame=life_gdp,\n",
    "    x='lifeExp',\n",
    "    y='gdpPercap',\n",
    "    color='continent'\n",
    ")\n",
    "# Create the legend\n",
    "my_legend = {\n",
    "    'x': 0.2, 'y': 0.95, 'bgcolor': 'rgb(60, 240, 201)', \n",
    "    'borderwidth': 5\n",
    "}\n",
    "# Update the figure\n",
    "fig.update_layout({\n",
    "    'showlegend': True,\n",
    "    'legend': my_legend\n",
    "})\n",
    "# Show the plot\n",
    "fig.show()"
   ]
  },
  {
   "cell_type": "code",
   "execution_count": null,
   "id": "6988bc29-65f5-46b1-99f7-470a2e35668e",
   "metadata": {
    "id": "6988bc29-65f5-46b1-99f7-470a2e35668e",
    "jupyter": {
     "outputs_hidden": true
    },
    "tags": []
   },
   "outputs": [],
   "source": [
    "life_gdp = pd.read_csv('./Data/gapminder.tsv', sep='\\t')\n",
    "life_gdp = life_gdp[life_gdp['year']==2007]\n",
    "\n",
    "# Create the scatterplot\n",
    "fig = px.scatter(\n",
    "    data_frame=life_gdp,\n",
    "    x='lifeExp',\n",
    "    y='gdpPercap',\n",
    "    color='continent',\n",
    "    # Add columns to the hover information\n",
    "    hover_data=['continent', 'lifeExp', 'gdpPercap'],\n",
    "    # Add bold variable in hover information\n",
    "    hover_name='country'\n",
    ")\n",
    "# Show the plot\n",
    "fig.show()"
   ]
  },
  {
   "cell_type": "markdown",
   "id": "dbc9511a-2f1b-45bc-8534-0a7c65546eec",
   "metadata": {
    "id": "dbc9511a-2f1b-45bc-8534-0a7c65546eec",
    "jp-MarkdownHeadingCollapsed": true,
    "tags": []
   },
   "source": [
    "## Adding annotations"
   ]
  },
  {
   "cell_type": "code",
   "execution_count": null,
   "id": "8e73ec95-76a4-450f-8f96-5c160d153606",
   "metadata": {
    "id": "8e73ec95-76a4-450f-8f96-5c160d153606",
    "tags": []
   },
   "outputs": [],
   "source": [
    "savings = pd.read_csv('./Data/savings.csv')\n",
    "\n",
    "# Create the bar plot\n",
    "fig = px.bar(\n",
    "    data_frame=savings, x='Week', y='Savings'\n",
    ")\n",
    "# Create the first annotation\n",
    "loss_annotation = {\n",
    "    'x': 10, 'y': 400, \n",
    "    'showarrow': True, 'arrowhead': 4,\n",
    "    'font': {'color': 'black'}, \n",
    "    'text': \"Urgent House Repairs\"\n",
    "}\n",
    "# Create the second annotation\n",
    "gain_annotation = {\n",
    "    'x': 18, 'y': 2500, \n",
    "    'showarrow': True, 'arrowhead': 4,\n",
    "    'font': {'color': 'black'}, \n",
    "    'text': \"New Job!\"\n",
    "}\n",
    "# Add annotations to the figure\n",
    "fig.update_layout({\n",
    "    'annotations': [loss_annotation, gain_annotation]\n",
    "})\n",
    "# Show the plot!\n",
    "fig.show()"
   ]
  },
  {
   "cell_type": "code",
   "execution_count": null,
   "id": "31352afb-af16-4ceb-9547-a7fa8fa36ff1",
   "metadata": {
    "id": "31352afb-af16-4ceb-9547-a7fa8fa36ff1",
    "jupyter": {
     "outputs_hidden": true
    },
    "tags": []
   },
   "outputs": [],
   "source": [
    "revenues = pd.read_csv('./Data/revenue_data.csv')\n",
    "revenues['Revenue'] = revenues['Revenue'].astype(float)\n",
    "# Create a simple histogram\n",
    "fig = px.histogram(data_frame=revenues,\n",
    "    # Set up the x-axis\n",
    "    x='Revenue',\n",
    "    # Set the number of bins\n",
    "    nbins=5)\n",
    "\n",
    "# Get and format today's date\n",
    "today = datetime.today().strftime('%A')\n",
    "\n",
    "# Create the message_annotation\n",
    "message_annotation = {\n",
    "    # Set the correct coordinates\n",
    "    'x': 0.5, 'y': 0.95, \n",
    "    'xref': 'paper', 'yref': 'paper',\n",
    "    # Set format the text and box\n",
    "    'text': f'Have a Happy {today} :)',\n",
    "    'font': {'size': 20, 'color': 'white'},\n",
    "    'bgcolor': 'rgb(237, 64, 200)', 'showarrow': False\n",
    "}\n",
    "\n",
    "# Update the figure layout and show\n",
    "fig.update_layout({'annotations': [message_annotation]})\n",
    "# Show the plot\n",
    "fig.show()"
   ]
  },
  {
   "cell_type": "markdown",
   "id": "d825ffef-6e6d-4675-98f0-95c8eab4424f",
   "metadata": {
    "id": "d825ffef-6e6d-4675-98f0-95c8eab4424f",
    "jp-MarkdownHeadingCollapsed": true,
    "tags": []
   },
   "source": [
    "## Plot axes"
   ]
  },
  {
   "cell_type": "code",
   "execution_count": null,
   "id": "e909e5e9-2dde-40ee-8dc5-9cc837cc4bbe",
   "metadata": {
    "id": "e909e5e9-2dde-40ee-8dc5-9cc837cc4bbe",
    "jupyter": {
     "outputs_hidden": true
    },
    "tags": []
   },
   "outputs": [],
   "source": [
    "bball_data = pd.read_csv('./Data/bball_data.csv')\n",
    "\n",
    "# Create and show the plot\n",
    "fig = px.scatter(\n",
    "    data_frame=bball_data,\n",
    "    x='PPG',\n",
    "    y='FGP',\n",
    "    title=\"Field Goal Percentage vs. Points Per Game\"\n",
    ")\n",
    "fig.show()\n",
    "# Update the x_axis range\n",
    "fig.update_layout({\n",
    "    'xaxis': {\n",
    "        'range': [0, bball_data['PPG'].max() + 5]\n",
    "    },\n",
    "    'yaxis': {\n",
    "        'range': [0, 100]\n",
    "    }\n",
    "})\n",
    "fig.show()"
   ]
  },
  {
   "cell_type": "code",
   "execution_count": null,
   "id": "b1711b91-39da-4efc-815c-2ce2b2493acc",
   "metadata": {
    "id": "b1711b91-39da-4efc-815c-2ce2b2493acc",
    "jupyter": {
     "outputs_hidden": true
    },
    "tags": []
   },
   "outputs": [],
   "source": [
    "penguins = pd.DataFrame({\n",
    "    'spec': ['Adelie', 'Chinstrap', 'Gentoo'],\n",
    "    'av_flip_length': [190.0, 196.0, 217.0]\n",
    "})\n",
    "# Create timestamp\n",
    "timestamp = datetime.now()\n",
    "# Create plot\n",
    "fig = px.bar(\n",
    "    data_frame=penguins,\n",
    "    x='spec',\n",
    "    y='av_flip_length',\n",
    "    title='Flipper Length (mm) by Species',\n",
    "    color='spec'\n",
    ")\n",
    "fig.update_layout({\n",
    "    # Change the axis titles\n",
    "    'xaxis': {\n",
    "        'title': {'text': 'Species'}\n",
    "    },\n",
    "    'yaxis': {\n",
    "        'title': {'text': 'Average Flipper Length (mm)'}\n",
    "    },\n",
    "    # Add an annotation\n",
    "    'annotations': [{\n",
    "        'x': 0.5, 'y': 1.1,\n",
    "        'xref': 'paper', 'yref': 'paper',\n",
    "        'text': f\"This graph was generated at {timestamp}\",\n",
    "        'showarrow': False\n",
    "    }]\n",
    "})\n",
    "# Show the plot\n",
    "fig.show()"
   ]
  },
  {
   "cell_type": "markdown",
   "id": "1ea848ac-df98-41d6-8306-444728c80dac",
   "metadata": {
    "id": "1ea848ac-df98-41d6-8306-444728c80dac",
    "jp-MarkdownHeadingCollapsed": true,
    "tags": []
   },
   "source": [
    "## Subplots"
   ]
  },
  {
   "cell_type": "code",
   "execution_count": null,
   "id": "b99a8ccf-8f96-41b6-ba0a-c77372f9a9eb",
   "metadata": {
    "id": "b99a8ccf-8f96-41b6-ba0a-c77372f9a9eb",
    "jupyter": {
     "outputs_hidden": true
    },
    "tags": []
   },
   "outputs": [],
   "source": [
    "revenues = pd.read_csv('./Data/revenue_data.csv')\n",
    "revenues['Revenue'] = revenues['Revenue'].astype(float)\n",
    "\n",
    "fig = make_subplots(rows=2, cols=1,\n",
    "    subplot_titles=['Histogram of company revenues', \n",
    "        'Box plot of company revenues'])\n",
    "## Add in traces (fig.add_trace())\n",
    "fig.add_trace(\n",
    "    go.Histogram(x=revenues['Revenue'], nbinsx=5, name='Histogram'),\n",
    "    row=1, col=1\n",
    ")\n",
    "fig.add_trace(\n",
    "    go.Box(x=revenues['Revenue'], hovertext=revenues['Company'], name='Box plot'),\n",
    "    row=2, col=1\n",
    ")\n",
    "fig.update_layout({'title': \n",
    "    {'text': 'Plots of company revenues', 'x': 0.5, 'y': 0.9}\n",
    "})\n",
    "fig.show()"
   ]
  },
  {
   "cell_type": "code",
   "execution_count": null,
   "id": "88c34c34-8173-40f4-a212-1769e11876a1",
   "metadata": {
    "id": "88c34c34-8173-40f4-a212-1769e11876a1",
    "jupyter": {
     "outputs_hidden": true
    },
    "tags": []
   },
   "outputs": [],
   "source": [
    "penguins = pd.read_csv('./Data/penguins.csv')\n",
    "\n",
    "fig = make_subplots(rows=3, cols=1, shared_xaxes=True)\n",
    "row_num = 1\n",
    "for species in penguins['Species'].unique():\n",
    "    df = penguins[penguins['Species']==species]\n",
    "    fig.add_trace(\n",
    "        go.Scatter(\n",
    "            x=df['Culmen Length (mm)'],\n",
    "            y=df['Culmen Depth (mm)'],\n",
    "            name=species, mode='markers'),\n",
    "        row=row_num, col=1\n",
    "    )\n",
    "    row_num += 1\n",
    "fig.show()"
   ]
  },
  {
   "cell_type": "code",
   "execution_count": null,
   "id": "b8caad9b-fc6e-4184-94d3-f234aef3abaf",
   "metadata": {
    "id": "b8caad9b-fc6e-4184-94d3-f234aef3abaf",
    "jupyter": {
     "outputs_hidden": true
    },
    "tags": []
   },
   "outputs": [],
   "source": [
    "revenues = pd.read_csv('./Data/revenue_data2.csv')\n",
    "df_tech = revenues[revenues['Industry']=='Tech']\n",
    "df_prof_serve = revenues[revenues['Industry']=='Professional Services']\n",
    "df_retail = revenues[revenues['Industry']=='Retail']\n",
    "df_oil = revenues[revenues['Industry']=='Oil']\n",
    "# Set up the subplots grid\n",
    "fig = make_subplots(rows=2, cols=2,\n",
    "    # Set the subplot titles\n",
    "    subplot_titles=['Tech', 'Professional Services', 'Retail', 'Oil']\n",
    ")\n",
    "# Add the Tech trace\n",
    "fig.add_trace(go.Box(x=df_tech.Revenue.astype(float), name='Tech', \n",
    "    showlegend=False), row=1, col=1)\n",
    "# Add the Professional Services trace\n",
    "fig.add_trace(go.Box(x=df_prof_serve.Revenue.astype(float), name='Professional Services', \n",
    "    showlegend=False), row=1, col=2)\n",
    "# Add the Retail trace\n",
    "fig.add_trace(go.Box(x=df_retail.Revenue.astype(float), name='Retail', \n",
    "    showlegend=False), row=2, col=1)\n",
    "# Add the Oil trace\n",
    "fig.add_trace(go.Box(x=df_oil.Revenue.astype(float), name='Oil', \n",
    "    showlegend=False), row=2, col=2)\n",
    "# Add a title (and show)\n",
    "fig.update_layout({'title': \n",
    "    {'text': 'Box plots of company revenues', 'x': 0.5, 'y': 0.9}})\n",
    "fig.show()"
   ]
  },
  {
   "cell_type": "code",
   "execution_count": null,
   "id": "c67ddaea-4666-443f-9fce-bf365a7bc40a",
   "metadata": {
    "id": "c67ddaea-4666-443f-9fce-bf365a7bc40a",
    "jupyter": {
     "outputs_hidden": true
    },
    "tags": []
   },
   "outputs": [],
   "source": [
    "revenues = pd.read_csv('./Data/revenue_data2.csv')\n",
    "# Create the subplots\n",
    "fig = make_subplots(rows=3, cols=1, shared_xaxes=True)\n",
    "# Loop through the industries\n",
    "row_num = 1\n",
    "for industry in ['Tech', 'Retail', 'Professional Services']:\n",
    "    df = revenues[revenues.Industry==industry]\n",
    "    # Add a histogram using subsetted df\n",
    "    fig.add_trace(\n",
    "        go.Histogram(x=df['Revenue'].astype(float), name=industry),\n",
    "        # Position the trace\n",
    "        row=row_num, col=1)\n",
    "    row_num += 1\n",
    "# Show the plot\n",
    "fig.show()"
   ]
  },
  {
   "cell_type": "markdown",
   "id": "2b2f3295-9e24-4c6e-a81b-cf249ff49639",
   "metadata": {
    "id": "2b2f3295-9e24-4c6e-a81b-cf249ff49639",
    "jp-MarkdownHeadingCollapsed": true,
    "tags": []
   },
   "source": [
    "## Layering multiple plots"
   ]
  },
  {
   "cell_type": "code",
   "execution_count": null,
   "id": "def58f29-2ef0-4340-bdb7-5c6d1349c8cb",
   "metadata": {
    "id": "def58f29-2ef0-4340-bdb7-5c6d1349c8cb",
    "jupyter": {
     "outputs_hidden": true
    },
    "tags": []
   },
   "outputs": [],
   "source": [
    "penguins_grouped = pd.read_csv('./Data/penguins_grouped.csv')\n",
    "# Create the base figure\n",
    "fig = go.Figure()\n",
    "# Loop through the species\n",
    "for species in ['Adelie', 'Chinstrap', 'Gentoo']:\n",
    "    # Add a bar chart trace\n",
    "    fig.add_trace(go.Bar(\n",
    "        x=penguins_grouped['Island'].unique(),\n",
    "        # Set the appropriate y subset and name\n",
    "        y=penguins_grouped[penguins_grouped.Species==species]['Count'],\n",
    "        name=species\n",
    "    ))\n",
    "# Show the figure\n",
    "fig.show()"
   ]
  },
  {
   "cell_type": "code",
   "execution_count": null,
   "id": "a0449f0b-0368-4360-afe9-e61e57c44b49",
   "metadata": {
    "id": "a0449f0b-0368-4360-afe9-e61e57c44b49",
    "jupyter": {
     "outputs_hidden": true
    },
    "tags": []
   },
   "outputs": [],
   "source": [
    "temp_syd = pd.read_csv('./Data/sydney_temps.csv', \n",
    "    parse_dates=['Date'])\n",
    "temp_syd_avg = pd.read_csv('./Data/sydney_temps_avg.csv', \n",
    "    parse_dates=['Date'])\n",
    "# Create the base figure\n",
    "fig = go.Figure()\n",
    "# Add the bar graph of daily temperatures\n",
    "fig.add_trace(go.Bar(\n",
    "    x=temp_syd['Date'],\n",
    "    y=temp_syd['Temp'],\n",
    "    name='Daily Max Temperature'\n",
    "))\n",
    "# Add the monthly average line graph\n",
    "fig.add_trace(go.Scatter(\n",
    "    x=temp_syd_avg['Date'],\n",
    "    y=temp_syd_avg['Average'],\n",
    "    name='Average Monthly Temperature',\n",
    "    mode='lines+markers'\n",
    "))\n",
    "# Show the plot\n",
    "fig.show()"
   ]
  },
  {
   "cell_type": "markdown",
   "id": "102ec644-5b5e-4e25-ad11-472ef5b65e2e",
   "metadata": {
    "id": "102ec644-5b5e-4e25-ad11-472ef5b65e2e",
    "jp-MarkdownHeadingCollapsed": true,
    "tags": []
   },
   "source": [
    "## Time buttons"
   ]
  },
  {
   "cell_type": "code",
   "execution_count": null,
   "id": "7f621dc2-257c-4c0a-bec5-e8689b8d296f",
   "metadata": {
    "id": "7f621dc2-257c-4c0a-bec5-e8689b8d296f",
    "jupyter": {
     "outputs_hidden": true
    },
    "tags": []
   },
   "outputs": [],
   "source": [
    "rain = pd.read_csv('./Data/rain.csv', \n",
    "    parse_dates=['Date'], dayfirst=True)\n",
    "# Create the buttons\n",
    "date_buttons = [\n",
    "    {'count': 28, 'label': '4WTD', 'step': 'day', 'stepmode': 'todate'},\n",
    "    {'count': 48, 'label': '48HR', 'step': 'hour', 'stepmode': 'todate'},\n",
    "    {'count': 1, 'label': 'YTD', 'step': 'year', 'stepmode': 'todate'}\n",
    "]\n",
    "# Create the basic line chart\n",
    "fig = px.line(data_frame=rain, x='Date', y='Rainfall',\n",
    "    title='Rainfall (mm)')\n",
    "# Add the buttons and show\n",
    "fig.update_layout({\n",
    "    'xaxis': {'rangeselector': {'buttons': date_buttons}}\n",
    "})\n",
    "fig.show()"
   ]
  },
  {
   "cell_type": "code",
   "execution_count": null,
   "id": "5040974e-13c4-4dd5-97dd-9f77b73d2731",
   "metadata": {
    "id": "5040974e-13c4-4dd5-97dd-9f77b73d2731",
    "jupyter": {
     "outputs_hidden": true
    },
    "tags": []
   },
   "outputs": [],
   "source": [
    "tesla = pd.read_csv('./Data/AAPL.csv', \n",
    "    parse_dates=['Date'])\n",
    "# Create the basic line chart\n",
    "fig = px.line(data_frame=tesla, x='Date', y='Open',\n",
    "    title=\"Tesla Opening Stock Prices\")\n",
    "# Create the financial buttons\n",
    "fin_buttons = [\n",
    "    {'count': 7, 'label': '1WTD', 'step': 'day', 'stepmode': 'todate'},\n",
    "    {'count': 6, 'label': '6MTD', 'step': 'month', 'stepmode': 'todate'},\n",
    "    {'count': 1, 'label': 'YTD', 'step': 'year', 'stepmode': 'todate'}\n",
    "]\n",
    "# Create the date range buttons & show the plot\n",
    "fig.update_layout({\n",
    "    'xaxis': {'rangeselector': {'buttons': fin_buttons}}\n",
    "})\n",
    "fig.show()"
   ]
  },
  {
   "cell_type": "markdown",
   "id": "e38ba9e6-b766-4480-9d91-4ab50fe514b8",
   "metadata": {
    "id": "e38ba9e6-b766-4480-9d91-4ab50fe514b8",
    "jp-MarkdownHeadingCollapsed": true,
    "tags": []
   },
   "source": [
    "## Custom buttons"
   ]
  },
  {
   "cell_type": "code",
   "execution_count": null,
   "id": "5b8dd608-a0ba-452c-9360-a9afb7ead517",
   "metadata": {
    "id": "5b8dd608-a0ba-452c-9360-a9afb7ead517",
    "jupyter": {
     "outputs_hidden": true
    },
    "tags": []
   },
   "outputs": [],
   "source": [
    "revenues = pd.read_csv('./Data/revenue_data2.csv')\n",
    "revenues = revenues[revenues['Industry'].isin(\n",
    "    ['Tech', 'Oil', 'Pharmaceuticals', 'Professional Services'])]\n",
    "revenues['Revenue'] = revenues['Revenue'].astype(float)\n",
    "# Create a simple bar chart\n",
    "fig = px.bar(\n",
    "    data_frame=revenues, x='Industry', y='Revenue',\n",
    "    color='Industry'\n",
    ")\n",
    "# Create the buttons\n",
    "my_buttons = [\n",
    "    {'label': 'Bar plot', 'method': 'update', \n",
    "        'args': [{'type': 'bar'}]},\n",
    "    {'label': 'scatterplot', 'method': 'update',\n",
    "        'args': [{'type': 'scatter', 'mode': 'markers'}]}\n",
    "]\n",
    "# Add buttons to the plot and show\n",
    "fig.update_layout({\n",
    "    'updatemenus': [{\n",
    "        'type': 'buttons',\n",
    "        'direction': 'down',\n",
    "        'x': 1.3, 'y': 0.5,\n",
    "        'showactive': True,\n",
    "        'active': 0,\n",
    "        'buttons': my_buttons\n",
    "    }]\n",
    "})\n",
    "fig.show()"
   ]
  },
  {
   "cell_type": "code",
   "execution_count": null,
   "id": "bd9dc2af-a335-49e6-a6cd-e976eb1da8c2",
   "metadata": {
    "id": "bd9dc2af-a335-49e6-a6cd-e976eb1da8c2",
    "jupyter": {
     "outputs_hidden": true
    },
    "tags": []
   },
   "outputs": [],
   "source": [
    "sales = pd.read_csv('./Data/monthly_sales.csv', \n",
    "    parse_dates=['Month Start'], dayfirst=True)\n",
    "\n",
    "# Create the basic figure\n",
    "fig = go.Figure()\n",
    "\n",
    "# Add a trace per metric\n",
    "fig.add_trace(go.Bar(\n",
    "    x=sales['Month'], y=sales['Sales Volume'], name='Sales Volume'\n",
    "))\n",
    "fig.add_trace(go.Bar(\n",
    "    x=sales['Month'], y=sales['Sales Value'], name='Sales Value'\n",
    "))\n",
    "# Create annotations\n",
    "volume_annotations = [{\n",
    "    'text': 'Oct was the best', 'showarrow': True, 'x': 'October', 'y': 71900\n",
    "}]\n",
    "value_annotations = [{\n",
    "    'text': 'Sept was the best', 'showarrow': True, 'x': 'September', 'y': 345397\n",
    "}]\n",
    "# Create buttons\n",
    "my_buttons = [\n",
    "    {'label': 'By Sales Value', 'method': 'update', \n",
    "        'args': [{}, {'annotations': value_annotations}]},\n",
    "    {'label': 'By Sales Volume', 'method': 'update',\n",
    "        'args': [{}, {'annotations': volume_annotations}]}\n",
    "]\n",
    "# Add the buttons\n",
    "fig.update_layout({\n",
    "    'updatemenus': [{'type': 'buttons', 'direction': 'down',\n",
    "        'x': 1.3, 'y': 0.5, 'buttons': my_buttons}]\n",
    "})\n",
    "# Take a look at plot so far\n",
    "fig.show()"
   ]
  },
  {
   "cell_type": "markdown",
   "id": "48751b10-9222-4f83-a0cb-fd6396940875",
   "metadata": {
    "id": "48751b10-9222-4f83-a0cb-fd6396940875",
    "jp-MarkdownHeadingCollapsed": true,
    "tags": []
   },
   "source": [
    "## Dropdowns"
   ]
  },
  {
   "cell_type": "code",
   "execution_count": null,
   "id": "0866f857-4f16-492a-be2e-42a68942c77e",
   "metadata": {
    "id": "0866f857-4f16-492a-be2e-42a68942c77e",
    "jupyter": {
     "outputs_hidden": true
    },
    "tags": []
   },
   "outputs": [],
   "source": [
    "# Create the basic figure\n",
    "fig = go.Figure()\n",
    "# Loop through the states\n",
    "pop_growth = pd.read_csv('./Data/pop_growth.csv')\n",
    "pop_growth['LGA code'] = pop_growth['LGA code'].astype(str)\n",
    "for state in ['NSW', 'QLD', 'VIC']:\n",
    "    # Subset the DataFrame\n",
    "    df = pop_growth[pop_growth['State']==state]\n",
    "    # Add a trace for each state subset\n",
    "    fig.add_trace(go.Bar(\n",
    "        x=df['Local Government Area'], y=df['Change %'], name=state\n",
    "    ))\n",
    "# Create the buttons\n",
    "dropdown_buttons = [\n",
    "    {'label': 'ALL', 'method': 'update',\n",
    "        'args': [{'visible': [True, True, True]}, {'title': 'ALL'}]},\n",
    "    {'label': 'NSW', 'method': 'update',\n",
    "        'args': [{'visible': [True, False, False]}, {'title': 'NSW'}]},\n",
    "    {'label': 'QLD', 'method': 'update',\n",
    "        'args': [{'visible': [False, True, False]}, {'title': 'QLD'}]},\n",
    "    {'label': 'VIC', 'method': 'update',\n",
    "        'args': [{'visible': [False, False, True]}, {'title': 'VIC'}]}\n",
    "]\n",
    "# Update the figure to add dropdown menu\n",
    "fig.update_layout({\n",
    "    'updatemenus': [{\n",
    "        'type': 'dropdown',\n",
    "        'x': 1.3,\n",
    "        'y': 0.5,\n",
    "        'showactive': True,\n",
    "        'active': 0,\n",
    "        'buttons': dropdown_buttons\n",
    "    }]\n",
    "})\n",
    "# Show the plot\n",
    "fig.show()"
   ]
  },
  {
   "cell_type": "code",
   "execution_count": null,
   "id": "05f2a8a0-7bd6-4cc0-bfc6-edebb0a1b156",
   "metadata": {
    "id": "05f2a8a0-7bd6-4cc0-bfc6-edebb0a1b156",
    "jupyter": {
     "outputs_hidden": true
    },
    "tags": []
   },
   "outputs": [],
   "source": [
    "# Create the basic figure\n",
    "fig = go.Figure()\n",
    "# Loop through the suburbs\n",
    "house_prices = pd.read_csv('./Data/house_prices.csv')\n",
    "for suburb in ['Greenacre', 'Lakemba']:\n",
    "    # Subset the DataFrame\n",
    "    df = house_prices[house_prices['Suburb']==suburb]\n",
    "    # Add a trace for each suburb subset\n",
    "    fig.add_trace(go.Scatter(\n",
    "        x=df['Year'],\n",
    "        y=df['Median House Price'],\n",
    "        name=suburb, mode='lines'\n",
    "    ))\n",
    "# Annotation\n",
    "ga_annotation = [{\n",
    "    'text': 'Price boom!', 'showarrow': True,\n",
    "    'x': 'Year: 2018', 'y': 712678\n",
    "}]\n",
    "# Create the buttons\n",
    "dropdown_buttons = [\n",
    "    {'label': 'Greenacre', 'method': 'update',\n",
    "        'args': [{'visible': [True, False]}, \n",
    "            {'title': 'Greenacre', 'annotations': ga_annotation}]},\n",
    "    {'label': 'Lakemba', 'method': 'update',\n",
    "        'args': [{'visible': [False, True]},\n",
    "            {'title': 'Lakemba', 'annotations': []}]}\n",
    "]\n",
    "fig.update_layout({\n",
    "    'updatemenus': [{\n",
    "        'type': 'dropdown', 'x': 1.3, 'y': 0.5,\n",
    "        'showactive': True, 'active': 0, 'buttons': dropdown_buttons\n",
    "    }]\n",
    "})\n",
    "# Show the plot\n",
    "fig.show()"
   ]
  },
  {
   "cell_type": "markdown",
   "id": "fc16ce1a-7863-4f0e-9e66-b997feda5c16",
   "metadata": {
    "id": "fc16ce1a-7863-4f0e-9e66-b997feda5c16",
    "jp-MarkdownHeadingCollapsed": true,
    "tags": []
   },
   "source": [
    "## Sliders"
   ]
  },
  {
   "cell_type": "code",
   "execution_count": null,
   "id": "d8291bf2-5d66-4178-9568-28bf3d69643c",
   "metadata": {
    "id": "d8291bf2-5d66-4178-9568-28bf3d69643c"
   },
   "outputs": [],
   "source": [
    "fig = px.scatter(\n",
    "    data_frame=revenues,\n",
    "    x='Employees', y='Revenue', color='Industry',\n",
    "    animation_frame='Year', animation_group='Company'\n",
    ")\n",
    "fig.update_layout({\n",
    "    'xaxis': {'range': [-100000, 2500000]},\n",
    "    'yaxis': {'range': [0, 500000]}\n",
    "})\n",
    "fig['layout'].pop('updatemenus')\n",
    "fig.show()"
   ]
  },
  {
   "cell_type": "code",
   "execution_count": null,
   "id": "94dd4b9d-15b7-44a2-b5bc-d90f0c6db8aa",
   "metadata": {
    "id": "94dd4b9d-15b7-44a2-b5bc-d90f0c6db8aa",
    "jupyter": {
     "outputs_hidden": true
    },
    "tags": []
   },
   "outputs": [],
   "source": [
    "# Create the basic figure\n",
    "fig = go.Figure()\n",
    "penguins = pd.read_csv('./Data/penguins.csv')\n",
    "# Loop through the island\n",
    "for island in ['Torgersen', 'Biscoe', 'Dream']:\n",
    "    df = penguins[penguins.Island==island]\n",
    "    fig.add_trace(go.Scatter(\n",
    "        x=df['Culmen Length (mm)'],\n",
    "        y=df['Culmen Depth (mm)'],\n",
    "        mode='markers', name=island\n",
    "    ))\n",
    "# Create the slider elements\n",
    "sliders = [{\n",
    "    'steps': [\n",
    "        {'label': 'Torgersen', 'method': 'update',\n",
    "            'args': [{'visible': [True, False, False]}]},\n",
    "        {'label': 'Bisco', 'method': 'update',\n",
    "            'args': [{'visible': [False, True, False]}]},\n",
    "        {'label': 'Dream', 'method': 'update',\n",
    "            'args': [{'visible': [False, False, True]}]}\n",
    "    ]\n",
    "}]\n",
    "# Make traces invisible\n",
    "fig.data[1].visible = False\n",
    "fig.data[2].visible = False\n",
    "# Update the figure to add sliders and show\n",
    "fig.update_layout({'sliders': sliders})\n",
    "# Show the plot\n",
    "fig.show()"
   ]
  },
  {
   "cell_type": "code",
   "execution_count": null,
   "id": "39296cd6-cdc7-46dd-8e9f-f0b7601ca498",
   "metadata": {
    "id": "39296cd6-cdc7-46dd-8e9f-f0b7601ca498",
    "jupyter": {
     "outputs_hidden": true
    },
    "tags": []
   },
   "outputs": [],
   "source": [
    "# Create the basic figure\n",
    "fig = go.Figure()\n",
    "rain_pm = pd.read_csv('./Data/rain_pm.csv')\n",
    "# Loop through the seasons\n",
    "for season in ['Autumn', 'Winter', 'Spring']:\n",
    "    # Subset the DataFrame\n",
    "    df = rain_pm[rain_pm['Season']==season]\n",
    "    # Add a trace for each season\n",
    "    fig.add_trace(go.Bar(\n",
    "        x=df['Month'], y=df['Total Rainfall'], name=season\n",
    "    ))\n",
    "# Create the slider elements\n",
    "sliders = [{\n",
    "    'steps': [\n",
    "        {'label': 'Autumn', 'method': 'update',\n",
    "            'args': [{'visible': [True, False, False]}]},\n",
    "        {'label': 'Winter', 'method': 'update',\n",
    "            'args': [{'visible': [False, True, False]}]},\n",
    "        {'label': 'Spring', 'method': 'update',\n",
    "            'args': [{'visible': [False, False, True]}]}\n",
    "    ]\n",
    "}]\n",
    "# Update the figure to add sliders and show\n",
    "fig.update_layout({'sliders': sliders})\n",
    "# Show the plot\n",
    "fig.show()"
   ]
  }
 ],
 "metadata": {
  "colab": {
   "include_colab_link": true,
   "name": "Plotly.ipynb",
   "provenance": []
  },
  "kernelspec": {
   "display_name": "venv",
   "language": "python",
   "name": "venv"
  },
  "language_info": {
   "codemirror_mode": {
    "name": "ipython",
    "version": 3
   },
   "file_extension": ".py",
   "mimetype": "text/x-python",
   "name": "python",
   "nbconvert_exporter": "python",
   "pygments_lexer": "ipython3",
   "version": "3.8.10"
  }
 },
 "nbformat": 4,
 "nbformat_minor": 5
}

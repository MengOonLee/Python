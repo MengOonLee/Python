{
 "cells": [
  {
   "cell_type": "markdown",
   "id": "7ba873f0",
   "metadata": {
    "colab_type": "text",
    "id": "view-in-github"
   },
   "source": [
    "<a href=\"https://colab.research.google.com/github/MengOonLee/Python/blob/main/Plotly_Dash/Plotly.ipynb\" target=\"_parent\"><img src=\"https://colab.research.google.com/assets/colab-badge.svg\" alt=\"Open In Colab\"/></a>"
   ]
  },
  {
   "cell_type": "code",
   "execution_count": 4,
   "id": "8adc4c53-6055-4a3d-a537-9d831e362ad4",
   "metadata": {
    "colab": {
     "base_uri": "https://localhost:8080/",
     "height": 542
    },
    "id": "8adc4c53-6055-4a3d-a537-9d831e362ad4",
    "jupyter": {
     "outputs_hidden": true
    },
    "outputId": "1d993a7c-f2bb-42a7-d22b-d3c6814fdb42",
    "tags": []
   },
   "outputs": [
    {
     "name": "stdout",
     "output_type": "stream",
     "text": [
      "Dash is running on http://0.0.0.0:8050/\n",
      "\n",
      "Dash app running on http://0.0.0.0:8050/\n"
     ]
    }
   ],
   "source": [
    "import numpy\n",
    "import pandas\n",
    "from jupyter_dash import JupyterDash\n",
    "import dash\n",
    "import plotly\n",
    "\n",
    "ecom_sales = pandas.read_csv('./Data/ecom_sales.csv')\n",
    "ecom_sales['InvoiceDate'] = pandas.to_datetime(\n",
    "    ecom_sales['InvoiceDate']).dt.date\n",
    "ecom_sales['Amount'] = ecom_sales['Quantity']\\\n",
    "    * ecom_sales['UnitPrice']\n",
    "\n",
    "sales_country = ecom_sales.groupby(by=['Country'])\\\n",
    "    .agg(Sales=('Amount', numpy.sum))\\\n",
    "    .reset_index()\n",
    "bar_sales_country = plotly.graph_objects.Figure()\n",
    "for c in sales_country['Country']:\n",
    "    mask = sales_country['Country']==c\n",
    "    bar_sales_country.add_trace(\n",
    "        plotly.graph_objects.Bar(\n",
    "            hovertemplate='Country=%{x}<br>Sales=%{y}<extra></extra>',\n",
    "            x=numpy.array([c], dtype=object),\n",
    "            y=numpy.array(sales_country[mask]['Sales']),\n",
    "            name=c\n",
    "    ))\n",
    "bar_sales_country.update_layout(\n",
    "    title_text='Sales by country',\n",
    "    xaxis_title_text='Country',\n",
    "    yaxis_title_text='Sales',\n",
    "    legend_title_text='Country'\n",
    ")\n",
    "\n",
    "app = JupyterDash(__name__)\n",
    "app.layout = dash.html.Div(children=[\n",
    "    dash.html.H1('Ecom Sales'),\n",
    "    dash.dcc.Graph(id='bar_sales_country', figure=bar_sales_country)\n",
    "])\n",
    "if __name__ == '__main__':\n",
    "    app.run_server(host='0.0.0.0', debug=True)"
   ]
  },
  {
   "cell_type": "code",
   "execution_count": null,
   "id": "bdb97071-3523-4ef8-a275-dbb0f1a556e4",
   "metadata": {
    "id": "bdb97071-3523-4ef8-a275-dbb0f1a556e4",
    "jupyter": {
     "outputs_hidden": true
    },
    "outputId": "94d6641f-a143-418f-ca04-444535b2cbab",
    "tags": []
   },
   "outputs": [],
   "source": [
    "student_scores = pd.DataFrame({\n",
    "    'student_name': ['John', 'Julia', 'Xuan', 'Harry'],\n",
    "    'score': [80, 97, 90, 85],\n",
    "    'city': ['Sydney', 'Sydney', 'Melbourne', 'Melbourne']\n",
    "})\n",
    "# Create the bar plot\n",
    "fig = px.bar(data_frame=student_scores, x='student_name', y='score',\n",
    "    title='Student Scores by Student', color='city',\n",
    "    color_discrete_map={\n",
    "        'Melbourne': 'rgb(0, 0, 128)',\n",
    "        'Sydney': 'rgb(235, 207, 52)'\n",
    "    }\n",
    ")\n",
    "# Show the plot\n",
    "fig.show()\n",
    "\n",
    "# Create continuous color scale\n",
    "my_scale = ['rgb(255, 0, 0)', 'rgb(3, 252, 40)']\n",
    "# Create the bar plot\n",
    "fig = px.bar(data_frame=student_scores, x='student_name', y='score',\n",
    "    title='Student Scores by Student',\n",
    "    # Set the color variable and scale\n",
    "    color='score', color_continuous_scale=my_scale\n",
    ")\n",
    "# Show the plot\n",
    "fig.show()"
   ]
  },
  {
   "cell_type": "code",
   "execution_count": null,
   "id": "c33be26e-35b0-4bd4-bb8e-537655520378",
   "metadata": {
    "id": "c33be26e-35b0-4bd4-bb8e-537655520378",
    "jupyter": {
     "outputs_hidden": true
    },
    "outputId": "1cb2365a-5121-4759-b912-44b894a5cd9b",
    "tags": []
   },
   "outputs": [],
   "source": [
    "revenues = pd.read_csv('./Data/revenue_data.csv')\n",
    "revenues['Revenue'] = revenues['Revenue'].astype(float)\n",
    "# Create the box plot\n",
    "fig = px.box(\n",
    "    # Set the data\n",
    "    data_frame=revenues,\n",
    "    # Set the y variable\n",
    "    y='Revenue',\n",
    "    # Add in hover data to see outliers\n",
    "    hover_data=['Company'])\n",
    "# Show the plot\n",
    "fig.show()\n",
    "\n",
    "revenues = pd.read_csv('./Data/revenue_data2.csv')\n",
    "revenues = revenues[revenues['Industry'].isin(\n",
    "    ['Tech', 'Oil', 'Pharmaceuticals', 'Professional Services'])]\n",
    "revenues['Revenue'] = revenues['Revenue'].astype(float)\n",
    "# Create the industry-color map\n",
    "ind_color_map = {\n",
    "    'Tech': 'rgb(124, 250, 120)',\n",
    "    'Oil': 'rgb(112, 128, 144)',\n",
    "    'Pharmaceuticals': 'rgb(137, 109, 247)',\n",
    "    'Professional Services': 'rgb(255, 0, 0)'\n",
    "}\n",
    "# Create the basic box plot\n",
    "fig = px.box(\n",
    "    # Set the data and y variable\n",
    "    data_frame=revenues, y='Revenue',\n",
    "    # Set the color map and variable\n",
    "    color='Industry', color_discrete_map=ind_color_map\n",
    ")\n",
    "# Show the plot\n",
    "fig.show()"
   ]
  },
  {
   "cell_type": "code",
   "execution_count": null,
   "id": "d3ff3562-71e9-4953-a5ba-61adf6eed1ad",
   "metadata": {
    "id": "d3ff3562-71e9-4953-a5ba-61adf6eed1ad",
    "jupyter": {
     "outputs_hidden": true
    },
    "outputId": "4a9f4927-38ca-44c6-c1b9-b86db8014085",
    "tags": []
   },
   "outputs": [],
   "source": [
    "revenues = pd.read_csv('./Data/revenue_data.csv')\n",
    "revenues['Revenue'] = revenues['Revenue'].astype(float)\n",
    "# Create a simple histogram\n",
    "fig = px.histogram(data_frame=revenues,\n",
    "    # Set up the x-axis\n",
    "    x='Revenue',\n",
    "    # Set the number of bins\n",
    "    nbins=5)\n",
    "# Show the plot\n",
    "fig.show()\n",
    "\n",
    "revenues = pd.read_csv('./Data/revenue_data2.csv')\n",
    "revenues = revenues[revenues['Industry'].isin(\n",
    "    ['Tech', 'Oil', 'Pharmaceuticals', 'Professional Services'])]\n",
    "revenues['Revenue'] = revenues['Revenue'].astype(float)\n",
    "# Create the industry-color map\n",
    "ind_color_map = {\n",
    "    'Tech': 'rgb(124, 250, 120)',\n",
    "    'Oil': 'rgb(112, 128, 144)',\n",
    "    'Pharmaceuticals': 'rgb(137, 109, 247)',\n",
    "    'Professional Services': 'rgb(255, 0, 0)'\n",
    "}\n",
    "# Create a simple histogram\n",
    "fig = px.histogram(\n",
    "    # Set the data and x variable\n",
    "    data_frame=revenues, x='Revenue', nbins=5,\n",
    "    # Set the color map and variable\n",
    "    color='Industry', color_discrete_map=ind_color_map\n",
    ")\n",
    "# Show the plot\n",
    "fig.show()"
   ]
  },
  {
   "cell_type": "markdown",
   "id": "4eff942b-f57f-4ff1-9b93-e75ce6a64b70",
   "metadata": {
    "id": "4eff942b-f57f-4ff1-9b93-e75ce6a64b70",
    "jp-MarkdownHeadingCollapsed": true,
    "tags": []
   },
   "source": [
    "## Bivariate visualizations"
   ]
  },
  {
   "cell_type": "code",
   "execution_count": null,
   "id": "1923c7d2-d12a-4268-aa02-ca1ff6a5cd28",
   "metadata": {
    "id": "1923c7d2-d12a-4268-aa02-ca1ff6a5cd28",
    "jupyter": {
     "outputs_hidden": true
    },
    "outputId": "8bff2533-f3e4-4cc3-95bc-5ca5258c0419",
    "tags": []
   },
   "outputs": [],
   "source": [
    "penguins = pd.read_csv('./Data/penguins.csv')\n",
    "\n",
    "# Set up the color map\n",
    "color_map = {\n",
    "    'Adelie': 'rgb(235, 52, 52)',\n",
    "    'Gentoo': 'rgb(235, 149, 52)',\n",
    "    'Chinstrap': 'rgb(67, 52, 235)'\n",
    "}\n",
    "# Create a scatterplot\n",
    "fig = px.scatter(\n",
    "    data_frame=penguins,\n",
    "    title=\"Penguin Culmen Statistics\",\n",
    "    x='Culmen Length (mm)',\n",
    "    y='Culmen Depth (mm)',\n",
    "    # Set the colors to use your color map\n",
    "    color='Species', color_discrete_map=color_map\n",
    ")\n",
    "# Show your work\n",
    "fig.show()"
   ]
  },
  {
   "cell_type": "code",
   "execution_count": null,
   "id": "af6a0b83-9297-41e0-8afd-08b1c1112bd0",
   "metadata": {
    "id": "af6a0b83-9297-41e0-8afd-08b1c1112bd0",
    "jupyter": {
     "outputs_hidden": true
    },
    "outputId": "0b8fa2c5-d39d-46c9-c0bf-285f13e2922a",
    "tags": []
   },
   "outputs": [],
   "source": [
    "penguins = pd.read_csv('./Data/penguins.csv')\n",
    "\n",
    "# Create a correlation table with pandas\n",
    "penguin_corr = penguins.select_dtypes(include=np.float64).corr(method='pearson')\n",
    "# Set up the correlation plot\n",
    "fig = go.Figure(go.Heatmap(\n",
    "    # Set the appropriate x, y and z values\n",
    "    x=penguin_corr.columns,\n",
    "    y=penguin_corr.columns,\n",
    "    z=penguin_corr.values.tolist(),\n",
    "    # Set the color scale\n",
    "    colorscale='rdylgn', \n",
    "    # Set min and max values\n",
    "    zmin=-1, zmax=1\n",
    "))\n",
    "fig.show()"
   ]
  },
  {
   "cell_type": "markdown",
   "id": "56665116-e1f0-40ba-a5d9-275084e74e48",
   "metadata": {
    "id": "56665116-e1f0-40ba-a5d9-275084e74e48",
    "jp-MarkdownHeadingCollapsed": true,
    "tags": []
   },
   "source": [
    "## Hover information and legends"
   ]
  },
  {
   "cell_type": "code",
   "execution_count": null,
   "id": "db60441e-2ee5-4a9d-90e5-292fa887b03c",
   "metadata": {
    "id": "db60441e-2ee5-4a9d-90e5-292fa887b03c",
    "jupyter": {
     "outputs_hidden": true
    },
    "outputId": "69b84a5f-956b-4b94-a280-ede1d8ce11d9",
    "tags": []
   },
   "outputs": [],
   "source": [
    "life_gdp = pd.read_csv('./Data/gapminder.tsv', sep='\\t')\n",
    "life_gdp = life_gdp[life_gdp['year']==2007]\n",
    "\n",
    "# Create the scatterplot\n",
    "fig = px.scatter(\n",
    "    data_frame=life_gdp,\n",
    "    x='lifeExp',\n",
    "    y='gdpPercap',\n",
    "    color='continent'\n",
    ")\n",
    "# Create the legend\n",
    "my_legend = {\n",
    "    'x': 0.2, 'y': 0.95, 'bgcolor': 'rgb(60, 240, 201)', \n",
    "    'borderwidth': 5\n",
    "}\n",
    "# Update the figure\n",
    "fig.update_layout({\n",
    "    'showlegend': True,\n",
    "    'legend': my_legend\n",
    "})\n",
    "# Show the plot\n",
    "fig.show()"
   ]
  },
  {
   "cell_type": "code",
   "execution_count": null,
   "id": "6988bc29-65f5-46b1-99f7-470a2e35668e",
   "metadata": {
    "id": "6988bc29-65f5-46b1-99f7-470a2e35668e",
    "jupyter": {
     "outputs_hidden": true
    },
    "outputId": "4532b1a1-97b2-4b9c-986e-18fad08f394a",
    "tags": []
   },
   "outputs": [],
   "source": [
    "life_gdp = pd.read_csv('./Data/gapminder.tsv', sep='\\t')\n",
    "life_gdp = life_gdp[life_gdp['year']==2007]\n",
    "\n",
    "# Create the scatterplot\n",
    "fig = px.scatter(\n",
    "    data_frame=life_gdp,\n",
    "    x='lifeExp',\n",
    "    y='gdpPercap',\n",
    "    color='continent',\n",
    "    # Add columns to the hover information\n",
    "    hover_data=['continent', 'lifeExp', 'gdpPercap'],\n",
    "    # Add bold variable in hover information\n",
    "    hover_name='country'\n",
    ")\n",
    "# Show the plot\n",
    "fig.show()"
   ]
  },
  {
   "cell_type": "markdown",
   "id": "dbc9511a-2f1b-45bc-8534-0a7c65546eec",
   "metadata": {
    "id": "dbc9511a-2f1b-45bc-8534-0a7c65546eec",
    "jp-MarkdownHeadingCollapsed": true,
    "tags": []
   },
   "source": [
    "## Adding annotations"
   ]
  },
  {
   "cell_type": "code",
   "execution_count": null,
   "id": "8e73ec95-76a4-450f-8f96-5c160d153606",
   "metadata": {
    "id": "8e73ec95-76a4-450f-8f96-5c160d153606",
    "outputId": "00154c5f-33ae-4abb-882b-e89f55af3eb3",
    "tags": []
   },
   "outputs": [],
   "source": [
    "savings = pd.read_csv('./Data/savings.csv')\n",
    "\n",
    "# Create the bar plot\n",
    "fig = px.bar(\n",
    "    data_frame=savings, x='Week', y='Savings'\n",
    ")\n",
    "# Create the first annotation\n",
    "loss_annotation = {\n",
    "    'x': 10, 'y': 400, \n",
    "    'showarrow': True, 'arrowhead': 4,\n",
    "    'font': {'color': 'black'}, \n",
    "    'text': \"Urgent House Repairs\"\n",
    "}\n",
    "# Create the second annotation\n",
    "gain_annotation = {\n",
    "    'x': 18, 'y': 2500, \n",
    "    'showarrow': True, 'arrowhead': 4,\n",
    "    'font': {'color': 'black'}, \n",
    "    'text': \"New Job!\"\n",
    "}\n",
    "# Add annotations to the figure\n",
    "fig.update_layout({\n",
    "    'annotations': [loss_annotation, gain_annotation]\n",
    "})\n",
    "# Show the plot!\n",
    "fig.show()"
   ]
  },
  {
   "cell_type": "code",
   "execution_count": null,
   "id": "31352afb-af16-4ceb-9547-a7fa8fa36ff1",
   "metadata": {
    "id": "31352afb-af16-4ceb-9547-a7fa8fa36ff1",
    "jupyter": {
     "outputs_hidden": true
    },
    "outputId": "bbac6182-373a-439d-a7cb-d86157b3c7a7",
    "tags": []
   },
   "outputs": [],
   "source": [
    "revenues = pd.read_csv('./Data/revenue_data.csv')\n",
    "revenues['Revenue'] = revenues['Revenue'].astype(float)\n",
    "# Create a simple histogram\n",
    "fig = px.histogram(data_frame=revenues,\n",
    "    # Set up the x-axis\n",
    "    x='Revenue',\n",
    "    # Set the number of bins\n",
    "    nbins=5)\n",
    "\n",
    "# Get and format today's date\n",
    "today = datetime.today().strftime('%A')\n",
    "\n",
    "# Create the message_annotation\n",
    "message_annotation = {\n",
    "    # Set the correct coordinates\n",
    "    'x': 0.5, 'y': 0.95, \n",
    "    'xref': 'paper', 'yref': 'paper',\n",
    "    # Set format the text and box\n",
    "    'text': f'Have a Happy {today} :)',\n",
    "    'font': {'size': 20, 'color': 'white'},\n",
    "    'bgcolor': 'rgb(237, 64, 200)', 'showarrow': False\n",
    "}\n",
    "\n",
    "# Update the figure layout and show\n",
    "fig.update_layout({'annotations': [message_annotation]})\n",
    "# Show the plot\n",
    "fig.show()"
   ]
  },
  {
   "cell_type": "markdown",
   "id": "d825ffef-6e6d-4675-98f0-95c8eab4424f",
   "metadata": {
    "id": "d825ffef-6e6d-4675-98f0-95c8eab4424f",
    "jp-MarkdownHeadingCollapsed": true,
    "tags": []
   },
   "source": [
    "## Plot axes"
   ]
  },
  {
   "cell_type": "code",
   "execution_count": null,
   "id": "e909e5e9-2dde-40ee-8dc5-9cc837cc4bbe",
   "metadata": {
    "id": "e909e5e9-2dde-40ee-8dc5-9cc837cc4bbe",
    "jupyter": {
     "outputs_hidden": true
    },
    "outputId": "b93ce676-be19-4a22-90a3-5f0dc0fb2789",
    "tags": []
   },
   "outputs": [],
   "source": [
    "bball_data = pd.read_csv('./Data/bball_data.csv')\n",
    "\n",
    "# Create and show the plot\n",
    "fig = px.scatter(\n",
    "    data_frame=bball_data,\n",
    "    x='PPG',\n",
    "    y='FGP',\n",
    "    title=\"Field Goal Percentage vs. Points Per Game\"\n",
    ")\n",
    "fig.show()\n",
    "# Update the x_axis range\n",
    "fig.update_layout({\n",
    "    'xaxis': {\n",
    "        'range': [0, bball_data['PPG'].max() + 5]\n",
    "    },\n",
    "    'yaxis': {\n",
    "        'range': [0, 100]\n",
    "    }\n",
    "})\n",
    "fig.show()"
   ]
  },
  {
   "cell_type": "code",
   "execution_count": null,
   "id": "b1711b91-39da-4efc-815c-2ce2b2493acc",
   "metadata": {
    "id": "b1711b91-39da-4efc-815c-2ce2b2493acc",
    "jupyter": {
     "outputs_hidden": true
    },
    "outputId": "5e2dc369-5447-4e89-cb2b-f30b268629f2",
    "tags": []
   },
   "outputs": [],
   "source": [
    "penguins = pd.DataFrame({\n",
    "    'spec': ['Adelie', 'Chinstrap', 'Gentoo'],\n",
    "    'av_flip_length': [190.0, 196.0, 217.0]\n",
    "})\n",
    "# Create timestamp\n",
    "timestamp = datetime.now()\n",
    "# Create plot\n",
    "fig = px.bar(\n",
    "    data_frame=penguins,\n",
    "    x='spec',\n",
    "    y='av_flip_length',\n",
    "    title='Flipper Length (mm) by Species',\n",
    "    color='spec'\n",
    ")\n",
    "fig.update_layout({\n",
    "    # Change the axis titles\n",
    "    'xaxis': {\n",
    "        'title': {'text': 'Species'}\n",
    "    },\n",
    "    'yaxis': {\n",
    "        'title': {'text': 'Average Flipper Length (mm)'}\n",
    "    },\n",
    "    # Add an annotation\n",
    "    'annotations': [{\n",
    "        'x': 0.5, 'y': 1.1,\n",
    "        'xref': 'paper', 'yref': 'paper',\n",
    "        'text': f\"This graph was generated at {timestamp}\",\n",
    "        'showarrow': False\n",
    "    }]\n",
    "})\n",
    "# Show the plot\n",
    "fig.show()"
   ]
  },
  {
   "cell_type": "markdown",
   "id": "1ea848ac-df98-41d6-8306-444728c80dac",
   "metadata": {
    "id": "1ea848ac-df98-41d6-8306-444728c80dac",
    "jp-MarkdownHeadingCollapsed": true,
    "tags": []
   },
   "source": [
    "## Subplots"
   ]
  },
  {
   "cell_type": "code",
   "execution_count": null,
   "id": "b99a8ccf-8f96-41b6-ba0a-c77372f9a9eb",
   "metadata": {
    "id": "b99a8ccf-8f96-41b6-ba0a-c77372f9a9eb",
    "jupyter": {
     "outputs_hidden": true
    },
    "outputId": "d7353d40-d686-448e-af28-53c98ea181ea",
    "tags": []
   },
   "outputs": [],
   "source": [
    "revenues = pd.read_csv('./Data/revenue_data.csv')\n",
    "revenues['Revenue'] = revenues['Revenue'].astype(float)\n",
    "\n",
    "fig = make_subplots(rows=2, cols=1,\n",
    "    subplot_titles=['Histogram of company revenues', \n",
    "        'Box plot of company revenues'])\n",
    "## Add in traces (fig.add_trace())\n",
    "fig.add_trace(\n",
    "    go.Histogram(x=revenues['Revenue'], nbinsx=5, name='Histogram'),\n",
    "    row=1, col=1\n",
    ")\n",
    "fig.add_trace(\n",
    "    go.Box(x=revenues['Revenue'], hovertext=revenues['Company'], name='Box plot'),\n",
    "    row=2, col=1\n",
    ")\n",
    "fig.update_layout({'title': \n",
    "    {'text': 'Plots of company revenues', 'x': 0.5, 'y': 0.9}\n",
    "})\n",
    "fig.show()"
   ]
  },
  {
   "cell_type": "code",
   "execution_count": null,
   "id": "88c34c34-8173-40f4-a212-1769e11876a1",
   "metadata": {
    "id": "88c34c34-8173-40f4-a212-1769e11876a1",
    "jupyter": {
     "outputs_hidden": true
    },
    "outputId": "802227b5-bd73-4822-e01b-56709812d566",
    "tags": []
   },
   "outputs": [],
   "source": [
    "penguins = pd.read_csv('./Data/penguins.csv')\n",
    "\n",
    "fig = make_subplots(rows=3, cols=1, shared_xaxes=True)\n",
    "row_num = 1\n",
    "for species in penguins['Species'].unique():\n",
    "    df = penguins[penguins['Species']==species]\n",
    "    fig.add_trace(\n",
    "        go.Scatter(\n",
    "            x=df['Culmen Length (mm)'],\n",
    "            y=df['Culmen Depth (mm)'],\n",
    "            name=species, mode='markers'),\n",
    "        row=row_num, col=1\n",
    "    )\n",
    "    row_num += 1\n",
    "fig.show()"
   ]
  },
  {
   "cell_type": "code",
   "execution_count": null,
   "id": "b8caad9b-fc6e-4184-94d3-f234aef3abaf",
   "metadata": {
    "id": "b8caad9b-fc6e-4184-94d3-f234aef3abaf",
    "jupyter": {
     "outputs_hidden": true
    },
    "outputId": "0254617a-04a8-4ed2-efed-dfee4e82c15d",
    "tags": []
   },
   "outputs": [],
   "source": [
    "revenues = pd.read_csv('./Data/revenue_data2.csv')\n",
    "df_tech = revenues[revenues['Industry']=='Tech']\n",
    "df_prof_serve = revenues[revenues['Industry']=='Professional Services']\n",
    "df_retail = revenues[revenues['Industry']=='Retail']\n",
    "df_oil = revenues[revenues['Industry']=='Oil']\n",
    "# Set up the subplots grid\n",
    "fig = make_subplots(rows=2, cols=2,\n",
    "    # Set the subplot titles\n",
    "    subplot_titles=['Tech', 'Professional Services', 'Retail', 'Oil']\n",
    ")\n",
    "# Add the Tech trace\n",
    "fig.add_trace(go.Box(x=df_tech.Revenue.astype(float), name='Tech', \n",
    "    showlegend=False), row=1, col=1)\n",
    "# Add the Professional Services trace\n",
    "fig.add_trace(go.Box(x=df_prof_serve.Revenue.astype(float), name='Professional Services', \n",
    "    showlegend=False), row=1, col=2)\n",
    "# Add the Retail trace\n",
    "fig.add_trace(go.Box(x=df_retail.Revenue.astype(float), name='Retail', \n",
    "    showlegend=False), row=2, col=1)\n",
    "# Add the Oil trace\n",
    "fig.add_trace(go.Box(x=df_oil.Revenue.astype(float), name='Oil', \n",
    "    showlegend=False), row=2, col=2)\n",
    "# Add a title (and show)\n",
    "fig.update_layout({'title': \n",
    "    {'text': 'Box plots of company revenues', 'x': 0.5, 'y': 0.9}})\n",
    "fig.show()"
   ]
  },
  {
   "cell_type": "code",
   "execution_count": null,
   "id": "c67ddaea-4666-443f-9fce-bf365a7bc40a",
   "metadata": {
    "id": "c67ddaea-4666-443f-9fce-bf365a7bc40a",
    "jupyter": {
     "outputs_hidden": true
    },
    "outputId": "e2543c56-9b75-4eba-ccec-ebb066813b95",
    "tags": []
   },
   "outputs": [],
   "source": [
    "revenues = pd.read_csv('./Data/revenue_data2.csv')\n",
    "# Create the subplots\n",
    "fig = make_subplots(rows=3, cols=1, shared_xaxes=True)\n",
    "# Loop through the industries\n",
    "row_num = 1\n",
    "for industry in ['Tech', 'Retail', 'Professional Services']:\n",
    "    df = revenues[revenues.Industry==industry]\n",
    "    # Add a histogram using subsetted df\n",
    "    fig.add_trace(\n",
    "        go.Histogram(x=df['Revenue'].astype(float), name=industry),\n",
    "        # Position the trace\n",
    "        row=row_num, col=1)\n",
    "    row_num += 1\n",
    "# Show the plot\n",
    "fig.show()"
   ]
  },
  {
   "cell_type": "markdown",
   "id": "2b2f3295-9e24-4c6e-a81b-cf249ff49639",
   "metadata": {
    "id": "2b2f3295-9e24-4c6e-a81b-cf249ff49639",
    "jp-MarkdownHeadingCollapsed": true,
    "tags": []
   },
   "source": [
    "## Layering multiple plots"
   ]
  },
  {
   "cell_type": "code",
   "execution_count": null,
   "id": "def58f29-2ef0-4340-bdb7-5c6d1349c8cb",
   "metadata": {
    "id": "def58f29-2ef0-4340-bdb7-5c6d1349c8cb",
    "jupyter": {
     "outputs_hidden": true
    },
    "outputId": "120a73ff-77f4-45f2-d055-1c8d136b68b3",
    "tags": []
   },
   "outputs": [],
   "source": [
    "penguins_grouped = pd.read_csv('./Data/penguins_grouped.csv')\n",
    "# Create the base figure\n",
    "fig = go.Figure()\n",
    "# Loop through the species\n",
    "for species in ['Adelie', 'Chinstrap', 'Gentoo']:\n",
    "    # Add a bar chart trace\n",
    "    fig.add_trace(go.Bar(\n",
    "        x=penguins_grouped['Island'].unique(),\n",
    "        # Set the appropriate y subset and name\n",
    "        y=penguins_grouped[penguins_grouped.Species==species]['Count'],\n",
    "        name=species\n",
    "    ))\n",
    "# Show the figure\n",
    "fig.show()"
   ]
  },
  {
   "cell_type": "code",
   "execution_count": null,
   "id": "a0449f0b-0368-4360-afe9-e61e57c44b49",
   "metadata": {
    "id": "a0449f0b-0368-4360-afe9-e61e57c44b49",
    "jupyter": {
     "outputs_hidden": true
    },
    "outputId": "f7fd83bc-284c-404d-8073-669e40b9a80f",
    "tags": []
   },
   "outputs": [],
   "source": [
    "temp_syd = pd.read_csv('./Data/sydney_temps.csv', \n",
    "    parse_dates=['Date'])\n",
    "temp_syd_avg = pd.read_csv('./Data/sydney_temps_avg.csv', \n",
    "    parse_dates=['Date'])\n",
    "# Create the base figure\n",
    "fig = go.Figure()\n",
    "# Add the bar graph of daily temperatures\n",
    "fig.add_trace(go.Bar(\n",
    "    x=temp_syd['Date'],\n",
    "    y=temp_syd['Temp'],\n",
    "    name='Daily Max Temperature'\n",
    "))\n",
    "# Add the monthly average line graph\n",
    "fig.add_trace(go.Scatter(\n",
    "    x=temp_syd_avg['Date'],\n",
    "    y=temp_syd_avg['Average'],\n",
    "    name='Average Monthly Temperature',\n",
    "    mode='lines+markers'\n",
    "))\n",
    "# Show the plot\n",
    "fig.show()"
   ]
  },
  {
   "cell_type": "markdown",
   "id": "102ec644-5b5e-4e25-ad11-472ef5b65e2e",
   "metadata": {
    "id": "102ec644-5b5e-4e25-ad11-472ef5b65e2e",
    "jp-MarkdownHeadingCollapsed": true,
    "tags": []
   },
   "source": [
    "## Time buttons"
   ]
  },
  {
   "cell_type": "code",
   "execution_count": null,
   "id": "7f621dc2-257c-4c0a-bec5-e8689b8d296f",
   "metadata": {
    "id": "7f621dc2-257c-4c0a-bec5-e8689b8d296f",
    "jupyter": {
     "outputs_hidden": true
    },
    "outputId": "9d1a2225-3343-417d-f0c7-0183ee2df6f1",
    "tags": []
   },
   "outputs": [],
   "source": [
    "rain = pd.read_csv('./Data/rain.csv', \n",
    "    parse_dates=['Date'], dayfirst=True)\n",
    "# Create the buttons\n",
    "date_buttons = [\n",
    "    {'count': 28, 'label': '4WTD', 'step': 'day', 'stepmode': 'todate'},\n",
    "    {'count': 48, 'label': '48HR', 'step': 'hour', 'stepmode': 'todate'},\n",
    "    {'count': 1, 'label': 'YTD', 'step': 'year', 'stepmode': 'todate'}\n",
    "]\n",
    "# Create the basic line chart\n",
    "fig = px.line(data_frame=rain, x='Date', y='Rainfall',\n",
    "    title='Rainfall (mm)')\n",
    "# Add the buttons and show\n",
    "fig.update_layout({\n",
    "    'xaxis': {'rangeselector': {'buttons': date_buttons}}\n",
    "})\n",
    "fig.show()"
   ]
  },
  {
   "cell_type": "code",
   "execution_count": null,
   "id": "5040974e-13c4-4dd5-97dd-9f77b73d2731",
   "metadata": {
    "id": "5040974e-13c4-4dd5-97dd-9f77b73d2731",
    "jupyter": {
     "outputs_hidden": true
    },
    "outputId": "a28420df-1c92-49de-c4f4-db6ccfae37c5",
    "tags": []
   },
   "outputs": [],
   "source": [
    "tesla = pd.read_csv('./Data/AAPL.csv', \n",
    "    parse_dates=['Date'])\n",
    "# Create the basic line chart\n",
    "fig = px.line(data_frame=tesla, x='Date', y='Open',\n",
    "    title=\"Tesla Opening Stock Prices\")\n",
    "# Create the financial buttons\n",
    "fin_buttons = [\n",
    "    {'count': 7, 'label': '1WTD', 'step': 'day', 'stepmode': 'todate'},\n",
    "    {'count': 6, 'label': '6MTD', 'step': 'month', 'stepmode': 'todate'},\n",
    "    {'count': 1, 'label': 'YTD', 'step': 'year', 'stepmode': 'todate'}\n",
    "]\n",
    "# Create the date range buttons & show the plot\n",
    "fig.update_layout({\n",
    "    'xaxis': {'rangeselector': {'buttons': fin_buttons}}\n",
    "})\n",
    "fig.show()"
   ]
  },
  {
   "cell_type": "markdown",
   "id": "e38ba9e6-b766-4480-9d91-4ab50fe514b8",
   "metadata": {
    "id": "e38ba9e6-b766-4480-9d91-4ab50fe514b8",
    "jp-MarkdownHeadingCollapsed": true,
    "tags": []
   },
   "source": [
    "## Custom buttons"
   ]
  },
  {
   "cell_type": "code",
   "execution_count": null,
   "id": "5b8dd608-a0ba-452c-9360-a9afb7ead517",
   "metadata": {
    "id": "5b8dd608-a0ba-452c-9360-a9afb7ead517",
    "jupyter": {
     "outputs_hidden": true
    },
    "outputId": "280b1b60-d369-4f02-93b5-622f5d575881",
    "tags": []
   },
   "outputs": [],
   "source": [
    "revenues = pd.read_csv('./Data/revenue_data2.csv')\n",
    "revenues = revenues[revenues['Industry'].isin(\n",
    "    ['Tech', 'Oil', 'Pharmaceuticals', 'Professional Services'])]\n",
    "revenues['Revenue'] = revenues['Revenue'].astype(float)\n",
    "# Create a simple bar chart\n",
    "fig = px.bar(\n",
    "    data_frame=revenues, x='Industry', y='Revenue',\n",
    "    color='Industry'\n",
    ")\n",
    "# Create the buttons\n",
    "my_buttons = [\n",
    "    {'label': 'Bar plot', 'method': 'update', \n",
    "        'args': [{'type': 'bar'}]},\n",
    "    {'label': 'scatterplot', 'method': 'update',\n",
    "        'args': [{'type': 'scatter', 'mode': 'markers'}]}\n",
    "]\n",
    "# Add buttons to the plot and show\n",
    "fig.update_layout({\n",
    "    'updatemenus': [{\n",
    "        'type': 'buttons',\n",
    "        'direction': 'down',\n",
    "        'x': 1.3, 'y': 0.5,\n",
    "        'showactive': True,\n",
    "        'active': 0,\n",
    "        'buttons': my_buttons\n",
    "    }]\n",
    "})\n",
    "fig.show()"
   ]
  },
  {
   "cell_type": "code",
   "execution_count": null,
   "id": "bd9dc2af-a335-49e6-a6cd-e976eb1da8c2",
   "metadata": {
    "id": "bd9dc2af-a335-49e6-a6cd-e976eb1da8c2",
    "jupyter": {
     "outputs_hidden": true
    },
    "outputId": "c6fde803-4a7d-42cd-9872-b5538efa5302",
    "tags": []
   },
   "outputs": [],
   "source": [
    "sales = pd.read_csv('./Data/monthly_sales.csv', \n",
    "    parse_dates=['Month Start'], dayfirst=True)\n",
    "\n",
    "# Create the basic figure\n",
    "fig = go.Figure()\n",
    "\n",
    "# Add a trace per metric\n",
    "fig.add_trace(go.Bar(\n",
    "    x=sales['Month'], y=sales['Sales Volume'], name='Sales Volume'\n",
    "))\n",
    "fig.add_trace(go.Bar(\n",
    "    x=sales['Month'], y=sales['Sales Value'], name='Sales Value'\n",
    "))\n",
    "# Create annotations\n",
    "volume_annotations = [{\n",
    "    'text': 'Oct was the best', 'showarrow': True, 'x': 'October', 'y': 71900\n",
    "}]\n",
    "value_annotations = [{\n",
    "    'text': 'Sept was the best', 'showarrow': True, 'x': 'September', 'y': 345397\n",
    "}]\n",
    "# Create buttons\n",
    "my_buttons = [\n",
    "    {'label': 'By Sales Value', 'method': 'update', \n",
    "        'args': [{}, {'annotations': value_annotations}]},\n",
    "    {'label': 'By Sales Volume', 'method': 'update',\n",
    "        'args': [{}, {'annotations': volume_annotations}]}\n",
    "]\n",
    "# Add the buttons\n",
    "fig.update_layout({\n",
    "    'updatemenus': [{'type': 'buttons', 'direction': 'down',\n",
    "        'x': 1.3, 'y': 0.5, 'buttons': my_buttons}]\n",
    "})\n",
    "# Take a look at plot so far\n",
    "fig.show()"
   ]
  },
  {
   "cell_type": "markdown",
   "id": "48751b10-9222-4f83-a0cb-fd6396940875",
   "metadata": {
    "id": "48751b10-9222-4f83-a0cb-fd6396940875",
    "jp-MarkdownHeadingCollapsed": true,
    "tags": []
   },
   "source": [
    "## Dropdowns"
   ]
  },
  {
   "cell_type": "code",
   "execution_count": null,
   "id": "0866f857-4f16-492a-be2e-42a68942c77e",
   "metadata": {
    "id": "0866f857-4f16-492a-be2e-42a68942c77e",
    "jupyter": {
     "outputs_hidden": true
    },
    "outputId": "100a8e63-cac6-4d1c-e88f-27263485c428",
    "tags": []
   },
   "outputs": [],
   "source": [
    "# Create the basic figure\n",
    "fig = go.Figure()\n",
    "# Loop through the states\n",
    "pop_growth = pd.read_csv('./Data/pop_growth.csv')\n",
    "pop_growth['LGA code'] = pop_growth['LGA code'].astype(str)\n",
    "for state in ['NSW', 'QLD', 'VIC']:\n",
    "    # Subset the DataFrame\n",
    "    df = pop_growth[pop_growth['State']==state]\n",
    "    # Add a trace for each state subset\n",
    "    fig.add_trace(go.Bar(\n",
    "        x=df['Local Government Area'], y=df['Change %'], name=state\n",
    "    ))\n",
    "# Create the buttons\n",
    "dropdown_buttons = [\n",
    "    {'label': 'ALL', 'method': 'update',\n",
    "        'args': [{'visible': [True, True, True]}, {'title': 'ALL'}]},\n",
    "    {'label': 'NSW', 'method': 'update',\n",
    "        'args': [{'visible': [True, False, False]}, {'title': 'NSW'}]},\n",
    "    {'label': 'QLD', 'method': 'update',\n",
    "        'args': [{'visible': [False, True, False]}, {'title': 'QLD'}]},\n",
    "    {'label': 'VIC', 'method': 'update',\n",
    "        'args': [{'visible': [False, False, True]}, {'title': 'VIC'}]}\n",
    "]\n",
    "# Update the figure to add dropdown menu\n",
    "fig.update_layout({\n",
    "    'updatemenus': [{\n",
    "        'type': 'dropdown',\n",
    "        'x': 1.3,\n",
    "        'y': 0.5,\n",
    "        'showactive': True,\n",
    "        'active': 0,\n",
    "        'buttons': dropdown_buttons\n",
    "    }]\n",
    "})\n",
    "# Show the plot\n",
    "fig.show()"
   ]
  },
  {
   "cell_type": "code",
   "execution_count": null,
   "id": "05f2a8a0-7bd6-4cc0-bfc6-edebb0a1b156",
   "metadata": {
    "id": "05f2a8a0-7bd6-4cc0-bfc6-edebb0a1b156",
    "jupyter": {
     "outputs_hidden": true
    },
    "outputId": "f860d82d-4347-487b-8046-15c7b8b3861c",
    "tags": []
   },
   "outputs": [],
   "source": [
    "# Create the basic figure\n",
    "fig = go.Figure()\n",
    "# Loop through the suburbs\n",
    "house_prices = pd.read_csv('./Data/house_prices.csv')\n",
    "for suburb in ['Greenacre', 'Lakemba']:\n",
    "    # Subset the DataFrame\n",
    "    df = house_prices[house_prices['Suburb']==suburb]\n",
    "    # Add a trace for each suburb subset\n",
    "    fig.add_trace(go.Scatter(\n",
    "        x=df['Year'],\n",
    "        y=df['Median House Price'],\n",
    "        name=suburb, mode='lines'\n",
    "    ))\n",
    "# Annotation\n",
    "ga_annotation = [{\n",
    "    'text': 'Price boom!', 'showarrow': True,\n",
    "    'x': 'Year: 2018', 'y': 712678\n",
    "}]\n",
    "# Create the buttons\n",
    "dropdown_buttons = [\n",
    "    {'label': 'Greenacre', 'method': 'update',\n",
    "        'args': [{'visible': [True, False]}, \n",
    "            {'title': 'Greenacre', 'annotations': ga_annotation}]},\n",
    "    {'label': 'Lakemba', 'method': 'update',\n",
    "        'args': [{'visible': [False, True]},\n",
    "            {'title': 'Lakemba', 'annotations': []}]}\n",
    "]\n",
    "fig.update_layout({\n",
    "    'updatemenus': [{\n",
    "        'type': 'dropdown', 'x': 1.3, 'y': 0.5,\n",
    "        'showactive': True, 'active': 0, 'buttons': dropdown_buttons\n",
    "    }]\n",
    "})\n",
    "# Show the plot\n",
    "fig.show()"
   ]
  },
  {
   "cell_type": "markdown",
   "id": "fc16ce1a-7863-4f0e-9e66-b997feda5c16",
   "metadata": {
    "id": "fc16ce1a-7863-4f0e-9e66-b997feda5c16",
    "jp-MarkdownHeadingCollapsed": true,
    "tags": []
   },
   "source": [
    "## Sliders"
   ]
  },
  {
   "cell_type": "code",
   "execution_count": null,
   "id": "d8291bf2-5d66-4178-9568-28bf3d69643c",
   "metadata": {
    "id": "d8291bf2-5d66-4178-9568-28bf3d69643c"
   },
   "outputs": [],
   "source": [
    "fig = px.scatter(\n",
    "    data_frame=revenues,\n",
    "    x='Employees', y='Revenue', color='Industry',\n",
    "    animation_frame='Year', animation_group='Company'\n",
    ")\n",
    "fig.update_layout({\n",
    "    'xaxis': {'range': [-100000, 2500000]},\n",
    "    'yaxis': {'range': [0, 500000]}\n",
    "})\n",
    "fig['layout'].pop('updatemenus')\n",
    "fig.show()"
   ]
  },
  {
   "cell_type": "code",
   "execution_count": null,
   "id": "94dd4b9d-15b7-44a2-b5bc-d90f0c6db8aa",
   "metadata": {
    "id": "94dd4b9d-15b7-44a2-b5bc-d90f0c6db8aa",
    "jupyter": {
     "outputs_hidden": true
    },
    "outputId": "1f72732d-116e-41ee-f463-550b862509dc",
    "tags": []
   },
   "outputs": [],
   "source": [
    "# Create the basic figure\n",
    "fig = go.Figure()\n",
    "penguins = pd.read_csv('./Data/penguins.csv')\n",
    "# Loop through the island\n",
    "for island in ['Torgersen', 'Biscoe', 'Dream']:\n",
    "    df = penguins[penguins.Island==island]\n",
    "    fig.add_trace(go.Scatter(\n",
    "        x=df['Culmen Length (mm)'],\n",
    "        y=df['Culmen Depth (mm)'],\n",
    "        mode='markers', name=island\n",
    "    ))\n",
    "# Create the slider elements\n",
    "sliders = [{\n",
    "    'steps': [\n",
    "        {'label': 'Torgersen', 'method': 'update',\n",
    "            'args': [{'visible': [True, False, False]}]},\n",
    "        {'label': 'Bisco', 'method': 'update',\n",
    "            'args': [{'visible': [False, True, False]}]},\n",
    "        {'label': 'Dream', 'method': 'update',\n",
    "            'args': [{'visible': [False, False, True]}]}\n",
    "    ]\n",
    "}]\n",
    "# Make traces invisible\n",
    "fig.data[1].visible = False\n",
    "fig.data[2].visible = False\n",
    "# Update the figure to add sliders and show\n",
    "fig.update_layout({'sliders': sliders})\n",
    "# Show the plot\n",
    "fig.show()"
   ]
  },
  {
   "cell_type": "code",
   "execution_count": null,
   "id": "39296cd6-cdc7-46dd-8e9f-f0b7601ca498",
   "metadata": {
    "id": "39296cd6-cdc7-46dd-8e9f-f0b7601ca498",
    "jupyter": {
     "outputs_hidden": true
    },
    "outputId": "e740a80c-6c5d-46ce-c1ca-a927f9976acb",
    "tags": []
   },
   "outputs": [],
   "source": [
    "# Create the basic figure\n",
    "fig = go.Figure()\n",
    "rain_pm = pd.read_csv('./Data/rain_pm.csv')\n",
    "# Loop through the seasons\n",
    "for season in ['Autumn', 'Winter', 'Spring']:\n",
    "    # Subset the DataFrame\n",
    "    df = rain_pm[rain_pm['Season']==season]\n",
    "    # Add a trace for each season\n",
    "    fig.add_trace(go.Bar(\n",
    "        x=df['Month'], y=df['Total Rainfall'], name=season\n",
    "    ))\n",
    "# Create the slider elements\n",
    "sliders = [{\n",
    "    'steps': [\n",
    "        {'label': 'Autumn', 'method': 'update',\n",
    "            'args': [{'visible': [True, False, False]}]},\n",
    "        {'label': 'Winter', 'method': 'update',\n",
    "            'args': [{'visible': [False, True, False]}]},\n",
    "        {'label': 'Spring', 'method': 'update',\n",
    "            'args': [{'visible': [False, False, True]}]}\n",
    "    ]\n",
    "}]\n",
    "# Update the figure to add sliders and show\n",
    "fig.update_layout({'sliders': sliders})\n",
    "# Show the plot\n",
    "fig.show()"
   ]
  }
 ],
 "metadata": {
  "colab": {
   "include_colab_link": true,
   "provenance": []
  },
  "kernelspec": {
   "display_name": "venv",
   "language": "python",
   "name": "venv"
  },
  "language_info": {
   "codemirror_mode": {
    "name": "ipython",
    "version": 3
   },
   "file_extension": ".py",
   "mimetype": "text/x-python",
   "name": "python",
   "nbconvert_exporter": "python",
   "pygments_lexer": "ipython3",
   "version": "3.8.10"
  }
 },
 "nbformat": 4,
 "nbformat_minor": 5
}

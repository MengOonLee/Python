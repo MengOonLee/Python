{
 "cells": [
  {
   "cell_type": "markdown",
   "id": "79af9122-4634-46f7-8bd9-b13b8e088653",
   "metadata": {},
   "source": [
    "# Web Scraping"
   ]
  },
  {
   "cell_type": "markdown",
   "id": "b511ac40-5c08-4a98-88e9-71cacabccb12",
   "metadata": {},
   "source": [
    "## Introduction to HTML"
   ]
  },
  {
   "cell_type": "code",
   "execution_count": 3,
   "id": "00485a85-51e2-4b36-be6a-fd118d633bc0",
   "metadata": {},
   "outputs": [],
   "source": [
    "f = open('test.html', 'w')\n",
    "\n",
    "html = '''\n",
    "<html>\n",
    "  <head>\n",
    "    <title>Website Title</title>\n",
    "    <link rel=\"stylesheet\" type=\"text/css\" href=\"style.css\">\n",
    "  </head>\n",
    "  <body>\n",
    "    <div class=\"class1\" id=\"div1\">\n",
    "      <p class=\"class2\">\n",
    "        Visit <a href=\"http://datacamp.com/\">DataCamp</a>!\n",
    "      </p>\n",
    "    </div>\n",
    "    <div class=\"class1 class3\" id=\"div2\">\n",
    "      <p class=\"class2\">\n",
    "        Or search for it on <a href=\"http://www.google.com\">Google</a>!\n",
    "      </p>\n",
    "    </div>\n",
    "  </body>\n",
    "</html>\n",
    "'''\n",
    "\n",
    "f.write(html)\n",
    "f.close()"
   ]
  },
  {
   "cell_type": "markdown",
   "id": "ef001a8e-cb52-49c7-b503-d929af5d155a",
   "metadata": {},
   "source": [
    "## XPath"
   ]
  },
  {
   "cell_type": "code",
   "execution_count": null,
   "id": "638f46da-fea5-4536-b661-dfa046825a15",
   "metadata": {},
   "outputs": [],
   "source": [
    "xpath = '/html/body/div[2]/p'\n",
    "xpath = '//p'\n",
    "xpath = '//span[@class=\"span-class\"]'\n",
    "\n",
    "# Create an XPath string to direct to children of body element\n",
    "xpath = '/html/body/*'\n",
    "\n",
    "# Create an XPath string to the desired paragraph element\n",
    "xpath = '/html/body/div/div/p'\n",
    "\n",
    "# Create an Xpath string to select desired p element\n",
    "xpath = '//*[@id=\"div3\"]/p'\n",
    "\n",
    "# Create an XPath string to select p element by class\n",
    "xpath = '//p[@class=\"class-1 class-2\"]'\n",
    "\n",
    "# Create an xpath to the href attribute\n",
    "xpath = '//p[@id=\"p2\"]/a/@href'\n",
    "\n",
    "# Create an xpath to the href attributes\n",
    "xpath = '//a[contains(@class,\"package-snippet\")]/@href'"
   ]
  }
 ],
 "metadata": {
  "kernelspec": {
   "display_name": "venv",
   "language": "python",
   "name": "venv"
  },
  "language_info": {
   "codemirror_mode": {
    "name": "ipython",
    "version": 3
   },
   "file_extension": ".py",
   "mimetype": "text/x-python",
   "name": "python",
   "nbconvert_exporter": "python",
   "pygments_lexer": "ipython3",
   "version": "3.8.10"
  }
 },
 "nbformat": 4,
 "nbformat_minor": 5
}

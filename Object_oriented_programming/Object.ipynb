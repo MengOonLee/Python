{
 "cells": [
  {
   "cell_type": "markdown",
   "id": "e86c5576",
   "metadata": {},
   "source": [
    "# Object-oriented programming"
   ]
  },
  {
   "cell_type": "markdown",
   "id": "2aeae45d",
   "metadata": {},
   "source": [
    "---\n",
    "## Object\n",
    "An object is a group of data and functions."
   ]
  },
  {
   "cell_type": "code",
   "execution_count": 1,
   "id": "9ca32d03",
   "metadata": {},
   "outputs": [
    {
     "name": "stdout",
     "output_type": "stream",
     "text": [
      "Welcome to object-oriented programming\n"
     ]
    }
   ],
   "source": [
    "class OOPCourse:\n",
    "    def welcome(self):\n",
    "        print(\"Welcome to object-oriented programming\")\n",
    "        \n",
    "oop_course = OOPCourse()\n",
    "oop_course.welcome()"
   ]
  },
  {
   "cell_type": "markdown",
   "id": "2fedb71a",
   "metadata": {},
   "source": [
    "### Using Python's turtle module to create a turtle race."
   ]
  },
  {
   "cell_type": "code",
   "execution_count": null,
   "id": "0259067f",
   "metadata": {},
   "outputs": [],
   "source": [
    "from turtle import Turtle\n",
    "\n",
    "# Instance of an Turtle object. \n",
    "# Class names usuall start with a capital.\n",
    "laura = Turtle()\n",
    "# Object has attributes for color and shape.\n",
    "laura.color('red')\n",
    "laura.shape('turtle')\n",
    "# Stop drawing\n",
    "laura.penup()\n",
    "# Move to a location\n",
    "laura.goto(-160, 100)\n",
    "# Draw a line\n",
    "laura.pendown()\n",
    "\n",
    "# Generate random integers.\n",
    "from random import randint\n",
    "# Move forward by a random number of pixels.\n",
    "for movement in range(100):\n",
    "    laura.forward(randint(1, 5))\n",
    "# Prevent close the window before see the output\n",
    "input(\"Press Enter to close\")"
   ]
  },
  {
   "cell_type": "markdown",
   "id": "666af37a",
   "metadata": {},
   "source": [
    "## Functions\n",
    "Functions are a set of instructions.\n",
    "\n",
    "A function is called on an object, which requires a **class**."
   ]
  },
  {
   "cell_type": "code",
   "execution_count": 3,
   "id": "7aff472f",
   "metadata": {},
   "outputs": [
    {
     "name": "stdout",
     "output_type": "stream",
     "text": [
      "Knock knock\n",
      "Who's there\n",
      "Atch\n",
      "Atch who\n",
      "Sounds like you've got a cold!\n"
     ]
    }
   ],
   "source": [
    "# Tell a knock knock joke if introduction and punchline are provide.\n",
    "def tell(intro, punchline):\n",
    "    print(\"Knock knock\")\n",
    "    print(\"Who's there\")\n",
    "    print(intro)\n",
    "    print(intro + \" who\")\n",
    "    print(punchline)\n",
    "\n",
    "# Call this function by passing the intro and punchline of the joke\n",
    "tell(\"Atch\", \"Sounds like you've got a cold!\")"
   ]
  },
  {
   "cell_type": "code",
   "execution_count": null,
   "id": "bbf248f5",
   "metadata": {},
   "outputs": [],
   "source": []
  }
 ],
 "metadata": {
  "kernelspec": {
   "display_name": "env",
   "language": "python",
   "name": "env"
  },
  "language_info": {
   "codemirror_mode": {
    "name": "ipython",
    "version": 3
   },
   "file_extension": ".py",
   "mimetype": "text/x-python",
   "name": "python",
   "nbconvert_exporter": "python",
   "pygments_lexer": "ipython3",
   "version": "3.8.5"
  }
 },
 "nbformat": 4,
 "nbformat_minor": 5
}
